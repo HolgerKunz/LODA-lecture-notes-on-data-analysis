{
 "metadata": {
  "celltoolbar": "Slideshow",
  "name": "",
  "signature": "sha256:58df5fcd56abc8e50c4e2615fa5f7f187b016053cbb259eeef2b8d1e07279ec5"
 },
 "nbformat": 3,
 "nbformat_minor": 0,
 "worksheets": [
  {
   "cells": [
    {
     "cell_type": "markdown",
     "metadata": {
      "internals": {
       "slide_helper": "subslide_end",
       "slide_type": "subslide"
      },
      "slide_helper": "subslide_end",
      "slideshow": {
       "slide_type": "slide"
      }
     },
     "source": [
      "# Machine Learning in a Nutshell with scikit-learn\n",
      "    \n",
      "## Unsupervised Learning: Clustering\n",
      "\n",
      "\n",
      "by \n",
      "\n",
      "[__Michael Granitzer__ (michael.granitzer@uni-passau.de)]( http://www.mendeley.com/profiles/michael-granitzer/)\n",
      "\n",
      "with examples taken from the scikit-learn documentation under http://scikit-learn.org/stable/\n",
      "\n",
      "\n",
      "__License__\n",
      "\n",
      "This work is licensed under a [Creative Commons Attribution 3.0 Unported License](http://creativecommons.org/licenses/by/3.0/)\n"
     ]
    },
    {
     "cell_type": "markdown",
     "metadata": {
      "internals": {
       "slide_helper": "subslide_end",
       "slide_type": "subslide"
      },
      "slide_helper": "slide_end",
      "slideshow": {
       "slide_type": "subslide"
      }
     },
     "source": [
      "##Outline\n",
      "\n",
      "1. Overview\n",
      "2. Partition-based, iterative Clustering - K-Means\n",
      "3. Hierarchical Agglomerative Clustering - Ward\n",
      "4. Density based Clustering - DBSCAN\n",
      "5. Evaluation Measures"
     ]
    },
    {
     "cell_type": "heading",
     "level": 1,
     "metadata": {
      "heading_collapsed": false,
      "internals": {
       "slide_type": "subslide"
      },
      "slideshow": {
       "slide_type": "slide"
      }
     },
     "source": [
      "Overview"
     ]
    },
    {
     "cell_type": "markdown",
     "metadata": {
      "internals": {
       "frag_number": 3,
       "slide_helper": "subslide_end"
      },
      "slide_helper": "subslide_end",
      "slideshow": {
       "slide_type": "fragment"
      }
     },
     "source": [
      "Unsupervised learning aims to find hidden structures in data. \n",
      "\n",
      "* **Clustering** identifies groups of similar data samples. Data samples should be maximize intra group similarity and mininmize intergroup similarity.\n",
      "\n",
      "* **Dimensionality Projection** aims to project a high-dimensional space into a low dimensional space\n",
      "\n",
      "* **Manifold Learning** aims to indentify lower-dimensional subspaces that contain a particular structure of data samples\n",
      "\n"
     ]
    },
    {
     "cell_type": "heading",
     "level": 2,
     "metadata": {
      "heading_collapsed": false,
      "internals": {
       "frag_helper": "fragment_end",
       "frag_number": 3,
       "slide_type": "subslide"
      },
      "slideshow": {
       "slide_type": "subslide"
      }
     },
     "source": [
      "Clustering\n"
     ]
    },
    {
     "cell_type": "markdown",
     "metadata": {
      "internals": {
       "frag_helper": "fragment_end",
       "frag_number": 5,
       "slide_helper": "subslide_end"
      },
      "slide_helper": "subslide_end",
      "slideshow": {
       "slide_type": "fragment"
      }
     },
     "source": [
      "\n",
      "**Clustering**: Group $n$ data samples into $k$ clusters where the similarity among samples **within a cluster is maximized** and the similarity **between cluster is minimized**\n",
      "\n",
      "For the underlying theory please refer to Tang et. al. 2007 or the [Lecture Notes on the Course Machine Learning and Data Mining](http://www.uni-weimar.de/en/media/chairs/webis/teaching/lecturenotes/#machine-learning). Here we cover only the basics necessary and the application in scikit-learn"
     ]
    },
    {
     "cell_type": "heading",
     "level": 2,
     "metadata": {
      "heading_collapsed": false,
      "internals": {
       "frag_helper": "fragment_end",
       "frag_number": 5,
       "slide_type": "subslide"
      },
      "slideshow": {
       "slide_type": "subslide"
      }
     },
     "source": [
      "Input Data"
     ]
    },
    {
     "cell_type": "markdown",
     "metadata": {
      "internals": {
       "frag_helper": "fragment_end",
       "frag_number": 7,
       "slide_helper": "subslide_end"
      },
      "slide_helper": "subslide_end",
      "slideshow": {
       "slide_type": "fragment"
      }
     },
     "source": [
      "In scikit-learn, input to a clustering can take two different forms:\n",
      "\n",
      "1. As a matrix consisting of `n_samples` and `n_features`\n",
      "2. As a similarity (distance/dissimilarity) matrix of shape `[n_samples, n_samples]`\n",
      "\n",
      "Given a **similarty measure** or **distance metric** between samples, the first approach can always be converted in the second approach. \n"
     ]
    },
    {
     "cell_type": "heading",
     "level": 2,
     "metadata": {
      "heading_collapsed": false,
      "internals": {
       "frag_helper": "fragment_end",
       "frag_number": 7,
       "slide_type": "subslide"
      },
      "slideshow": {
       "slide_type": "subslide"
      }
     },
     "source": [
      "Overview of clustering methods in scikit-learn"
     ]
    },
    {
     "cell_type": "markdown",
     "metadata": {
      "internals": {
       "frag_helper": "fragment_end",
       "frag_number": 9,
       "slide_helper": "subslide_end"
      },
      "slide_helper": "slide_end",
      "slideshow": {
       "slide_type": "fragment"
      }
     },
     "source": [
      "The following image gives an overview over scikit learn methods. Please note that \n",
      "\n",
      "<img src=\"http://scikit-learn.org/stable/_images/plot_cluster_comparison_001.png\">\n",
      "\n",
      "Image taken from [scikit-learn](http://scikit-learn.org/stable/auto_examples/cluster/plot_cluster_comparison.html). You can find the generating code under `modules/plot_cluster_comparison.py`.\n",
      "\n",
      "For the theory behind the different methods please see the [Lecture Notes on Cluster Analysis](http://www.uni-weimar.de/en/media/chairs/webis/teaching/lecturenotes/#machine-learning)"
     ]
    },
    {
     "cell_type": "heading",
     "level": 1,
     "metadata": {
      "heading_collapsed": false,
      "internals": {
       "frag_helper": "fragment_end",
       "frag_number": 9,
       "slide_type": "subslide"
      },
      "slideshow": {
       "slide_type": "slide"
      }
     },
     "source": [
      "K-Means Clustering"
     ]
    },
    {
     "cell_type": "markdown",
     "metadata": {
      "internals": {
       "frag_helper": "fragment_end",
       "frag_number": 11,
       "slide_helper": "subslide_end"
      },
      "slide_helper": "subslide_end",
      "slideshow": {
       "slide_type": "fragment"
      }
     },
     "source": [
      "k-means is an iterative, partitioning clustering algorithm that minimizes\n",
      "\n",
      "$$J(X,C)=\\sum_{i=0}^{|X|}\\min_{\\mu_j\\in C}(||x_i-\\mu_j||^2)$$\n",
      "\n",
      "with $X$ being the samples, $C$ being the number of clusters and $\\mu_j$ being the representative of a cluster $c_j\\in C$.\n",
      "\n",
      "So basically it searches for a set of clusters that minimizes the squared distances of all data points to the cluster representative. In case of k-**means** the cluster representative is the mean vector of its data points"
     ]
    },
    {
     "cell_type": "markdown",
     "metadata": {
      "internals": {
       "frag_helper": "fragment_end",
       "frag_number": 11,
       "slide_helper": "subslide_end",
       "slide_type": "subslide"
      },
      "slide_helper": "subslide_end",
      "slideshow": {
       "slide_type": "subslide"
      }
     },
     "source": [
      "### Algorithm Sketch\n",
      "\n",
      "1. **Initalise** $C$ by selecting $k$ cluster representatives $\\mu_1 \\ldots \\mu_k$\n",
      "2. **Partition** the data according to the cluster representatives, i.e. assign $x_i$ to the cluster $argmin_{\\mu_j\\in \\{\\mu_1 \\ldots \\mu_k\\}}(||x_i-\\mu_j||^2) $\n",
      "3. **Recalculate** the cluster representatives $\\mu_1 \\ldots \\mu_k$ as $\\mu_j=\\frac{1}{|c_j|}\\sum_{x_i \\in c_j}x_i$\n",
      "4. If the parition changed or a number of iteration is exceeded, stop. Otherwise go to 2."
     ]
    },
    {
     "cell_type": "markdown",
     "metadata": {
      "internals": {
       "frag_helper": "fragment_end",
       "frag_number": 11,
       "slide_type": "subslide"
      },
      "slideshow": {
       "slide_type": "subslide"
      }
     },
     "source": [
      "### Usage in scikit-learn\n",
      "\n",
      "* Module: `from sklearn.cluster import KMeans`\n",
      "* Instantiate a object `kmeans = KMeans(....parameters...)`\n",
      "* Fit to data: `model = kmeans.fit(data)`\n",
      "* Assign data to cluster: `model.predict (data)`"
     ]
    },
    {
     "cell_type": "code",
     "collapsed": false,
     "input": [
      "from sklearn.cluster import KMeans\n",
      "help(KMeans)"
     ],
     "language": "python",
     "metadata": {
      "internals": {
       "frag_helper": "fragment_end",
       "frag_number": 14,
       "slide_helper": "subslide_end"
      },
      "slide_helper": "subslide_end",
      "slideshow": {
       "slide_type": "fragment"
      }
     },
     "outputs": [
      {
       "output_type": "stream",
       "stream": "stdout",
       "text": [
        "Help on class KMeans in module sklearn.cluster.k_means_:\n",
        "\n",
        "class KMeans(sklearn.base.BaseEstimator, sklearn.base.ClusterMixin, sklearn.base.TransformerMixin)\n",
        " |  K-Means clustering\n",
        " |  \n",
        " |  Parameters\n",
        " |  ----------\n",
        " |  \n",
        " |  n_clusters : int, optional, default: 8\n",
        " |      The number of clusters to form as well as the number of\n",
        " |      centroids to generate.\n",
        " |  \n",
        " |  max_iter : int, default: 300\n",
        " |      Maximum number of iterations of the k-means algorithm for a\n",
        " |      single run.\n",
        " |  \n",
        " |  n_init : int, default: 10\n",
        " |      Number of time the k-means algorithm will be run with different\n",
        " |      centroid seeds. The final results will be the best output of\n",
        " |      n_init consecutive runs in terms of inertia.\n",
        " |  \n",
        " |  init : {'k-means++', 'random' or an ndarray}\n",
        " |      Method for initialization, defaults to 'k-means++':\n",
        " |  \n",
        " |      'k-means++' : selects initial cluster centers for k-mean\n",
        " |      clustering in a smart way to speed up convergence. See section\n",
        " |      Notes in k_init for more details.\n",
        " |  \n",
        " |      'random': choose k observations (rows) at random from data for\n",
        " |      the initial centroids.\n",
        " |  \n",
        " |      If an ndarray is passed, it should be of shape (n_clusters, n_features)\n",
        " |      and gives the initial centers.\n",
        " |  \n",
        " |  precompute_distances : boolean, default: True\n",
        " |      Precompute distances (faster but takes more memory).\n",
        " |  \n",
        " |  tol : float, default: 1e-4\n",
        " |      Relative tolerance with regards to inertia to declare convergence\n",
        " |  \n",
        " |  n_jobs : int, default: 1\n",
        " |      The number of jobs to use for the computation. This works by breaking\n",
        " |      down the pairwise matrix into n_jobs even slices and computing them in\n",
        " |      parallel.\n",
        " |  \n",
        " |      If -1 all CPUs are used. If 1 is given, no parallel computing code is\n",
        " |      used at all, which is useful for debugging. For n_jobs below -1,\n",
        " |      (n_cpus + 1 + n_jobs) are used. Thus for n_jobs = -2, all CPUs but one\n",
        " |      are used.\n",
        " |  \n",
        " |  random_state : integer or numpy.RandomState, optional\n",
        " |      The generator used to initialize the centers. If an integer is\n",
        " |      given, it fixes the seed. Defaults to the global numpy random\n",
        " |      number generator.\n",
        " |  \n",
        " |  Attributes\n",
        " |  ----------\n",
        " |  `cluster_centers_` : array, [n_clusters, n_features]\n",
        " |      Coordinates of cluster centers\n",
        " |  \n",
        " |  `labels_` :\n",
        " |      Labels of each point\n",
        " |  \n",
        " |  `inertia_` : float\n",
        " |      Sum of distances of samples to their closest cluster center.\n",
        " |  \n",
        " |  Notes\n",
        " |  ------\n",
        " |  The k-means problem is solved using Lloyd's algorithm.\n",
        " |  \n",
        " |  The average complexity is given by O(k n T), were n is the number of\n",
        " |  samples and T is the number of iteration.\n",
        " |  \n",
        " |  The worst case complexity is given by O(n^(k+2/p)) with\n",
        " |  n = n_samples, p = n_features. (D. Arthur and S. Vassilvitskii,\n",
        " |  'How slow is the k-means method?' SoCG2006)\n",
        " |  \n",
        " |  In practice, the k-means algorithm is very fast (one of the fastest\n",
        " |  clustering algorithms available), but it falls in local minima. That's why\n",
        " |  it can be useful to restart it several times.\n",
        " |  \n",
        " |  See also\n",
        " |  --------\n",
        " |  \n",
        " |  MiniBatchKMeans:\n",
        " |      Alternative online implementation that does incremental updates\n",
        " |      of the centers positions using mini-batches.\n",
        " |      For large scale learning (say n_samples > 10k) MiniBatchKMeans is\n",
        " |      probably much faster to than the default batch implementation.\n",
        " |  \n",
        " |  Method resolution order:\n",
        " |      KMeans\n",
        " |      sklearn.base.BaseEstimator\n",
        " |      sklearn.base.ClusterMixin\n",
        " |      sklearn.base.TransformerMixin\n",
        " |      __builtin__.object\n",
        " |  \n",
        " |  Methods defined here:\n",
        " |  \n",
        " |  __init__(self, n_clusters=8, init='k-means++', n_init=10, max_iter=300, tol=0.0001, precompute_distances=True, verbose=0, random_state=None, copy_x=True, n_jobs=1)\n",
        " |  \n",
        " |  fit(self, X, y=None)\n",
        " |      Compute k-means clustering.\n",
        " |      \n",
        " |      Parameters\n",
        " |      ----------\n",
        " |      X : array-like or sparse matrix, shape=(n_samples, n_features)\n",
        " |  \n",
        " |  fit_predict(self, X)\n",
        " |      Compute cluster centers and predict cluster index for each sample.\n",
        " |      \n",
        " |      Convenience method; equivalent to calling fit(X) followed by\n",
        " |      predict(X).\n",
        " |  \n",
        " |  fit_transform(self, X, y=None)\n",
        " |      Compute clustering and transform X to cluster-distance space.\n",
        " |      \n",
        " |      Equivalent to fit(X).transform(X), but more efficiently implemented.\n",
        " |  \n",
        " |  predict(self, X)\n",
        " |      Predict the closest cluster each sample in X belongs to.\n",
        " |      \n",
        " |      In the vector quantization literature, `cluster_centers_` is called\n",
        " |      the code book and each value returned by `predict` is the index of\n",
        " |      the closest code in the code book.\n",
        " |      \n",
        " |      Parameters\n",
        " |      ----------\n",
        " |      X : {array-like, sparse matrix}, shape = [n_samples, n_features]\n",
        " |          New data to predict.\n",
        " |      \n",
        " |      Returns\n",
        " |      -------\n",
        " |      labels : array, shape [n_samples,]\n",
        " |          Index of the cluster each sample belongs to.\n",
        " |  \n",
        " |  score(self, X)\n",
        " |      Opposite of the value of X on the K-means objective.\n",
        " |      \n",
        " |      Parameters\n",
        " |      ----------\n",
        " |      X : {array-like, sparse matrix}, shape = [n_samples, n_features]\n",
        " |          New data.\n",
        " |      \n",
        " |      Returns\n",
        " |      -------\n",
        " |      score : float\n",
        " |          Opposite of the value of X on the K-means objective.\n",
        " |  \n",
        " |  transform(self, X, y=None)\n",
        " |      Transform X to a cluster-distance space.\n",
        " |      \n",
        " |      In the new space, each dimension is the distance to the cluster\n",
        " |      centers.  Note that even if X is sparse, the array returned by\n",
        " |      `transform` will typically be dense.\n",
        " |      \n",
        " |      Parameters\n",
        " |      ----------\n",
        " |      X : {array-like, sparse matrix}, shape = [n_samples, n_features]\n",
        " |          New data to transform.\n",
        " |      \n",
        " |      Returns\n",
        " |      -------\n",
        " |      X_new : array, shape [n_samples, k]\n",
        " |          X transformed in the new space.\n",
        " |  \n",
        " |  ----------------------------------------------------------------------\n",
        " |  Methods inherited from sklearn.base.BaseEstimator:\n",
        " |  \n",
        " |  __repr__(self)\n",
        " |  \n",
        " |  get_params(self, deep=True)\n",
        " |      Get parameters for this estimator.\n",
        " |      \n",
        " |      Parameters\n",
        " |      ----------\n",
        " |      deep: boolean, optional\n",
        " |          If True, will return the parameters for this estimator and\n",
        " |          contained subobjects that are estimators.\n",
        " |      \n",
        " |      Returns\n",
        " |      -------\n",
        " |      params : mapping of string to any\n",
        " |          Parameter names mapped to their values.\n",
        " |  \n",
        " |  set_params(self, **params)\n",
        " |      Set the parameters of this estimator.\n",
        " |      \n",
        " |      The method works on simple estimators as well as on nested objects\n",
        " |      (such as pipelines). The former have parameters of the form\n",
        " |      ``<component>__<parameter>`` so that it's possible to update each\n",
        " |      component of a nested object.\n",
        " |      \n",
        " |      Returns\n",
        " |      -------\n",
        " |      self\n",
        " |  \n",
        " |  ----------------------------------------------------------------------\n",
        " |  Data descriptors inherited from sklearn.base.BaseEstimator:\n",
        " |  \n",
        " |  __dict__\n",
        " |      dictionary for instance variables (if defined)\n",
        " |  \n",
        " |  __weakref__\n",
        " |      list of weak references to the object (if defined)\n",
        "\n"
       ]
      }
     ],
     "prompt_number": 1
    },
    {
     "cell_type": "markdown",
     "metadata": {
      "internals": {
       "frag_helper": "fragment_end",
       "frag_number": 14,
       "slide_helper": "subslide_end",
       "slide_type": "subslide"
      },
      "slide_helper": "subslide_end",
      "slideshow": {
       "slide_type": "subslide"
      }
     },
     "source": [
      "### Some Algorithmic Properties\n",
      "\n",
      "* k-means is very sensitive to the starting points $\\mu_i$\n",
      "* k-means needs to know the number of clusters a-priori\n",
      "* k-means can be applied on one sample per iteration (i.e. assignment and recalculation per sample), which is called online (or stochastic) k-means. Going over all samples before recalculating the representatives is called batch. There a differences in convergence rate and stopping criterion.\n",
      "* k-means finds only cluster of approximately similar size that induce a voronoi partition\n",
      "\n",
      "<a href=\"http://scikit-learn.org/stable/auto_examples/cluster/plot_kmeans_digits.html\" target=\"_blank\"><img src=\"http://scikit-learn.org/stable/_images/plot_kmeans_digits_001.png\"></a>\n",
      "(image from scikit Learn. You can find the generating code under `modules/plot_kmeans_digits.py`)"
     ]
    },
    {
     "cell_type": "markdown",
     "metadata": {
      "internals": {
       "frag_helper": "fragment_end",
       "frag_number": 14,
       "slide_type": "subslide"
      },
      "slideshow": {
       "slide_type": "subslide"
      }
     },
     "source": [
      "### Exercise 2.1: Apply scikit-learn k-means using Random Data\n",
      "\n",
      "In this exercise you should apply the scikit-learn k-means algorithm (`from sklearn.cluster import KMeans`) and evaluate it visually on a 2D dataset that is randomly created using a uniform and normal distribution (use `numpy.random.randn` and `numpy.random.ranf`). \n",
      "\n",
      "* Read on the parameter settings and try different setting to better fit the algorithm to the data. Can you find the perfect solution for **this** particular data set?\n",
      "* How could you estimate the number of clusters $k$?\n"
     ]
    },
    {
     "cell_type": "code",
     "collapsed": false,
     "input": [
      "import numpy as np\n",
      "%pylab inline\n",
      "import pylab as pl\n",
      "#create the data \n",
      "normal2D= np.array(np.random.randn(100,2))*2+1\n",
      "normal2D= np.append(normal2D,np.random.randn(100,2)*3+10,axis=0)\n",
      "normal2D= np.append(normal2D,np.random.randn(100,2)*1-3,axis=0)\n",
      "\n",
      "uniform2D= np.array(np.random.ranf((100,2))*2+1)\n",
      "uniform2D= np.append(uniform2D,np.random.ranf((100,2))*3+3,axis=0)\n",
      "uniform2D= np.append(uniform2D,np.random.ranf((100,2))*1-3,axis=0)\n",
      "#plot the data\n",
      "pl.subplot(1,2,1)\n",
      "pl.plot(normal2D[:,0],normal2D[:,1],\".\")\n",
      "pl.subplot(1,2,2)\n",
      "pl.plot(uniform2D[:,0],uniform2D[:,1],\".\")\n",
      "pl.show()"
     ],
     "language": "python",
     "metadata": {
      "internals": {
       "frag_helper": "fragment_end",
       "frag_number": 17
      },
      "slideshow": {
       "slide_type": "fragment"
      }
     },
     "outputs": [
      {
       "output_type": "stream",
       "stream": "stdout",
       "text": [
        "Populating the interactive namespace from numpy and matplotlib\n"
       ]
      },
      {
       "metadata": {},
       "output_type": "display_data",
       "png": "[encoded data removed]",
       "text": [
        "<matplotlib.figure.Figure at 0x10a322650>"
       ]
      }
     ],
     "prompt_number": 2
    },
    {
     "cell_type": "code",
     "collapsed": false,
     "input": [
      "from sklearn.cluster import KMeans\n",
      "kmeans = KMeans(init='random', n_clusters=2,n_init=1)\n",
      "kn2d = kmeans.fit(normal2D)\n",
      "ku2d = kmeans.fit(uniform2D)\n",
      "labels_normal = kn2d.predict(normal2D)\n",
      "labels_uniform = ku2d.predict(uniform2D)\n",
      "#and plot it\n",
      "pl.subplot(1,2,1)\n",
      "pl.scatter(normal2D[:,0],normal2D[:,1],c=labels_normal)\n",
      "pl.subplot(1,2,2)\n",
      "pl.scatter(uniform2D[:,0],uniform2D[:,1],c=labels_uniform)\n",
      "pl.show()"
     ],
     "language": "python",
     "metadata": {
      "internals": {
       "frag_helper": "fragment_end",
       "frag_number": 18
      },
      "slideshow": {
       "slide_type": "fragment"
      }
     },
     "outputs": [
      {
       "metadata": {},
       "output_type": "display_data",
       "png": "[encoded data removed]",
       "text": [
        "<matplotlib.figure.Figure at 0x10b1ac310>"
       ]
      }
     ],
     "prompt_number": 3
    },
    {
     "cell_type": "markdown",
     "metadata": {
      "internals": {
       "frag_helper": "fragment_end",
       "frag_number": 19
      },
      "slideshow": {
       "slide_type": "fragment"
      }
     },
     "source": [
      "#### Homework\n",
      "\n",
      "Go through the scikit learn tutorials on \n",
      " - [Comparison of the K-Means and MiniBatchKMeans](http://scikit-learn.org/stable/auto_examples/cluster/plot_mini_batch_kmeans.html#example-cluster-plot-mini-batch-kmeans-py)\n",
      " - [Online learning of a dictionary of parts of faces](http://scikit-learn.org/stable/auto_examples/cluster/plot_dict_face_patches.html#example-cluster-plot-dict-face-patches-py)\n",
      " - [Clustering text documents using k-means](http://scikit-learn.org/stable/auto_examples/document_clustering.html#example-document-clustering-py)\n",
      " \n",
      "Answer the following questions:\n",
      " - Explain the differences on stochastic and batch k-means\n",
      " - Estimate the impact of the k-means parameters (k, seeding) on learning patches of faces\n",
      " - Calculate the representative keywords for each cluster when clustering text\n",
      " "
     ]
    },
    {
     "cell_type": "heading",
     "level": 1,
     "metadata": {
      "heading_collapsed": false,
      "internals": {
       "frag_helper": "fragment_end",
       "frag_number": 19,
       "slide_helper": "subslide_end"
      },
      "slide_helper": "slide_end",
      "slideshow": {
       "slide_type": "slide"
      }
     },
     "source": [
      "Hierarchical Agglomerative Clustering"
     ]
    },
    {
     "cell_type": "markdown",
     "metadata": {
      "internals": {
       "frag_helper": "fragment_end",
       "frag_number": 19,
       "slide_helper": "subslide_end",
       "slide_type": "subslide"
      },
      "slide_helper": "subslide_end",
      "slideshow": {
       "slide_type": "slide"
      }
     },
     "source": [
      "* Hierarchical Agglomerative Clustering forms a family of clustering algorithms that build hierarchically nested clusters\n",
      "* The resulting tree is called a dendrogram\n",
      "* Agglomerative means bottom up:\n",
      "  - First, all data points form a single cluster\n",
      "  - Second, nearest clusters are merged until only one cluster remains\n",
      "* Critical is the distance measure between clusters (i.e. group of data samples)\n",
      "\n",
      "For the theory behind the different methods please see the [Lecture Notes on Cluster Analysis](http://www.uni-weimar.de/en/media/chairs/webis/teaching/lecturenotes/#machine-learning)"
     ]
    },
    {
     "cell_type": "markdown",
     "metadata": {
      "internals": {
       "frag_helper": "fragment_end",
       "frag_number": 19,
       "slide_helper": "subslide_end",
       "slide_type": "subslide"
      },
      "slide_helper": "subslide_end",
      "slideshow": {
       "slide_type": "subslide"
      }
     },
     "source": [
      "### Usage in scikit-learn\n",
      "\n",
      "Scikit implements the Ward algorithm (i.e. HAC using Ward Criterion for variance-minimization)\n",
      "* Module: `from sklearn.cluster import Ward`\n",
      "* Instantiate a object `ward = Ward(....parameters...)`\n",
      "* Fit to data: `model = ward.fit(data)`\n",
      "* (Optional) Assign new data to cluster: `model.predict (data)`\n",
      "\n",
      "Scikit also allows to add connectivity constraints, i.e. that cluster only merge with certain other samples. This can be helpful for image clustering when limiting clusters to form homogeneous regions in the image"
     ]
    },
    {
     "cell_type": "markdown",
     "metadata": {
      "internals": {
       "frag_helper": "fragment_end",
       "frag_number": 19,
       "slide_type": "subslide"
      },
      "slideshow": {
       "slide_type": "subslide"
      }
     },
     "source": [
      "### Exercise: Using HAC for Image Clustering\n",
      "\n",
      "Go through the source code of the structured [Ward Demo on the scikit-learn homepage](http://scikit-learn.org/stable/auto_examples/cluster/plot_lena_ward_segmentation.html#example-cluster-plot-lena-ward-segmentation-py).\n",
      "\n",
      "* Go through the code and try to understand what happens\n",
      "* Change the number of clusters and see the effect.\n",
      "* Change the downsampling rate of the image to a factor of 100 (or more) and remove the connectivity constraint. What happens and why?"
     ]
    },
    {
     "cell_type": "code",
     "collapsed": false,
     "input": [
      "# Author : Vincent Michel, 2010\n",
      "#          Alexandre Gramfort, 2011\n",
      "# License: BSD 3 clause\n",
      "\n",
      "print(__doc__)\n",
      "\n",
      "import time as time\n",
      "import numpy as np\n",
      "import scipy as sp\n",
      "import pylab as pl\n",
      "from sklearn.feature_extraction.image import grid_to_graph\n",
      "from sklearn.cluster import Ward\n",
      "\n",
      "###############################################################################\n",
      "# Generate data\n",
      "lena = sp.misc.lena()\n",
      "# Downsample the image by a factor of 100\n",
      "lena = lena[::10, ::10] + lena[1::10, ::10] + lena[::10, 1::10] + lena[1::10, 1::10]\n",
      "X = np.reshape(lena, (-1, 1))\n",
      "\n",
      "###############################################################################\n",
      "# Define the structure A of the data. Pixels connected to their neighbors.\n",
      "connectivity = grid_to_graph(*lena.shape)\n",
      "\n",
      "###############################################################################\n",
      "# Compute clustering\n",
      "print(\"Compute structured hierarchical clustering...\")\n",
      "st = time.time()\n",
      "n_clusters = 15  # number of regions\n",
      "ward = Ward(n_clusters=n_clusters, connectivity=connectivity).fit(X) # with conenctivity\n",
      "#ward = Ward(n_clusters=n_clusters).fit(X) # without\n",
      "label = np.reshape(ward.labels_, lena.shape)\n",
      "print(\"Elapsed time: \", time.time() - st)\n",
      "print(\"Number of pixels: \", label.size)\n",
      "print(\"Number of clusters: \", np.unique(label).size)\n",
      "\n",
      "###############################################################################\n",
      "# Plot the results on an image\n",
      "pl.figure(figsize=(5, 5))\n",
      "pl.imshow(lena, cmap=pl.cm.gray)\n",
      "for l in range(n_clusters):\n",
      "    pl.contour(label == l, contours=1,\n",
      "               colors=[pl.cm.spectral(l / float(n_clusters)), ])\n",
      "pl.xticks(())\n",
      "pl.yticks(())\n",
      "pl.show()"
     ],
     "language": "python",
     "metadata": {
      "internals": {
       "frag_helper": "fragment_end",
       "frag_number": 24,
       "slide_helper": "subslide_end"
      },
      "slide_helper": "slide_end",
      "slideshow": {
       "slide_type": "fragment"
      }
     },
     "outputs": []
    },
    {
     "cell_type": "heading",
     "level": 1,
     "metadata": {
      "heading_collapsed": false,
      "internals": {
       "frag_helper": "fragment_end",
       "frag_number": 24,
       "slide_type": "subslide"
      },
      "slideshow": {
       "slide_type": "slide"
      }
     },
     "source": [
      "DBScan - Density-based Clustering"
     ]
    },
    {
     "cell_type": "markdown",
     "metadata": {
      "internals": {
       "frag_helper": "fragment_end",
       "frag_number": 26,
       "slide_helper": "subslide_end"
      },
      "slide_helper": "subslide_end",
      "slideshow": {
       "slide_type": "fragment"
      }
     },
     "source": [
      "* Density-based Clustering aims to find regions of high density that are separated via regions of low density.\n",
      "* DBScan differentiates between noise points, core points and border points by defining an $\\epsilon$ environment around a point $x_i$ in which a certain number of points must exists so that $x_i$ qualifies as core point\n",
      "* Border points can be ambiguos, i.e. can belong to two differnt clusters where they fall in the $\\epsilon$ region (but do not form a core point)\n",
      "\n",
      "For the theory behind the different methods please see the [Lecture Notes on Cluster Analysis](http://www.uni-weimar.de/en/media/chairs/webis/teaching/lecturenotes/#machine-learning)"
     ]
    },
    {
     "cell_type": "markdown",
     "metadata": {
      "internals": {
       "frag_helper": "fragment_end",
       "frag_number": 26,
       "slide_helper": "subslide_end",
       "slide_type": "subslide"
      },
      "slide_helper": "subslide_end",
      "slideshow": {
       "slide_type": "subslide"
      }
     },
     "source": [
      "#### Usage in scikit learn\n",
      "\n",
      "Scikit implements the Ward algorithm (i.e. HAC using Ward Criterion for variance-minimization)\n",
      "* Module: `from sklearn.cluster import DBSCAN`\n",
      "* Instantiate a object `db = DBSCAN(....parameters...)`\n",
      "* Fit to data: `model = db.fit(data)`\n",
      "\n",
      "The implementation of the algorithm is non-deterministic, i.e. it is dependent on the order of the data. Core points of a cluster will be always assigned to the same cluster, but the cluster number might change depending which cluster core point is taken first.\n",
      "\n"
     ]
    },
    {
     "cell_type": "markdown",
     "metadata": {
      "internals": {
       "frag_helper": "fragment_end",
       "frag_number": 26,
       "slide_type": "subslide"
      },
      "slideshow": {
       "slide_type": "subslide"
      }
     },
     "source": [
      "### Exercise: Apply scikit-learn DBScan using Random Data\n",
      "\n",
      "In this exercise you should apply the scikit-learn DBSCAN algorithm and evaluate it visually on the 2D dataset from the k-Means exercise. \n",
      "\n",
      "* Read on the parameter settings and try different setting to better fit the algorithm to the data. How crucial is $\\epsilon$? How does the clustering results compare to the k means algorithm?\n",
      "* How could you estimate $\\epsilon$ and the number of points in the $\\epsilon$ region?\n",
      "* How good can you fit the parameter and where is the problem?"
     ]
    },
    {
     "cell_type": "code",
     "collapsed": false,
     "input": [
      "#look at our data first\n",
      "pl.subplot(1,2,1)\n",
      "pl.plot(normal2D[:,0],normal2D[:,1],\".\")\n",
      "pl.subplot(1,2,2)\n",
      "pl.plot(uniform2D[:,0],uniform2D[:,1],\".\")\n",
      "pl.show()"
     ],
     "language": "python",
     "metadata": {
      "internals": {
       "frag_helper": "fragment_end",
       "frag_number": 29
      },
      "slideshow": {
       "slide_type": "fragment"
      }
     },
     "outputs": [
      {
       "metadata": {},
       "output_type": "display_data",
       "png": "[encoded data removed]",
       "text": [
        "<matplotlib.figure.Figure at 0x10b1d9790>"
       ]
      }
     ],
     "prompt_number": 5
    },
    {
     "cell_type": "code",
     "collapsed": false,
     "input": [
      "#lets create interesting data first\n",
      "normal2D= np.array(np.random.randn(100,2))+1\n",
      "normal2D= np.append(normal2D,np.random.randn(10,2)*3+10,axis=0)\n",
      "normal2D= np.append(normal2D,np.random.randn(10,2)*1-3,axis=0)\n",
      "\n",
      "uniform2D= np.array(np.random.ranf((100,2))*2+1)\n",
      "uniform2D= np.append(uniform2D,np.random.ranf((100,2))*4+3,axis=0)\n",
      "uniform2D= np.append(uniform2D,np.random.ranf((100,2))*1-3,axis=0)\n",
      "#plot the data\n",
      "pl.subplot(1,2,1)\n",
      "pl.plot(normal2D[:,0],normal2D[:,1],\".\")\n",
      "pl.subplot(1,2,2)\n",
      "pl.plot(uniform2D[:,0],uniform2D[:,1],\".\")\n",
      "pl.show()"
     ],
     "language": "python",
     "metadata": {
      "internals": {
       "frag_helper": "fragment_end",
       "frag_number": 30
      },
      "slideshow": {
       "slide_type": "fragment"
      }
     },
     "outputs": [
      {
       "metadata": {},
       "output_type": "display_data",
       "png": "[encoded data removed]",
       "text": [
        "<matplotlib.figure.Figure at 0x10f1612d0>"
       ]
      }
     ],
     "prompt_number": 6
    },
    {
     "cell_type": "code",
     "collapsed": false,
     "input": [
      "from sklearn.cluster import DBSCAN\n",
      "#DBSCAN?\n",
      "dbscan = DBSCAN(eps=1.0,min_samples=10)\n",
      "#cluster the first data set\n",
      "dn2d = dbscan.fit(normal2D)\n",
      "#and plot it\n",
      "pl.subplot(1,2,1)\n",
      "pl.scatter(normal2D[:,0],normal2D[:,1],c=dn2d.labels_+1)\n",
      "#cluster the second data set\n",
      "du2d = dbscan.fit(uniform2D)\n",
      "#and plot it\n",
      "pl.subplot(1,2,2)\n",
      "pl.scatter(uniform2D[:,0],uniform2D[:,1],c=du2d.labels_+1)\n",
      "pl.show()"
     ],
     "language": "python",
     "metadata": {
      "internals": {
       "frag_helper": "fragment_end",
       "frag_number": 31,
       "slide_helper": "subslide_end"
      },
      "slide_helper": "slide_end",
      "slideshow": {
       "slide_type": "fragment"
      }
     },
     "outputs": [
      {
       "metadata": {},
       "output_type": "display_data",
       "png": "[encoded data removed]",
       "text": [
        "<matplotlib.figure.Figure at 0x109caf150>"
       ]
      }
     ],
     "prompt_number": 7
    },
    {
     "cell_type": "heading",
     "level": 1,
     "metadata": {
      "heading_collapsed": false,
      "internals": {
       "frag_helper": "fragment_end",
       "frag_number": 31,
       "slide_type": "subslide"
      },
      "slideshow": {
       "slide_type": "slide"
      }
     },
     "source": [
      "Clustering Evaluation\n"
     ]
    },
    {
     "cell_type": "markdown",
     "metadata": {
      "internals": {
       "frag_helper": "fragment_end",
       "frag_number": 33,
       "slide_helper": "subslide_end"
      },
      "slide_helper": "subslide_end",
      "slideshow": {
       "slide_type": "fragment"
      }
     },
     "source": [
      "\n",
      "The quality of clustering has to be measured, otherwise results can be abritrary (especially for high dimensional data where visualisation of clusters is not possible)\n",
      "\n",
      "Cluster quality measure can be distinguished between\n",
      "\n",
      "1. **Internal Validity Indices** that indicate the quality of the shape of an cluster without relying on the correct assignment of points to cluster\n",
      "2. **External Validity Indices** that rely on a given correct assignment of points to groups\n",
      "\n",
      "These measures are often used for finding the best parameters.\n"
     ]
    },
    {
     "cell_type": "markdown",
     "metadata": {
      "internals": {
       "frag_helper": "fragment_end",
       "frag_number": 33,
       "slide_helper": "subslide_end",
       "slide_type": "subslide"
      },
      "slide_helper": "subslide_end",
      "slideshow": {
       "slide_type": "subslide"
      }
     },
     "source": [
      "### Realisation in scikit-learn\n",
      "\n",
      "Scikit learn implements a number of validity measures. See [the tutorial](http://scikit-learn.org/stable/modules/clustering.html#clustering) for an overview. \n",
      "\n",
      "We will give only two examples here."
     ]
    },
    {
     "cell_type": "markdown",
     "metadata": {
      "internals": {
       "frag_helper": "fragment_end",
       "frag_number": 33,
       "slide_type": "subslide"
      },
      "slideshow": {
       "slide_type": "subslide"
      }
     },
     "source": [
      "### Rand Index (External)\n",
      "\n",
      "Given a ground truth class (i.e. data samples are assigned to classes), the rand index *compares the number of pairs* of data sample that do/do not end up togehter *in the same cluster* to the pairs that do/do not *end up togehter in a ground truth class*\n",
      "\n",
      "Formally, \n",
      "\n",
      "* let $C$ be a set of ground truth classes that assignes one data sample to one class $c$. \n",
      "* let $K$ be the clustering that assignes one data sample to one cluster $k$\n",
      "* let $a$ be the number of all pairs of elements that are in the same class $c\\in C$ and in the same cluster $k\\in K$\n",
      "* let $b$ be the number of pairs of elements that are in different classes in $c\\in C$ and in different clusters $k\\in K$\n",
      "\n",
      "The rand index is then defined as\n",
      "$$\n",
      "RI=\\frac{a+b}{number\\;of\\;all\\;pairs}\n",
      "$$"
     ]
    },
    {
     "cell_type": "code",
     "collapsed": false,
     "input": [
      "from sklearn import metrics\n",
      "labels_true = [0, 0, 0, 1, 1, 1]\n",
      "labels_pred = [0, 0, 1, 1, 2, 2]\n",
      "\n",
      "\n",
      "print \"Same assignment:\", metrics.adjusted_rand_score(labels_true, labels_true) \n",
      "print \"Good assignments: \", metrics.adjusted_rand_score(labels_true, labels_pred) \n",
      "print \"Bad assignment:\", metrics.adjusted_rand_score(labels_true, [0,1,2,0,1,2]) "
     ],
     "language": "python",
     "metadata": {
      "internals": {
       "frag_helper": "fragment_end",
       "frag_number": 36,
       "slide_helper": "subslide_end"
      },
      "slide_helper": "subslide_end",
      "slideshow": {
       "slide_type": "fragment"
      }
     },
     "outputs": [
      {
       "output_type": "stream",
       "stream": "stdout",
       "text": [
        "Same assignment: 1.0\n",
        "Good assignments:  0.242424242424\n",
        "Bad assignment: -0.363636363636\n"
       ]
      }
     ],
     "prompt_number": 8
    },
    {
     "cell_type": "markdown",
     "metadata": {
      "internals": {
       "frag_helper": "fragment_end",
       "frag_number": 36,
       "slide_helper": "subslide_end",
       "slide_type": "subslide"
      },
      "slide_helper": "subslide_end",
      "slideshow": {
       "slide_type": "subslide"
      }
     },
     "source": [
      "### Silhouette Coefficient (Internal)\n",
      "\n",
      "The Silhouette Coefficient (`sklearn.metrics.silhouette_score`) is an example of an internal evaluation, where a higher Silhouette Coefficient score relates to a model with better shaped clusters. The Silhouette Coefficient is defined for each sample and is composed of two scores:\n",
      "\n",
      "* $a$: The mean distance between a sample and all other points in the same cluster.\n",
      "* $b$: The mean distance between a sample and all other points in the next nearest cluster.\n",
      "\n",
      "The Silhoeutte Coefficient s for a single sample is then given as:\n",
      "\n",
      "$$\n",
      "s=\\frac{b-a}{max(a,b)}\n",
      "$$"
     ]
    },
    {
     "cell_type": "markdown",
     "metadata": {
      "internals": {
       "frag_helper": "fragment_end",
       "frag_number": 36,
       "slide_helper": "subslide_end",
       "slide_type": "subslide"
      },
      "slide_helper": "subslide_end",
      "slideshow": {
       "slide_type": "subslide"
      }
     },
     "source": [
      "### Exercise: Cluster the iris data set and evaluate the result\n",
      "\n",
      "Load the iris data set and evaluate both, shilouette coefficient and rand index with different clustering results generated either via k-means or dbscan. Compare both evaluation measures with each other over a different set of clustering result (e.g. vary k or vary $\\epsilon$ and/or the number of points in the epsilon environment)."
     ]
    },
    {
     "cell_type": "code",
     "collapsed": false,
     "input": [
      "from sklearn import metrics\n",
      "from sklearn.metrics import pairwise_distances\n",
      "from sklearn import datasets\n",
      "dataset = datasets.load_iris()\n",
      "X = dataset.data\n",
      "y = dataset.target"
     ],
     "language": "python",
     "metadata": {
      "internals": {
       "frag_helper": "fragment_end",
       "frag_number": 36,
       "slide_helper": "subslide_end",
       "slide_type": "subslide"
      },
      "slide_helper": "subslide_end",
      "slideshow": {
       "slide_type": "subslide"
      }
     },
     "outputs": [],
     "prompt_number": 9
    },
    {
     "cell_type": "code",
     "collapsed": false,
     "input": [
      "# do it for the k-means\n",
      "s = []\n",
      "r = []\n",
      "k = range(2,20)\n",
      "for i in k:\n",
      "    kmeans_model = KMeans(n_clusters=i, init=\"k-means++\").fit(X)\n",
      "    labels = kmeans_model.labels_\n",
      "    s.append(metrics.silhouette_score(X, labels, metric='euclidean'))\n",
      "    r.append(metrics.adjusted_rand_score(y, labels) )\n",
      "    \n",
      "pl.subplot(1,2,1)\n",
      "pl.tight_layout()\n",
      "pl.plot(k,s)\n",
      "pl.ylabel(\"Sihlouette\")\n",
      "pl.xlabel(\"Cluster\")\n",
      "pl.title(\"Sihlouette vs Cluster Size\")\n",
      "pl.subplot(1,2,2)\n",
      "pl.plot(k,r)\n",
      "pl.ylabel(\"Rand Index\")\n",
      "pl.xlabel(\"Cluster\")\n",
      "pl.title(\"Rand Index vs Cluster Size\")"
     ],
     "language": "python",
     "metadata": {
      "internals": {
       "frag_helper": "fragment_end",
       "frag_number": 36,
       "slide_helper": "subslide_end",
       "slide_type": "subslide"
      },
      "slide_helper": "subslide_end",
      "slideshow": {
       "slide_type": "subslide"
      }
     },
     "outputs": [
      {
       "output_type": "stream",
       "stream": "stderr",
       "text": [
        "/opt/local/Library/Frameworks/Python.framework/Versions/2.7/lib/python2.7/site-packages/numpy/core/_methods.py:59: RuntimeWarning: Mean of empty slice.\n",
        "  warnings.warn(\"Mean of empty slice.\", RuntimeWarning)\n",
        "/opt/local/Library/Frameworks/Python.framework/Versions/2.7/lib/python2.7/site-packages/numpy/core/_methods.py:71: RuntimeWarning: invalid value encountered in double_scalars\n",
        "  ret = ret.dtype.type(ret / rcount)\n"
       ]
      },
      {
       "metadata": {},
       "output_type": "pyout",
       "prompt_number": 10,
       "text": [
        "<matplotlib.text.Text at 0x10f170250>"
       ]
      },
      {
       "metadata": {},
       "output_type": "display_data",
       "png": "[encoded data removed]",
       "text": [
        "<matplotlib.figure.Figure at 0x10b1d9b10>"
       ]
      }
     ],
     "prompt_number": 10
    },
    {
     "cell_type": "code",
     "collapsed": false,
     "input": [
      "pl.figure()\n",
      "(s,r) = zip(*sorted(zip(s,r), key = lambda t: t[0]))\n",
      "pl.plot(s,r)\n",
      "pl.xlabel(\"Sihlouette Coefficient\")\n",
      "pl.ylabel(\"Rand Index\")\n",
      "pl.title(\"Sihlouette Coefficient vs Rand Index\")\n",
      "pl.show()"
     ],
     "language": "python",
     "metadata": {
      "internals": {
       "frag_helper": "fragment_end",
       "frag_number": 36,
       "slide_type": "subslide"
      },
      "slideshow": {
       "slide_type": "subslide"
      }
     },
     "outputs": [
      {
       "metadata": {},
       "output_type": "display_data",
       "png": "[encoded data removed]",
       "text": [
        "<matplotlib.figure.Figure at 0x10b1d9fd0>"
       ]
      }
     ],
     "prompt_number": 11
    },
    {
     "cell_type": "heading",
     "level": 1,
     "metadata": {
      "heading_collapsed": false,
      "internals": {
       "frag_helper": "fragment_end",
       "frag_number": 36
      },
      "slideshow": {
       "slide_type": "-"
      }
     },
     "source": [
      "Further References and Reading\n"
     ]
    },
    {
     "cell_type": "markdown",
     "metadata": {
      "internals": {
       "frag_helper": "fragment_end",
       "frag_number": 36
      },
      "slideshow": {
       "slide_type": "-"
      }
     },
     "source": [
      "\n",
      "- Pang-Ning Tan, Michael Steinbach, and Vipin Kumar, [Introduction to Data Mining](http://www.pearsonhighered.com/educator/academic/product/0,1144,0321321367,00.html), Addison-Wesley, 2006. ISBN 0-321-32136-7. \n",
      "- [Unsupervised learning: seeking representations of the data](http://scikit-learn.org/stable/tutorial/statistical_inference/unsupervised_learning.html), scikit-learn Tutorial, \n"
     ]
    },
    {
     "cell_type": "markdown",
     "metadata": {
      "internals": {
       "frag_helper": "fragment_end",
       "frag_number": 36
      },
      "slideshow": {
       "slide_type": "-"
      }
     },
     "source": [
      "## Setup of this Notebook"
     ]
    },
    {
     "cell_type": "code",
     "collapsed": false,
     "input": [
      "#Stuff for presentation\n",
      "#loads section numbering https://github.com/ipython/ipython/wiki/Extensions-Index\n",
      "%reload_ext secnum\n",
      "%secnum"
     ],
     "language": "python",
     "metadata": {
      "internals": {
       "frag_helper": "fragment_end",
       "frag_number": 36
      },
      "slideshow": {
       "slide_type": "-"
      }
     },
     "outputs": [
      {
       "javascript": [
        "console.log(\"Section numbering...\");\n",
        "\n",
        "function number_sections(threshold) {\n",
        "\n",
        "  var h1_number = 0;\n",
        "  var h2_number = 0;\n",
        "\n",
        "  if (threshold === undefined) {\n",
        "    threshold = 2;  // does nothing so far\n",
        "  }\n",
        "\n",
        "  var cells = IPython.notebook.get_cells();\n",
        "  \n",
        "  for (var i=0; i < cells.length; i++) {\n",
        "\n",
        "    var cell = cells[i];\n",
        "    if (cell.cell_type !== 'heading') continue;\n",
        "    \n",
        "    var level = cell.level;\n",
        "    if (level > threshold) continue;\n",
        "    \n",
        "    if (level === 1) {\n",
        "        \n",
        "        h1_number ++;\n",
        "        var h1_element = cell.element.find('h1');\n",
        "        var h1_html = h1_element.html();\n",
        "        \n",
        "        console.log(\"h1_html: \" + h1_html);\n",
        "\n",
        "        var patt = /^[0-9]+\\.\\s(.*)/;   // section number at start of string\n",
        "        var title = h1_html.match(patt);  // just the title\n",
        "\n",
        "        if (title != null) {  \n",
        "          h1_element.html(h1_number + \". \" + title[1]);\n",
        "        }\n",
        "        else {\n",
        "          h1_element.html(h1_number + \". \" + h1_html);\n",
        "        }\n",
        "        \n",
        "        h2_number = 0;\n",
        "        \n",
        "    }\n",
        "    \n",
        "    if (level === 2) {\n",
        "    \n",
        "        h2_number ++;\n",
        "        \n",
        "        var h2_element = cell.element.find('h2');\n",
        "        var h2_html = h2_element.html();\n",
        "\n",
        "        console.log(\"h2_html: \" + h2_html);\n",
        "\n",
        "        \n",
        "        var patt = /^[0-9]+\\.[0-9]+\\.\\s/;\n",
        "        var result = h2_html.match(patt);\n",
        "\n",
        "        if (result != null) {\n",
        "          h2_html = h2_html.replace(result, \"\");\n",
        "        }\n",
        "\n",
        "        h2_element.html(h1_number + \".\" + h2_number + \". \" + h2_html);\n",
        "        \n",
        "    }\n",
        "    \n",
        "  }\n",
        "  \n",
        "}\n",
        "\n",
        "number_sections();\n",
        "\n",
        "// $([IPython.evnts]).on('create.Cell', number_sections);\n",
        "\n",
        "$([IPython.events]).on('selected_cell_type_changed.Notebook', number_sections);\n",
        "\n"
       ],
       "metadata": {},
       "output_type": "display_data"
      }
     ],
     "prompt_number": 14
    },
    {
     "cell_type": "code",
     "collapsed": false,
     "input": [],
     "language": "python",
     "metadata": {
      "internals": {
       "frag_helper": "fragment_end",
       "frag_number": 36,
       "slide_helper": "subslide_end"
      },
      "slide_helper": "slide_end",
      "slideshow": {
       "slide_type": "-"
      }
     },
     "outputs": [],
     "prompt_number": 12
    }
   ],
   "metadata": {}
  }
 ]
}