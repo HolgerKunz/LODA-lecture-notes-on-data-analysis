{
 "cells": [
  {
   "cell_type": "markdown",
   "metadata": {},
   "source": [
    "# Exercise: A Small Example for Linear Regression with Numpy\n",
    "\n",
    "** A small scale example **\n",
    "\n",
    "\n",
    "by \n",
    "\n",
    "[__Michael Granitzer__ (michael.granitzer@uni-passau.de)]( http://www.mendeley.com/profiles/michael-granitzer/)\n",
    "\n",
    "\n",
    "__License__\n",
    "\n",
    "This work is licensded under a [Creative Commons Attribution 3.0 Unported License](http://creativecommons.org/licenses/by/3.0/)\n"
   ]
  },
  {
   "cell_type": "markdown",
   "metadata": {},
   "source": [
    "The table below describes four cars by their age and stopping distance for a full braking at 100km/h till stop\n",
    "\n",
    "|Car\t     |Age  |\tMileage\t|Stopping Distance|\n",
    "|------------|-----|------------|-----------------|\n",
    "|Wartburg\t |5\t   |30530\t    |50|\n",
    "|Moskvich\t |7\t   |90000\t    |79|\n",
    "|Lada\t     |15   |\t159899\t|124|\n",
    "|Trabi\t     |28   |\t270564\t|300|\n",
    "|Average\t |13,75|137748,25\t|138,25|\n",
    "\n",
    " "
   ]
  },
  {
   "cell_type": "markdown",
   "metadata": {},
   "source": [
    "## Question 1: Determine the weights $w_i$ for the linear regression for the age variable.\n",
    "\n",
    "We first create the data, than take the equation from the [lecture slides, pg 58-59](http://www.uni-weimar.de/medien/webis/teaching/lecturenotes/machine-learning/unit-en-regression.pdf). The derivation from the equation can be found at the lecture notes from [Prof. Kirchner](http://seismo.berkeley.edu/~kirchner/eps_120/Toolkits/Toolkit_10.pdf)\n"
   ]
  },
  {
   "cell_type": "code",
   "execution_count": 16,
   "metadata": {
    "collapsed": false
   },
   "outputs": [
    {
     "name": "stdout",
     "output_type": "stream",
     "text": [
      "Populating the interactive namespace from numpy and matplotlib\n",
      "Independent variables:\n",
      "[[     5  30530]\n",
      " [     7  90000]\n",
      " [    15 159899]\n",
      " [    28 270564]] <type 'numpy.ndarray'>\n",
      "Dependent variable:\n",
      "[ 50  79 124 300] <type 'numpy.ndarray'>\n"
     ]
    }
   ],
   "source": [
    "#Creating the data and python setup\n",
    "%pylab inline\n",
    "#the data\n",
    "x=np.array([[5,30530],[7,90000],[15,159899],[28,270564]])\n",
    "y=np.array([50,79,124,300])\n",
    "print \"Independent variables:\"\n",
    "print x, type(x)\n",
    "print \"Dependent variable:\"\n",
    "print y, type(y)"
   ]
  },
  {
   "cell_type": "markdown",
   "metadata": {},
   "source": [
    "Estimating $w_0$ and $w_1$ is done as\n",
    "\n",
    "$w_0=\\bar{x}-w_1\\bar{y}$\n",
    "\n",
    "$w_1 =\\frac{Cov(x,y)}{Var(x)}=\\frac{\\frac{1}{n} \\sum_{i=1}^{n} (x_i-\\bar{x})(y_i-\\bar{y})}{\\frac{1}{n}\\sum_{i=1}^{n} (x_i-\\bar{x})^2}$\n"
   ]
  },
  {
   "cell_type": "code",
   "execution_count": 17,
   "metadata": {
    "collapsed": false
   },
   "outputs": [
    {
     "name": "stdout",
     "output_type": "stream",
     "text": [
      "-7.31905126243 10.5868400918\n"
     ]
    }
   ],
   "source": [
    "def w0_estimate1D(x,y,w1):\n",
    "    x_bar=np.average(x)\n",
    "    y_bar=np.average(y)\n",
    "    return y_bar-x_bar*w1\n",
    "\n",
    "def w1_estimate1D(x,y):\n",
    "    x_bar=np.average(x)\n",
    "    y_bar=np.average(y)\n",
    "    #note that multiplication between the two vector is pointwise\n",
    "    return np.sum((x-x_bar)*(y-y_bar))/np.sum((x-x_bar)**2)\n",
    "\n",
    "w1=w1_estimate1D(x[:,0],y)\n",
    "w0=w0_estimate1D(x[:,0],y,w1)\n",
    "print w0, w1\n"
   ]
  },
  {
   "cell_type": "markdown",
   "metadata": {},
   "source": [
    "## Question 2: Draw a scatter plot of the data and the linear regression for a variable of your choice.\n",
    "\n",
    "\n",
    "Now lets plot the results and the parameters. Did we do a correct calculation?\n"
   ]
  },
  {
   "cell_type": "code",
   "execution_count": 24,
   "metadata": {
    "collapsed": false
   },
   "outputs": [
    {
     "data": {
      "image/png": "[encoded data removed]",
      "text/plain": [
       "<matplotlib.figure.Figure at 0x1127a7d50>"
      ]
     },
     "metadata": {},
     "output_type": "display_data"
    }
   ],
   "source": [
    "xlim((0,35))\n",
    "ylim((-10,310))\n",
    "plot(x[:,0],y,'o')\n",
    "plot(np.arange(0,35,1),np.arange(0,35,1)*w1+w0,'-r')\n",
    "show()"
   ]
  },
  {
   "cell_type": "markdown",
   "metadata": {},
   "source": [
    "**Some Numpy details**\n",
    "To see a little bit more of numpy's behaviour lets investigate the numpy details on that simple example:"
   ]
  },
  {
   "cell_type": "code",
   "execution_count": 5,
   "metadata": {
    "collapsed": false
   },
   "outputs": [
    {
     "name": "stdout",
     "output_type": "stream",
     "text": [
      "pointwise multiplication (4,) [  772.1875   399.9375   -17.8125  2304.9375]\n",
      "sum from pointwise multiplication 3459.25\n",
      "inner product 3459.25\n"
     ]
    }
   ],
   "source": [
    "#Calculating w1 covariance requires the sum of two vectors\n",
    "x1d = x[:,0]\n",
    "x_bar = np.average(x1d)\n",
    "y_bar=np.average(y)\n",
    "np.sum((x1d-x_bar)*(y-y_bar))\n",
    "#we first calculate a new list containtin (x1d-x_bar)*(y-y_bar)\n",
    "l = (x1d-x_bar)*(y-y_bar)\n",
    "print 'pointwise multiplication',l.shape, l\n",
    "#From this we take the sum.\n",
    "print 'sum from pointwise multiplication',sum(l)\n",
    "\n",
    "# A valid second approach would be using the inner product\n",
    "# Note: inner product is multiplication and sum at once.\n",
    "print 'inner product',(x1d-x_bar).dot((y-y_bar))\n"
   ]
  },
  {
   "cell_type": "markdown",
   "metadata": {},
   "source": [
    "## Question 3: Consider the mileage of the cars as an additional variable and estimate the regression parameters\n",
    "\n",
    "So this requires us to use the matrix equation derived in [slide 60](http://www.uni-weimar.de/medien/webis/teaching/lecturenotes/machine-learning/unit-en-regression.pdf):\n",
    "\n",
    "$$ w=(X^TX)^{-1}X^Ty $$\n",
    "\n",
    "Note that we have to include a bias term below"
   ]
  },
  {
   "cell_type": "code",
   "execution_count": 7,
   "metadata": {
    "collapsed": false
   },
   "outputs": [
    {
     "name": "stdout",
     "output_type": "stream",
     "text": [
      "[ -6.42631756e+00   1.28163977e+01  -2.29034854e-04]\n"
     ]
    }
   ],
   "source": [
    "import numpy.linalg as la\n",
    "#include the bias term in the data\n",
    "x=np.array([[1, 5,30530],[1,7,90000],[1,15,159899],[1,28,270564]])\n",
    "y=np.array([50,79,124,300])\n",
    "#now estimate parameters\n",
    "w = la.inv(x.T.dot(x)).dot(x.T).dot(y)\n",
    "print w"
   ]
  },
  {
   "cell_type": "markdown",
   "metadata": {},
   "source": [
    "## Question 4: What are the pitfalls of the extrapolation\n",
    "\n",
    "The model is linear, which means that extrapolation is not constrained. So given the example of a 40 year old car, it is unlikely that the distance to stop will increase beyond 300 meters. \n",
    "\n",
    "Moreover, there may not be a linear relationship at all between the age and the stopping distance. For example can a newly bought Travi stop in 3 meters (according to our first model) when it is new (1st year)? Most likely not, since not even a Formula 1 car could do it. \n",
    "\n",
    "Note however, that linear models can approximate non-linear ones in a small intervall, but not far beyond those intervals (think of a taylor series expansion of a function)\n",
    "\n"
   ]
  },
  {
   "cell_type": "code",
   "execution_count": 14,
   "metadata": {
    "collapsed": false
   },
   "outputs": [
    {
     "name": "stdout",
     "output_type": "stream",
     "text": [
      "Car in its  year 1.000000 stops at 3.267789 meters\n"
     ]
    }
   ],
   "source": [
    "#car in its first year stops at\n",
    "print \"Car in its  year %f stops at %f meters\"%(1,1*w1+w0)"
   ]
  }
 ],
 "metadata": {
  "kernelspec": {
   "display_name": "Python 2",
   "language": "python",
   "name": "python2"
  },
  "language_info": {
   "codemirror_mode": {
    "name": "ipython",
    "version": 2
   },
   "file_extension": ".py",
   "mimetype": "text/x-python",
   "name": "python",
   "nbconvert_exporter": "python",
   "pygments_lexer": "ipython2",
   "version": "2.7.9"
  }
 },
 "nbformat": 4,
 "nbformat_minor": 0
}
