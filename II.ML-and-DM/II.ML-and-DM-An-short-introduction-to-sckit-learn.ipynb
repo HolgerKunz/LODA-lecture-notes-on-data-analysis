{
 "metadata": {
  "celltoolbar": "Slideshow",
  "name": "",
  "signature": "sha256:5c18404002d09617a3bf70efb3632077be7ba6a85c95db0290859579c4755095"
 },
 "nbformat": 3,
 "nbformat_minor": 0,
 "worksheets": [
  {
   "cells": [
    {
     "cell_type": "markdown",
     "metadata": {
      "slideshow": {
       "slide_type": "slide"
      }
     },
     "source": [
      "# An short Introduction to scikit-learn\n",
      "\n",
      "\n",
      "by \n",
      "\n",
      "[__Michael Granitzer__ (michael.granitzer@uni-passau.de)]( http://www.mendeley.com/profiles/michael-granitzer/)\n",
      "\n",
      "\n",
      "__License__\n",
      "\n",
      "This work is licensed under a [Creative Commons Attribution 3.0 Unported License](http://creativecommons.org/licenses/by/3.0/)\n"
     ]
    },
    {
     "cell_type": "markdown",
     "metadata": {
      "slideshow": {
       "slide_type": "subslide"
      }
     },
     "source": [
      "## Outline\n",
      "\n",
      "1. Short Overview on Scikit Learn\n",
      "2. A scikit Learn Example\n",
      "\n",
      "You may also refer to the [scikit-learning Introduction](http://scikit-learn.org/stable/tutorial/basic/tutorial.html)"
     ]
    },
    {
     "cell_type": "heading",
     "level": 1,
     "metadata": {
      "heading_collapsed": false,
      "slideshow": {
       "slide_type": "slide"
      }
     },
     "source": [
      "Overview"
     ]
    },
    {
     "cell_type": "markdown",
     "metadata": {
      "slideshow": {
       "slide_type": "-"
      }
     },
     "source": [
      "\n",
      "scikit-learn is a Machine Learning library in Python (http://scikit-learn.org/stable/).\n",
      "\n",
      "\n",
      "* Simple and efficient tools for data mining and data analysis\n",
      "* Accessible to everybody, and reusable in various contexts\n",
      "* Built on NumPy, SciPy, and matplotlib\n",
      "* Open source, commercially usable - BSD license\n",
      "\n",
      "(see [Homepage](http://scikit-learn.org/stable/))"
     ]
    },
    {
     "cell_type": "code",
     "collapsed": false,
     "input": [
      "import sklearn"
     ],
     "language": "python",
     "metadata": {
      "slideshow": {
       "slide_type": "fragment"
      }
     },
     "outputs": [],
     "prompt_number": 1
    },
    {
     "cell_type": "heading",
     "level": 1,
     "metadata": {
      "heading_collapsed": false,
      "slideshow": {
       "slide_type": "slide"
      }
     },
     "source": [
      "Overview on Machine Learning"
     ]
    },
    {
     "cell_type": "markdown",
     "metadata": {
      "slideshow": {
       "slide_type": "fragment"
      }
     },
     "source": [
      "\n",
      "<div class=\"alert alert-warning\">\n",
      "A computer program is said to learn from experience with respect to some class of tasks and a performance measure,\n",
      "if its performance at the tasks improves with the experience (Mitchel 1997).\n",
      "</div>\n",
      "\n",
      "<p/>\n",
      "<div class=\"alert alert-warning\">\n",
      "\n",
      "Machine Learning creates **formal models** from **observations**. The **models** are used to predict properties of **future observations** or **aggregate and describe** observations.\n",
      "</div>"
     ]
    },
    {
     "cell_type": "markdown",
     "metadata": {
      "slideshow": {
       "slide_type": "subslide"
      }
     },
     "source": [
      "**Example**\n",
      "\n",
      "Lets assume we have collected a data set about cars:\n",
      "\n",
      "|Customer Group| Model | Mileage | Power | Price |\n",
      "|-|-|-|-|-|\n",
      "|Family| Renault Scienic | 50,000 | 132 | 5,000|\n",
      "|Upper Class | Porsche Carrera | 10,000 | 332 | 50,000|\n",
      "|Family | Tourant  | 80,000 | 90 | 15,000|\n",
      "|$\\ldots$| $\\ldots$  | $\\ldots$| $\\ldots$ | $\\ldots$|\n",
      "|?| Wonder Car| 500 | 4000 | ?|\n",
      "\n",
      "- Given a large set of cars, can we group together cards with similar price, power and mileage?\n",
      "- Can we predict the price of a new car given mileage and power?\n",
      "- Can we predict the customer group?\n",
      "- What kind of cars do upper class people drive?"
     ]
    },
    {
     "cell_type": "heading",
     "level": 3,
     "metadata": {
      "heading_collapsed": false,
      "slideshow": {
       "slide_type": "slide"
      }
     },
     "source": [
      "Real World Applications\n"
     ]
    },
    {
     "cell_type": "markdown",
     "metadata": {
      "slideshow": {
       "slide_type": "fragment"
      }
     },
     "source": [
      "- Image Analysis: Face Recognition, Object Detection, Self-driving Cars\n",
      "- Text Analysis: POS Tagging, Named Entity Recognition, Speech-to-Text Analysis\n",
      "- Robotics\n",
      "- E-Commerce\n",
      "- Information Retrieval and Recommender Systems\n",
      "- $\\ldots$\n"
     ]
    },
    {
     "cell_type": "heading",
     "level": 2,
     "metadata": {
      "heading_collapsed": false,
      "slideshow": {
       "slide_type": "slide"
      }
     },
     "source": [
      "General Approach"
     ]
    },
    {
     "cell_type": "markdown",
     "metadata": {},
     "source": [
      "\n",
      "\n",
      "The usual machine learning setup is:\n",
      "\n",
      "1. **$n$ data samples** (e.g. $n$ cars), representing the past experience\n",
      "2. Every data sample is described by a **set of d features/attributes** (e.g. horsepower and price of the car)\n",
      "\n",
      "|$Attribut_1$|$Attribut_2$|$\\ldots$|$Attribut_d$|\n",
      "|-|-|-|-|\n",
      "|$Attribut_1$ of $Example_1$|$Attribut_2$ of $Example_1$ |$\\ldots$|$Attribut_d$ of $Example_1$|\n",
      "|$Attribut_1$ of $Example_2$|$Attribut_2$ of $Example_2$ |$\\ldots$|$Attribut_d$ of $Example_2$|\n",
      "|$\\ldots$|$\\ldots$|$\\ldots$|$\\ldots$|\n",
      "|$Attribut_d$ of $Example_n$|$Attribut_2$ of $Example_n$ |$\\ldots$|$Attribut_d$ of $Example_n$|\n",
      "\n",
      "Machine learning estimates a **model** that **best fit the data**. Fitting means the model\n",
      "\n",
      "1. **predicts** features of yet unkown examples (e.g. predict the class a flower belongs to)\n",
      "2. **describes** properties of the examples (e.g. points belonging togehter)\n",
      "\n",
      "Building such a model is called learning, training or model fitting.\n",
      "\n",
      "Using such a model is often call \"testing\", \"model estimation\" or \"inference step\".\n",
      "\n",
      "Converting data into the necessary format for learning and testing is called **preprocessing**"
     ]
    },
    {
     "cell_type": "heading",
     "level": 1,
     "metadata": {
      "heading_collapsed": false,
      "slideshow": {
       "slide_type": "slide"
      }
     },
     "source": [
      "Preprocessing\n"
     ]
    },
    {
     "cell_type": "markdown",
     "metadata": {
      "slideshow": {
       "slide_type": "fragment"
      }
     },
     "source": [
      "Refers to the task to create and prepare the data to be consumed by the learning algorithm. "
     ]
    },
    {
     "cell_type": "heading",
     "level": 1,
     "metadata": {
      "heading_collapsed": false,
      "slideshow": {
       "slide_type": "slide"
      }
     },
     "source": [
      "Supervised Learning "
     ]
    },
    {
     "cell_type": "markdown",
     "metadata": {
      "slideshow": {
       "slide_type": "subslide"
      }
     },
     "source": [
      "\n",
      "\n",
      "Supervised Learning wants to predict one feature/attribute of a data set.\n",
      "\n",
      "* If the attribute is nominal supervised learning is called **classification**. e.g. assigning the class a flower belong to based on their geometric attributes (e.g. width and length)\n",
      "\n",
      "* If the attribut is ratio scaled (or interval scaled) supervised learning is called **regression**. e.g. predicting the lenght of a flower based on its width.\n",
      "\n",
      "For a more formal introduction of the problem setting please refer to [Benno Steins Lecture Notes on Machine Learning](http://www.uni-weimar.de/en/media/chairs/webis/teaching/lecturenotes/#machine-learning)"
     ]
    },
    {
     "cell_type": "heading",
     "level": 2,
     "metadata": {
      "heading_collapsed": false,
      "slideshow": {
       "slide_type": "subslide"
      }
     },
     "source": [
      "Linear Models"
     ]
    },
    {
     "cell_type": "markdown",
     "metadata": {
      "slideshow": {
       "slide_type": "fragment"
      }
     },
     "source": [
      "Given our car example, how can we predict the price from horsepower and mileage?\n",
      "\n",
      "|Customer Group ($x_0$)|  Mileage ($x_1$) | Power ($x_2$) | Price ($x_3$) |\n",
      "|-|-|-|-|-|\n",
      "|Family|  50,000 | 132 | 5,000|\n",
      "|Upper Class |  10,000 | 332 | 50,000|\n",
      "|Family |  80,000 | 90 | 15,000|\n",
      "|$\\ldots$| $\\ldots$  | $\\ldots$| $\\ldots$ | \n",
      "|?|  500 | 4000 | ?|\n",
      "\n"
     ]
    },
    {
     "cell_type": "markdown",
     "metadata": {
      "slideshow": {
       "slide_type": "fragment"
      }
     },
     "source": [
      "Some notations. So lets denote\n",
      "\n",
      "- every attribute with $x^{(j)}$ where $j$ is the index of the column/attribute. \n",
      "- $x_i$ as the attribute vector of the $i^{(th)}$ example, i.e. $x_i=(1, x^{(1)}, x^{(2)}, x^{(3)})$ (Note that we excluded $x_{(0)}$ for *this* example and set the first dimension to 1 as constant).\n",
      "\n",
      "Now lets assume the price is a linear combination of power and mileage. So we can write\n",
      "\n",
      "$$\n",
      "x^{(3)}= w^{(0)} + w^{(1)} * x^{(1)} + w^{(2)} * x^{(2)} = w^T \\cdot x_i\n",
      "$$\n",
      "\n",
      "with $w$ being called a weight vector resp. our **model**. Note that the first dimension represents the offset/bias.\n"
     ]
    },
    {
     "cell_type": "markdown",
     "metadata": {
      "slideshow": {
       "slide_type": "subslide"
      }
     },
     "source": [
      "To differentiate between dependent and independent variables a linear model is often written as:\n",
      "\n",
      "$$\n",
      "y_i = w^T \\cdot x_i\n",
      "$$\n",
      "where subscript $i$ denotes the $i^{(th)}$ example."
     ]
    },
    {
     "cell_type": "markdown",
     "metadata": {
      "slideshow": {
       "slide_type": "fragment"
      }
     },
     "source": [
      "<div class = \"alert alert-info\">\n",
      "How would you adjust the weights for estimating the price?\n",
      "</div>"
     ]
    },
    {
     "cell_type": "markdown",
     "metadata": {
      "slideshow": {
       "slide_type": "fragment"
      }
     },
     "source": [
      "**Observation**\n",
      "\n",
      "1. if $y_i > w^T \\cdot x_i $ &nbsp; but&nbsp; the weights have been too high and need to be reduced. \n",
      "2. if $y_i < w^T \\cdot x_i $ &nbsp; but&nbsp; the weights have been too low and need to be increased. \n",
      "3. if $y_i < w^T \\cdot x_i $ and $x_i^{(k)}>x_i^{(j)}$, then $w_i^{(k)}$ should be increased stronger than $w_i^{(j)}$ (and vice versa for $y_i < w^T \\cdot x_i $ )\n",
      "\n",
      "\n",
      "\n",
      "\n"
     ]
    },
    {
     "cell_type": "markdown",
     "metadata": {
      "slideshow": {
       "slide_type": "subslide"
      }
     },
     "source": [
      "**Least Mean Square Update Rule (Widrow Hoff Rule)**\n",
      "\n",
      "To quantify the amount of increase/decrease, we can formalize the cost of predicting $y_i$ wrong as sum of the squared error (SSE).\n",
      "\n",
      "$$\n",
      "cost(w,X) = \\sum_{y_i, x_i \\in X}(w^T \\cdot x_i-y_i)^2 = \\sum_{y_i, x_i \\in X}error_i(w)^2\n",
      "$$ \n",
      "\n",
      "The optimal $w$ is obtained when the cost becomes minimal, i.e.\n",
      "\n",
      "$$\n",
      "\\frac{\\partial cost(w,X)}{\\partial w} = 0\n",
      "$$ \n",
      "\n",
      "Solving the partial derivation (see [Andrew Ng's Lecture notes](http://cs229.stanford.edu/notes/cs229-notes1.pdf) for details) yields the following LMS update rule for $w$:\n",
      "\n",
      "$$ \n",
      "w^{(i)} = w^{(i)} - \\eta \\cdot error_i(w) \\cdot x_i^{(i)}\n",
      "$$\n"
     ]
    },
    {
     "cell_type": "markdown",
     "metadata": {
      "slideshow": {
       "slide_type": "subslide"
      }
     },
     "source": [
      "**Batch and Stochastic Gradient Descent**\n",
      "\n",
      "- Iterating over all examples $x_i\\in X$ and applying the LMS update rule is called **stochastic gradient descent**\n",
      "- Summing the error over all examples and applying the LMS update rule once for all examples is called **batch gradient descent**"
     ]
    },
    {
     "cell_type": "heading",
     "level": 3,
     "metadata": {
      "heading_collapsed": false,
      "slideshow": {
       "slide_type": "slide"
      }
     },
     "source": [
      "Least Mean Square Algorithm in Python"
     ]
    },
    {
     "cell_type": "code",
     "collapsed": false,
     "input": [
      "import numpy as np"
     ],
     "language": "python",
     "metadata": {
      "slideshow": {
       "slide_type": "fragment"
      }
     },
     "outputs": [],
     "prompt_number": 5
    },
    {
     "cell_type": "code",
     "collapsed": false,
     "input": [
      "def lms(data,eta=0.1, iterations=1000, bias=True):\n",
      "    \"\"\"\n",
      "    data: tuple containing the data matrix x and target values c(x)\n",
      "    eta: learning rate. default is 0.1\n",
      "    bias: True, if a bias term should be included\n",
      "    iterations: do some fixed amount of iterations. no need for more sophisticated stopping criterions\n",
      "    \"\"\"\n",
      "    target = data[1]\n",
      "    data = data[0]\n",
      "    dim = data.shape[1]         # get the number of attributes/features\n",
      "    num_points = data.shape[0]\n",
      "    if bias:                    # when considering the bias term we have to add w_0\n",
      "        dim+=1\n",
      "        data = np.concatenate(\n",
      "                [\n",
      "                 data, \n",
      "                 np.ones(num_points).reshape(num_points,1)\n",
      "                ]\n",
      "                ,axis=1)    # add bias term as attribute with value 1 for every data point\n",
      "    w = np.ones(dim)    # that is the weight vector as column vector    \n",
      "    for i in range(iterations):\n",
      "        next = np.random.randint(num_points)  #next example to work on\n",
      "        predict = np.dot(data[next,],w)       #predict the value of next based on the current hypothesis\n",
      "        error = target[next]-predict          # estimate the error\n",
      "        w = w + eta*error*data[next,]         # inner loop is done by numpy\n",
      "    \n",
      "    return w"
     ],
     "language": "python",
     "metadata": {
      "slideshow": {
       "slide_type": "fragment"
      }
     },
     "outputs": [],
     "prompt_number": 6
    },
    {
     "cell_type": "code",
     "collapsed": false,
     "input": [
      "%pylab inline\n",
      "#create data and plot it\n",
      "toy = np.arange(10).reshape((10,1))\n",
      "target = toy*0.2 + 0.5\n",
      "plot (toy,target,'g.')\n",
      "show()\n",
      "print toy"
     ],
     "language": "python",
     "metadata": {
      "slideshow": {
       "slide_type": "fragment"
      }
     },
     "outputs": [
      {
       "output_type": "stream",
       "stream": "stdout",
       "text": [
        "Populating the interactive namespace from numpy and matplotlib\n"
       ]
      },
      {
       "metadata": {},
       "output_type": "display_data",
       "png": "[encoded data removed]",
       "text": [
        "<matplotlib.figure.Figure at 0x106d0f750>"
       ]
      },
      {
       "output_type": "stream",
       "stream": "stdout",
       "text": [
        "[[0]\n",
        " [1]\n",
        " [2]\n",
        " [3]\n",
        " [4]\n",
        " [5]\n",
        " [6]\n",
        " [7]\n",
        " [8]\n",
        " [9]]\n"
       ]
      }
     ],
     "prompt_number": 10
    },
    {
     "cell_type": "code",
     "collapsed": false,
     "input": [
      "#run lms with parameters that work (see practical tips)\n",
      "data_zipped = (toy,target)\n",
      "print lms(data_zipped,iterations=10000,eta=0.001)"
     ],
     "language": "python",
     "metadata": {
      "slideshow": {
       "slide_type": "subslide"
      }
     },
     "outputs": [
      {
       "output_type": "stream",
       "stream": "stdout",
       "text": [
        "[ 0.19644648  0.52172342]\n"
       ]
      }
     ],
     "prompt_number": 12
    },
    {
     "cell_type": "code",
     "collapsed": false,
     "input": [
      "w = lms(data_zipped,iterations=1000,eta=0.001)\n",
      "plot(toy,target,'g.')\n",
      "plot(toy,toy*w[0]+w[1],'r')\n",
      "print w\n",
      "show()"
     ],
     "language": "python",
     "metadata": {
      "slideshow": {
       "slide_type": "fragment"
      }
     },
     "outputs": [
      {
       "output_type": "stream",
       "stream": "stdout",
       "text": [
        "[ 0.15671197  0.77210905]\n"
       ]
      },
      {
       "metadata": {},
       "output_type": "display_data",
       "png": "[encoded data removed]",
       "text": [
        "<matplotlib.figure.Figure at 0x106e2cbd0>"
       ]
      }
     ],
     "prompt_number": 13
    },
    {
     "cell_type": "markdown",
     "metadata": {
      "slideshow": {
       "slide_type": "fragment"
      }
     },
     "source": [
      "##### Remarks on Parameter Settings\n",
      "   * In the run above we get close, but do not find the correct solution. Increasing the number of iterations leads to the correct solution if $\\eta$ is small enough. \n",
      "   * chosing eta larger needs less iteraionts. However, a too large $\\eta$ yields too large updates and the LMS algorithm might diverges. So $\\eta$ must be sufficiently small"
     ]
    },
    {
     "cell_type": "heading",
     "level": 3,
     "metadata": {
      "heading_collapsed": false,
      "slideshow": {
       "slide_type": "slide"
      }
     },
     "source": [
      "Exercise Least Mean Square Algorithm"
     ]
    },
    {
     "cell_type": "markdown",
     "metadata": {
      "slideshow": {
       "slide_type": "fragment"
      }
     },
     "source": [
      "Import the Boston Housing Data set in sckit learn and apply the above LMS algorithm to predict the attribute \"MEDV: Median value of owner-occupied homes in \\$1000's\". Answer the following questions:\n",
      "\n",
      "- How accurate is the model for predicting prices?\n",
      "- How could you estimate the goodness of the fit?\n",
      "- Play with the paramters to compare runtime vs. accuracy.\n",
      "- Evaluate the impact of feature scaling\n",
      "\n",
      "The solution can be found under [II.ML-and-DM-Example-LMS.ipynb](II.ML-and-DM-Example-LMS.ipynb)"
     ]
    },
    {
     "cell_type": "markdown",
     "metadata": {
      "slideshow": {
       "slide_type": "fragment"
      }
     },
     "source": [
      "**Notes/Code snippets to use:**\n",
      "\n",
      "- try to start with one dimension only and compare its predictive power for a price\n",
      "- plot the data with functions from below to get an idea on the data quality"
     ]
    },
    {
     "cell_type": "code",
     "collapsed": false,
     "input": [
      "#import the data set\n",
      "import sklearn.datasets as datasets\n",
      "ds = datasets.load_boston()"
     ],
     "language": "python",
     "metadata": {
      "slideshow": {
       "slide_type": "fragment"
      }
     },
     "outputs": [],
     "prompt_number": 14
    },
    {
     "cell_type": "code",
     "collapsed": false,
     "input": [
      "#do a boxplot\n",
      "boxplot(ds.data[:,12],vert=False, labels=[\"Boxplot of \" + ds.feature_names[12]])"
     ],
     "language": "python",
     "metadata": {
      "slideshow": {
       "slide_type": "fragment"
      }
     },
     "outputs": [
      {
       "metadata": {},
       "output_type": "pyout",
       "prompt_number": 23,
       "text": [
        "{'boxes': [<matplotlib.lines.Line2D at 0x106bade90>],\n",
        " 'caps': [<matplotlib.lines.Line2D at 0x106c70410>,\n",
        "  <matplotlib.lines.Line2D at 0x106c70ed0>],\n",
        " 'fliers': [<matplotlib.lines.Line2D at 0x106e0a990>],\n",
        " 'means': [],\n",
        " 'medians': [<matplotlib.lines.Line2D at 0x106e0ad50>],\n",
        " 'whiskers': [<matplotlib.lines.Line2D at 0x106d17890>,\n",
        "  <matplotlib.lines.Line2D at 0x106bad390>]}"
       ]
      },
      {
       "metadata": {},
       "output_type": "display_data",
       "png": "[encoded data removed]",
       "text": [
        "<matplotlib.figure.Figure at 0x106c8aa90>"
       ]
      }
     ],
     "prompt_number": 23
    },
    {
     "cell_type": "code",
     "collapsed": false,
     "input": [
      "#plot two attributes against each other\n",
      "attribute1 = 1 \n",
      "attribute2 = 2 \n",
      "plot(ds.data[:,attribute1],ds.data[:,attribute2],\".\")"
     ],
     "language": "python",
     "metadata": {
      "slideshow": {
       "slide_type": "fragment"
      }
     },
     "outputs": [
      {
       "metadata": {},
       "output_type": "pyout",
       "prompt_number": 26,
       "text": [
        "[<matplotlib.lines.Line2D at 0x1072ab350>]"
       ]
      },
      {
       "metadata": {},
       "output_type": "display_data",
       "png": "[encoded data removed]",
       "text": [
        "<matplotlib.figure.Figure at 0x1071c7550>"
       ]
      }
     ],
     "prompt_number": 26
    },
    {
     "cell_type": "heading",
     "level": 2,
     "metadata": {
      "heading_collapsed": false
     },
     "source": [
      "Supervised Learning in scikit learn"
     ]
    },
    {
     "cell_type": "markdown",
     "metadata": {},
     "source": [
      "TODO"
     ]
    },
    {
     "cell_type": "heading",
     "level": 1,
     "metadata": {
      "heading_collapsed": false,
      "slideshow": {
       "slide_type": "slide"
      }
     },
     "source": [
      "Unsupervised Learning\n"
     ]
    },
    {
     "cell_type": "markdown",
     "metadata": {
      "slideshow": {
       "slide_type": "fragment"
      }
     },
     "source": [
      "Unsupervised learning aims to find hidden structures in data. \n",
      "\n",
      "* **Clustering** identifies groups of similar data samples. Data samples should be maximize intra group similarity and mininmize intergroup similarity.\n",
      "\n",
      "* **Dimensionality Projection** aims to project a high-dimensional space into a low dimensional space\n",
      "\n",
      "* **Manifold Learning** aims to indentify lower-dimensional subspaces that contain a particular structure of data samples\n",
      "\n",
      "\n",
      "For a more formal introduction of the problem setting please refer to [Benno Steins Lecture Notes on Machine Learning](http://www.uni-weimar.de/en/media/chairs/webis/teaching/lecturenotes/#machine-learning)"
     ]
    },
    {
     "cell_type": "markdown",
     "metadata": {
      "slideshow": {
       "slide_type": "slide"
      }
     },
     "source": [
      "## 2. A scikit-learn Example\n",
      "\n",
      "In this section we will go through a very simple example. We will\n",
      "\n",
      "* Load a data set using scikit-learn functions (which wrap numpy)\n",
      "* Train a supervised classifier to predict hand written digits\n",
      "* Storing the model"
     ]
    },
    {
     "cell_type": "code",
     "collapsed": false,
     "input": [
      "#load a data set\n",
      "from sklearn import datasets\n",
      "iris = datasets.load_iris()\n",
      "digits = datasets.load_digits()\n",
      "print digits"
     ],
     "language": "python",
     "metadata": {
      "slideshow": {
       "slide_type": "fragment"
      }
     },
     "outputs": [
      {
       "output_type": "stream",
       "stream": "stdout",
       "text": [
        "{'images': array([[[  0.,   0.,   5., ...,   1.,   0.,   0.],\n",
        "        [  0.,   0.,  13., ...,  15.,   5.,   0.],\n",
        "        [  0.,   3.,  15., ...,  11.,   8.,   0.],\n",
        "        ..., \n",
        "        [  0.,   4.,  11., ...,  12.,   7.,   0.],\n",
        "        [  0.,   2.,  14., ...,  12.,   0.,   0.],\n",
        "        [  0.,   0.,   6., ...,   0.,   0.,   0.]],\n",
        "\n",
        "       [[  0.,   0.,   0., ...,   5.,   0.,   0.],\n",
        "        [  0.,   0.,   0., ...,   9.,   0.,   0.],\n",
        "        [  0.,   0.,   3., ...,   6.,   0.,   0.],\n",
        "        ..., \n",
        "        [  0.,   0.,   1., ...,   6.,   0.,   0.],\n",
        "        [  0.,   0.,   1., ...,   6.,   0.,   0.],\n",
        "        [  0.,   0.,   0., ...,  10.,   0.,   0.]],\n",
        "\n",
        "       [[  0.,   0.,   0., ...,  12.,   0.,   0.],\n",
        "        [  0.,   0.,   3., ...,  14.,   0.,   0.],\n",
        "        [  0.,   0.,   8., ...,  16.,   0.,   0.],\n",
        "        ..., \n",
        "        [  0.,   9.,  16., ...,   0.,   0.,   0.],\n",
        "        [  0.,   3.,  13., ...,  11.,   5.,   0.],\n",
        "        [  0.,   0.,   0., ...,  16.,   9.,   0.]],\n",
        "\n",
        "       ..., \n",
        "       [[  0.,   0.,   1., ...,   1.,   0.,   0.],\n",
        "        [  0.,   0.,  13., ...,   2.,   1.,   0.],\n",
        "        [  0.,   0.,  16., ...,  16.,   5.,   0.],\n",
        "        ..., \n",
        "        [  0.,   0.,  16., ...,  15.,   0.,   0.],\n",
        "        [  0.,   0.,  15., ...,  16.,   0.,   0.],\n",
        "        [  0.,   0.,   2., ...,   6.,   0.,   0.]],\n",
        "\n",
        "       [[  0.,   0.,   2., ...,   0.,   0.,   0.],\n",
        "        [  0.,   0.,  14., ...,  15.,   1.,   0.],\n",
        "        [  0.,   4.,  16., ...,  16.,   7.,   0.],\n",
        "        ..., \n",
        "        [  0.,   0.,   0., ...,  16.,   2.,   0.],\n",
        "        [  0.,   0.,   4., ...,  16.,   2.,   0.],\n",
        "        [  0.,   0.,   5., ...,  12.,   0.,   0.]],\n",
        "\n",
        "       [[  0.,   0.,  10., ...,   1.,   0.,   0.],\n",
        "        [  0.,   2.,  16., ...,   1.,   0.,   0.],\n",
        "        [  0.,   0.,  15., ...,  15.,   0.,   0.],\n",
        "        ..., \n",
        "        [  0.,   4.,  16., ...,  16.,   6.,   0.],\n",
        "        [  0.,   8.,  16., ...,  16.,   8.,   0.],\n",
        "        [  0.,   1.,   8., ...,  12.,   1.,   0.]]]), 'data': array([[  0.,   0.,   5., ...,   0.,   0.,   0.],\n",
        "       [  0.,   0.,   0., ...,  10.,   0.,   0.],\n",
        "       [  0.,   0.,   0., ...,  16.,   9.,   0.],\n",
        "       ..., \n",
        "       [  0.,   0.,   1., ...,   6.,   0.,   0.],\n",
        "       [  0.,   0.,   2., ...,  12.,   0.,   0.],\n",
        "       [  0.,   0.,  10., ...,  12.,   1.,   0.]]), 'target_names': array([0, 1, 2, 3, 4, 5, 6, 7, 8, 9]), 'DESCR': \" Optical Recognition of Handwritten Digits Data Set\\n\\nNotes\\n-----\\nData Set Characteristics:\\n    :Number of Instances: 5620\\n    :Number of Attributes: 64\\n    :Attribute Information: 8x8 image of integer pixels in the range 0..16.\\n    :Missing Attribute Values: None\\n    :Creator: E. Alpaydin (alpaydin '@' boun.edu.tr)\\n    :Date: July; 1998\\n\\nThis is a copy of the test set of the UCI ML hand-written digits datasets\\nhttp://archive.ics.uci.edu/ml/datasets/Optical+Recognition+of+Handwritten+Digits\\n\\nThe data set contains images of hand-written digits: 10 classes where\\neach class refers to a digit.\\n\\nPreprocessing programs made available by NIST were used to extract\\nnormalized bitmaps of handwritten digits from a preprinted form. From a\\ntotal of 43 people, 30 contributed to the training set and different 13\\nto the test set. 32x32 bitmaps are divided into nonoverlapping blocks of\\n4x4 and the number of on pixels are counted in each block. This generates\\nan input matrix of 8x8 where each element is an integer in the range\\n0..16. This reduces dimensionality and gives invariance to small\\ndistortions.\\n\\nFor info on NIST preprocessing routines, see M. D. Garris, J. L. Blue, G.\\nT. Candela, D. L. Dimmick, J. Geist, P. J. Grother, S. A. Janet, and C.\\nL. Wilson, NIST Form-Based Handprint Recognition System, NISTIR 5469,\\n1994.\\n\\nReferences\\n----------\\n  - C. Kaynak (1995) Methods of Combining Multiple Classifiers and Their\\n    Applications to Handwritten Digit Recognition, MSc Thesis, Institute of\\n    Graduate Studies in Science and Engineering, Bogazici University.\\n  - E. Alpaydin, C. Kaynak (1998) Cascading Classifiers, Kybernetika.\\n  - Ken Tang and Ponnuthurai N. Suganthan and Xi Yao and A. Kai Qin.\\n    Linear dimensionalityreduction using relevance weighted LDA. School of\\n    Electrical and Electronic Engineering Nanyang Technological University.\\n    2005.\\n  - Claudio Gentile. A New Approximate Maximal Margin Classification\\n    Algorithm. NIPS. 2000.\\n\", 'target': array([0, 1, 2, ..., 8, 9, 8])}\n"
       ]
      }
     ],
     "prompt_number": 5
    },
    {
     "cell_type": "markdown",
     "metadata": {
      "slideshow": {
       "slide_type": "fragment"
      }
     },
     "source": [
      "Data sets in scikit learn are **dictionary-like** objects that hold \n",
      "\n",
      "* the data (in the `data` variable) as `n_samples`and `n_feature` array\n",
      "* the target/class labels `target` in case of a supervised learning data set\n",
      "* metadata - describing several properties"
     ]
    },
    {
     "cell_type": "code",
     "collapsed": false,
     "input": [
      "print digits.keys()"
     ],
     "language": "python",
     "metadata": {
      "slideshow": {
       "slide_type": "fragment"
      }
     },
     "outputs": [
      {
       "output_type": "stream",
       "stream": "stdout",
       "text": [
        "['images', 'data', 'target_names', 'DESCR', 'target']\n"
       ]
      }
     ],
     "prompt_number": 14
    },
    {
     "cell_type": "code",
     "collapsed": false,
     "input": [
      "print digits['data'], digits['target']"
     ],
     "language": "python",
     "metadata": {
      "slideshow": {
       "slide_type": "fragment"
      }
     },
     "outputs": [
      {
       "output_type": "stream",
       "stream": "stdout",
       "text": [
        "[[  0.   0.   5. ...,   0.   0.   0.]\n",
        " [  0.   0.   0. ...,  10.   0.   0.]\n",
        " [  0.   0.   0. ...,  16.   9.   0.]\n",
        " ..., \n",
        " [  0.   0.   1. ...,   6.   0.   0.]\n",
        " [  0.   0.   2. ...,  12.   0.   0.]\n",
        " [  0.   0.  10. ...,  12.   1.   0.]] [0 1 2 ..., 8 9 8]\n"
       ]
      }
     ],
     "prompt_number": 15
    },
    {
     "cell_type": "code",
     "collapsed": false,
     "input": [
      "print digits['target_names']"
     ],
     "language": "python",
     "metadata": {
      "slideshow": {
       "slide_type": "fragment"
      }
     },
     "outputs": [
      {
       "output_type": "stream",
       "stream": "stdout",
       "text": [
        "[0 1 2 3 4 5 6 7 8 9]\n"
       ]
      }
     ],
     "prompt_number": 17
    },
    {
     "cell_type": "code",
     "collapsed": false,
     "input": [
      "print digits['DESCR']"
     ],
     "language": "python",
     "metadata": {
      "slideshow": {
       "slide_type": "fragment"
      }
     },
     "outputs": [
      {
       "output_type": "stream",
       "stream": "stdout",
       "text": [
        " Optical Recognition of Handwritten Digits Data Set\n",
        "\n",
        "Notes\n",
        "-----\n",
        "Data Set Characteristics:\n",
        "    :Number of Instances: 5620\n",
        "    :Number of Attributes: 64\n",
        "    :Attribute Information: 8x8 image of integer pixels in the range 0..16.\n",
        "    :Missing Attribute Values: None\n",
        "    :Creator: E. Alpaydin (alpaydin '@' boun.edu.tr)\n",
        "    :Date: July; 1998\n",
        "\n",
        "This is a copy of the test set of the UCI ML hand-written digits datasets\n",
        "http://archive.ics.uci.edu/ml/datasets/Optical+Recognition+of+Handwritten+Digits\n",
        "\n",
        "The data set contains images of hand-written digits: 10 classes where\n",
        "each class refers to a digit.\n",
        "\n",
        "Preprocessing programs made available by NIST were used to extract\n",
        "normalized bitmaps of handwritten digits from a preprinted form. From a\n",
        "total of 43 people, 30 contributed to the training set and different 13\n",
        "to the test set. 32x32 bitmaps are divided into nonoverlapping blocks of\n",
        "4x4 and the number of on pixels are counted in each block. This generates\n",
        "an input matrix of 8x8 where each element is an integer in the range\n",
        "0..16. This reduces dimensionality and gives invariance to small\n",
        "distortions.\n",
        "\n",
        "For info on NIST preprocessing routines, see M. D. Garris, J. L. Blue, G.\n",
        "T. Candela, D. L. Dimmick, J. Geist, P. J. Grother, S. A. Janet, and C.\n",
        "L. Wilson, NIST Form-Based Handprint Recognition System, NISTIR 5469,\n",
        "1994.\n",
        "\n",
        "References\n",
        "----------\n",
        "  - C. Kaynak (1995) Methods of Combining Multiple Classifiers and Their\n",
        "    Applications to Handwritten Digit Recognition, MSc Thesis, Institute of\n",
        "    Graduate Studies in Science and Engineering, Bogazici University.\n",
        "  - E. Alpaydin, C. Kaynak (1998) Cascading Classifiers, Kybernetika.\n",
        "  - Ken Tang and Ponnuthurai N. Suganthan and Xi Yao and A. Kai Qin.\n",
        "    Linear dimensionalityreduction using relevance weighted LDA. School of\n",
        "    Electrical and Electronic Engineering Nanyang Technological University.\n",
        "    2005.\n",
        "  - Claudio Gentile. A New Approximate Maximal Margin Classification\n",
        "    Algorithm. NIPS. 2000.\n",
        "\n"
       ]
      }
     ],
     "prompt_number": 32
    },
    {
     "cell_type": "markdown",
     "metadata": {
      "slideshow": {
       "slide_type": "fragment"
      }
     },
     "source": [
      "Lets visualise some of the data to get an idea"
     ]
    },
    {
     "cell_type": "code",
     "collapsed": false,
     "input": [
      "%pylab inline\n",
      "import pylab as pl\n",
      "pl.figure()\n",
      "pl.subplot(1,4,1)\n",
      "pl.imshow(digits.images[0],cmap=pl.gray(),interpolation='nearest')\n",
      "pl.subplot(1,4,2)\n",
      "pl.imshow(digits.images[1],cmap=pl.gray(),interpolation='nearest')\n",
      "pl.subplot(1,4,3)\n",
      "pl.imshow(digits.images[2],cmap=pl.gray(),interpolation='nearest')\n",
      "pl.subplot(1,4,4)\n",
      "pl.imshow(digits.images[3],cmap=pl.gray(),interpolation='nearest')\n",
      "pl.show()"
     ],
     "language": "python",
     "metadata": {
      "slideshow": {
       "slide_type": "fragment"
      }
     },
     "outputs": [
      {
       "output_type": "stream",
       "stream": "stdout",
       "text": [
        "Populating the interactive namespace from numpy and matplotlib\n"
       ]
      },
      {
       "output_type": "stream",
       "stream": "stderr",
       "text": [
        "WARNING: pylab import has clobbered these variables: ['clf']\n",
        "`%matplotlib` prevents importing * from pylab and numpy\n"
       ]
      },
      {
       "metadata": {},
       "output_type": "display_data",
       "png": "[encoded data removed]",
       "text": [
        "<matplotlib.figure.Figure at 0x1125de910>"
       ]
      }
     ],
     "prompt_number": 67
    },
    {
     "cell_type": "markdown",
     "metadata": {
      "slideshow": {
       "slide_type": "fragment"
      }
     },
     "source": [
      "Now, we train a supervised classifier on the digits data. It is a Support Vector Machine (which will be introduced later, but for now its just calling the functions)"
     ]
    },
    {
     "cell_type": "code",
     "collapsed": false,
     "input": [
      "from sklearn import svm\n",
      "#instantiate the class with some parameters\n",
      "clf = svm.SVC(gamma=0.001, C=100.)\n",
      "#now we train/fit the model using the data and the target\n",
      "clf.fit(digits.data[:-1], digits.target[:-1])  "
     ],
     "language": "python",
     "metadata": {
      "slideshow": {
       "slide_type": "fragment"
      }
     },
     "outputs": [
      {
       "metadata": {},
       "output_type": "pyout",
       "prompt_number": 49,
       "text": [
        "SVC(C=100.0, cache_size=200, class_weight=None, coef0=0.0, degree=3,\n",
        "  gamma=0.001, kernel='rbf', max_iter=-1, probability=False,\n",
        "  random_state=None, shrinking=True, tol=0.001, verbose=False)"
       ]
      }
     ],
     "prompt_number": 49
    },
    {
     "cell_type": "code",
     "collapsed": false,
     "input": [
      "#now predict the what number the last image is\n",
      "clf.predict(digits.data[-3:])"
     ],
     "language": "python",
     "metadata": {
      "slideshow": {
       "slide_type": "fragment"
      }
     },
     "outputs": [
      {
       "metadata": {},
       "output_type": "pyout",
       "prompt_number": 61,
       "text": [
        "array([8, 9, 8])"
       ]
      }
     ],
     "prompt_number": 61
    },
    {
     "cell_type": "code",
     "collapsed": false,
     "input": [
      "print digits.target[-3:]"
     ],
     "language": "python",
     "metadata": {
      "slideshow": {
       "slide_type": "fragment"
      }
     },
     "outputs": [
      {
       "output_type": "stream",
       "stream": "stdout",
       "text": [
        "[8 9 8]\n"
       ]
      }
     ],
     "prompt_number": 62
    },
    {
     "cell_type": "code",
     "collapsed": false,
     "input": [
      "#lets see if the classifier did it right?\n",
      "pl.figure()\n",
      "pl.subplot(1,3,1)\n",
      "pl.imshow(digits.images[-3],cmap=pl.gray(),interpolation='nearest')\n",
      "pl.subplot(1,3,2)\n",
      "pl.imshow(digits.images[-2],cmap=pl.gray(),interpolation='nearest')\n",
      "pl.subplot(1,3,3)\n",
      "pl.imshow(digits.images[-1],cmap=pl.gray(),interpolation='nearest')\n",
      "pl.show()"
     ],
     "language": "python",
     "metadata": {
      "slideshow": {
       "slide_type": "fragment"
      }
     },
     "outputs": [
      {
       "metadata": {},
       "output_type": "display_data",
       "png": "[encoded data removed]",
       "text": [
        "<matplotlib.figure.Figure at 0x11301e450>"
       ]
      }
     ],
     "prompt_number": 66
    }
   ],
   "metadata": {}
  }
 ]
}