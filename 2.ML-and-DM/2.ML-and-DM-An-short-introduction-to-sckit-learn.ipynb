{
 "metadata": {
  "celltoolbar": "Slideshow",
  "name": "",
  "signature": "sha256:a80393f0a358c1c45406f47d8fdbc9532d7ea66e1858ee780bd6feaebd990272"
 },
 "nbformat": 3,
 "nbformat_minor": 0,
 "worksheets": [
  {
   "cells": [
    {
     "cell_type": "markdown",
     "metadata": {
      "slideshow": {
       "slide_type": "slide"
      }
     },
     "source": [
      "# A short Introduction to scikit-learn\n",
      "\n",
      "** To know a library that can make some experiments simple **\n",
      "\n",
      "\n",
      "by \n",
      "\n",
      "[__Michael Granitzer__ (michael.granitzer@uni-passau.de)]( http://www.mendeley.com/profiles/michael-granitzer/)\n",
      "\n",
      "\n",
      "__License__\n",
      "\n",
      "This work is licensded under a [Creative Commons Attribution 3.0 Unported License](http://creativecommons.org/licenses/by/3.0/)\n"
     ]
    },
    {
     "cell_type": "markdown",
     "metadata": {
      "slideshow": {
       "slide_type": "subslide"
      }
     },
     "source": [
      "## Outline\n",
      "\n",
      "1. Short Overview on Scikit Learn\n",
      "2. A scikit Learn Example\n",
      "\n",
      "You may also refer to the [scikit-learning Introduction](http://scikit-learn.org/stable/tutorial/basic/tutorial.html)"
     ]
    },
    {
     "cell_type": "markdown",
     "metadata": {
      "slideshow": {
       "slide_type": "slide"
      }
     },
     "source": [
      "## 1. Overview\n",
      "\n",
      "scikit-learn is a Machine Learning library in Python (http://scikit-learn.org/stable/).\n",
      "\n",
      "\n",
      "* Simple and efficient tools for data mining and data analysis\n",
      "* Accessible to everybody, and reusable in various contexts\n",
      "* Built on NumPy, SciPy, and matplotlib\n",
      "* Open source, commercially usable - BSD license\n",
      "\n",
      "(see [Homepage](http://scikit-learn.org/stable/))"
     ]
    },
    {
     "cell_type": "markdown",
     "metadata": {
      "slideshow": {
       "slide_type": "subslide"
      }
     },
     "source": [
      "### Machine Learning - What is it?\n",
      "\n",
      "Machine Learning creates *models* from *observation*.\n",
      "\n",
      "**General Approach**\n",
      "\n",
      "Given are\n",
      "\n",
      "1. **n data samples** (e.g. n flowers)\n",
      "2. Every data sample is described by a **set of features/attributes** (e.g. length and width of the flower)\n",
      "\n",
      "Machine learning estimates a **model** that **best fit the data**. Fitting means the model\n",
      "\n",
      "1. **predicts** features of yet unkown examples (e.g. predict the class a flower belongs to)\n",
      "2. **describes** properties of the examples (e.g. points belonging togehter)\n",
      "\n",
      "Building such a model is called learning, training or model fitting.\n",
      "\n",
      "Using such a model is often call \"testing\", \"model estimation\" or \"inference step\""
     ]
    },
    {
     "cell_type": "markdown",
     "metadata": {
      "slideshow": {
       "slide_type": "subslide"
      }
     },
     "source": [
      "#### Supervised Learning \n",
      "\n",
      "Supervised Learning wants to predict one feature/attribute of a data set.\n",
      "\n",
      "* If the attribute is nominal supervised learning is called **classification**. e.g. assigning the class a flower belong to based on their geometric attributes (e.g. width and length)\n",
      "\n",
      "* If the attribut is ratio scaled (or interval scaled) supervised learning is called **regression**. e.g. predicting the lenght of a flower based on its width.\n",
      "\n",
      "For a more formal introduction of the problem setting please refer to [Benno Steins Lecture Notes on Machine Learning](http://www.uni-weimar.de/en/media/chairs/webis/teaching/lecturenotes/#machine-learning)"
     ]
    },
    {
     "cell_type": "markdown",
     "metadata": {
      "slideshow": {
       "slide_type": "fragment"
      }
     },
     "source": [
      "#### Unsupervised Learning\n",
      "\n",
      "Unsupervised learning aims to find hidden structures in data. \n",
      "\n",
      "* **Clustering** identifies groups of similar data samples. Data samples should be maximize intra group similarity and mininmize intergroup similarity.\n",
      "\n",
      "* **Dimensionality Projection** aims to project a high-dimensional space into a low dimensional space\n",
      "\n",
      "* **Manifold Learning** aims to indentify lower-dimensional subspaces that contain a particular structure of data samples\n",
      "\n",
      "\n",
      "For a more formal introduction of the problem setting please refer to [Benno Steins Lecture Notes on Machine Learning](http://www.uni-weimar.de/en/media/chairs/webis/teaching/lecturenotes/#machine-learning)"
     ]
    },
    {
     "cell_type": "markdown",
     "metadata": {
      "slideshow": {
       "slide_type": "slide"
      }
     },
     "source": [
      "## 2. A scikit-learn Example\n",
      "\n",
      "In this section we will go through a very simple example. We will\n",
      "\n",
      "* Load a data set using scikit-learn functions (which wrap numpy)\n",
      "* Train a supervised classifier to predict hand written digits\n",
      "* Storing the model"
     ]
    },
    {
     "cell_type": "code",
     "collapsed": false,
     "input": [
      "#load a data set\n",
      "from sklearn import datasets\n",
      "from sklearn import svm\n",
      "clf = svm.SVC(gamma=0.001, C=100.)\n",
      "iris = datasets.load_iris()\n",
      "digits = datasets.load_digits()\n",
      "print digits"
     ],
     "language": "python",
     "metadata": {
      "slideshow": {
       "slide_type": "fragment"
      }
     },
     "outputs": [
      {
       "output_type": "stream",
       "stream": "stdout",
       "text": [
        "{'images': array([[[  0.,   0.,   5., ...,   1.,   0.,   0.],\n",
        "        [  0.,   0.,  13., ...,  15.,   5.,   0.],\n",
        "        [  0.,   3.,  15., ...,  11.,   8.,   0.],\n",
        "        ..., \n",
        "        [  0.,   4.,  11., ...,  12.,   7.,   0.],\n",
        "        [  0.,   2.,  14., ...,  12.,   0.,   0.],\n",
        "        [  0.,   0.,   6., ...,   0.,   0.,   0.]],\n",
        "\n",
        "       [[  0.,   0.,   0., ...,   5.,   0.,   0.],\n",
        "        [  0.,   0.,   0., ...,   9.,   0.,   0.],\n",
        "        [  0.,   0.,   3., ...,   6.,   0.,   0.],\n",
        "        ..., \n",
        "        [  0.,   0.,   1., ...,   6.,   0.,   0.],\n",
        "        [  0.,   0.,   1., ...,   6.,   0.,   0.],\n",
        "        [  0.,   0.,   0., ...,  10.,   0.,   0.]],\n",
        "\n",
        "       [[  0.,   0.,   0., ...,  12.,   0.,   0.],\n",
        "        [  0.,   0.,   3., ...,  14.,   0.,   0.],\n",
        "        [  0.,   0.,   8., ...,  16.,   0.,   0.],\n",
        "        ..., \n",
        "        [  0.,   9.,  16., ...,   0.,   0.,   0.],\n",
        "        [  0.,   3.,  13., ...,  11.,   5.,   0.],\n",
        "        [  0.,   0.,   0., ...,  16.,   9.,   0.]],\n",
        "\n",
        "       ..., \n",
        "       [[  0.,   0.,   1., ...,   1.,   0.,   0.],\n",
        "        [  0.,   0.,  13., ...,   2.,   1.,   0.],\n",
        "        [  0.,   0.,  16., ...,  16.,   5.,   0.],\n",
        "        ..., \n",
        "        [  0.,   0.,  16., ...,  15.,   0.,   0.],\n",
        "        [  0.,   0.,  15., ...,  16.,   0.,   0.],\n",
        "        [  0.,   0.,   2., ...,   6.,   0.,   0.]],\n",
        "\n",
        "       [[  0.,   0.,   2., ...,   0.,   0.,   0.],\n",
        "        [  0.,   0.,  14., ...,  15.,   1.,   0.],\n",
        "        [  0.,   4.,  16., ...,  16.,   7.,   0.],\n",
        "        ..., \n",
        "        [  0.,   0.,   0., ...,  16.,   2.,   0.],\n",
        "        [  0.,   0.,   4., ...,  16.,   2.,   0.],\n",
        "        [  0.,   0.,   5., ...,  12.,   0.,   0.]],\n",
        "\n",
        "       [[  0.,   0.,  10., ...,   1.,   0.,   0.],\n",
        "        [  0.,   2.,  16., ...,   1.,   0.,   0.],\n",
        "        [  0.,   0.,  15., ...,  15.,   0.,   0.],\n",
        "        ..., \n",
        "        [  0.,   4.,  16., ...,  16.,   6.,   0.],\n",
        "        [  0.,   8.,  16., ...,  16.,   8.,   0.],\n",
        "        [  0.,   1.,   8., ...,  12.,   1.,   0.]]]), 'data': array([[  0.,   0.,   5., ...,   0.,   0.,   0.],\n",
        "       [  0.,   0.,   0., ...,  10.,   0.,   0.],\n",
        "       [  0.,   0.,   0., ...,  16.,   9.,   0.],\n",
        "       ..., \n",
        "       [  0.,   0.,   1., ...,   6.,   0.,   0.],\n",
        "       [  0.,   0.,   2., ...,  12.,   0.,   0.],\n",
        "       [  0.,   0.,  10., ...,  12.,   1.,   0.]]), 'target_names': array([0, 1, 2, 3, 4, 5, 6, 7, 8, 9]), 'DESCR': \" Optical Recognition of Handwritten Digits Data Set\\n\\nNotes\\n-----\\nData Set Characteristics:\\n    :Number of Instances: 5620\\n    :Number of Attributes: 64\\n    :Attribute Information: 8x8 image of integer pixels in the range 0..16.\\n    :Missing Attribute Values: None\\n    :Creator: E. Alpaydin (alpaydin '@' boun.edu.tr)\\n    :Date: July; 1998\\n\\nThis is a copy of the test set of the UCI ML hand-written digits datasets\\nhttp://archive.ics.uci.edu/ml/datasets/Optical+Recognition+of+Handwritten+Digits\\n\\nThe data set contains images of hand-written digits: 10 classes where\\neach class refers to a digit.\\n\\nPreprocessing programs made available by NIST were used to extract\\nnormalized bitmaps of handwritten digits from a preprinted form. From a\\ntotal of 43 people, 30 contributed to the training set and different 13\\nto the test set. 32x32 bitmaps are divided into nonoverlapping blocks of\\n4x4 and the number of on pixels are counted in each block. This generates\\nan input matrix of 8x8 where each element is an integer in the range\\n0..16. This reduces dimensionality and gives invariance to small\\ndistortions.\\n\\nFor info on NIST preprocessing routines, see M. D. Garris, J. L. Blue, G.\\nT. Candela, D. L. Dimmick, J. Geist, P. J. Grother, S. A. Janet, and C.\\nL. Wilson, NIST Form-Based Handprint Recognition System, NISTIR 5469,\\n1994.\\n\\nReferences\\n----------\\n  - C. Kaynak (1995) Methods of Combining Multiple Classifiers and Their\\n    Applications to Handwritten Digit Recognition, MSc Thesis, Institute of\\n    Graduate Studies in Science and Engineering, Bogazici University.\\n  - E. Alpaydin, C. Kaynak (1998) Cascading Classifiers, Kybernetika.\\n  - Ken Tang and Ponnuthurai N. Suganthan and Xi Yao and A. Kai Qin.\\n    Linear dimensionalityreduction using relevance weighted LDA. School of\\n    Electrical and Electronic Engineering Nanyang Technological University.\\n    2005.\\n  - Claudio Gentile. A New Approximate Maximal Margin Classification\\n    Algorithm. NIPS. 2000.\\n\", 'target': array([0, 1, 2, ..., 8, 9, 8])}\n"
       ]
      }
     ],
     "prompt_number": 5
    },
    {
     "cell_type": "markdown",
     "metadata": {
      "slideshow": {
       "slide_type": "fragment"
      }
     },
     "source": [
      "Data sets in scikit learn are **dictionary-like** objects that hold \n",
      "\n",
      "* the data (in the `data` variable) as `n_samples`and `n_feature` array\n",
      "* the target/class labels `target` in case of a supervised learning data set\n",
      "* metadata - describing several properties"
     ]
    },
    {
     "cell_type": "code",
     "collapsed": false,
     "input": [
      "print digits.keys()"
     ],
     "language": "python",
     "metadata": {
      "slideshow": {
       "slide_type": "fragment"
      }
     },
     "outputs": [
      {
       "output_type": "stream",
       "stream": "stdout",
       "text": [
        "['images', 'data', 'target_names', 'DESCR', 'target']\n"
       ]
      }
     ],
     "prompt_number": 14
    },
    {
     "cell_type": "code",
     "collapsed": false,
     "input": [
      "print digits['data'], digits['target']"
     ],
     "language": "python",
     "metadata": {
      "slideshow": {
       "slide_type": "fragment"
      }
     },
     "outputs": [
      {
       "output_type": "stream",
       "stream": "stdout",
       "text": [
        "[[  0.   0.   5. ...,   0.   0.   0.]\n",
        " [  0.   0.   0. ...,  10.   0.   0.]\n",
        " [  0.   0.   0. ...,  16.   9.   0.]\n",
        " ..., \n",
        " [  0.   0.   1. ...,   6.   0.   0.]\n",
        " [  0.   0.   2. ...,  12.   0.   0.]\n",
        " [  0.   0.  10. ...,  12.   1.   0.]] [0 1 2 ..., 8 9 8]\n"
       ]
      }
     ],
     "prompt_number": 15
    },
    {
     "cell_type": "code",
     "collapsed": false,
     "input": [
      "print digits['target_names']"
     ],
     "language": "python",
     "metadata": {
      "slideshow": {
       "slide_type": "fragment"
      }
     },
     "outputs": [
      {
       "output_type": "stream",
       "stream": "stdout",
       "text": [
        "[0 1 2 3 4 5 6 7 8 9]\n"
       ]
      }
     ],
     "prompt_number": 17
    },
    {
     "cell_type": "code",
     "collapsed": false,
     "input": [
      "print digits['DESCR']"
     ],
     "language": "python",
     "metadata": {
      "slideshow": {
       "slide_type": "fragment"
      }
     },
     "outputs": [
      {
       "output_type": "stream",
       "stream": "stdout",
       "text": [
        " Optical Recognition of Handwritten Digits Data Set\n",
        "\n",
        "Notes\n",
        "-----\n",
        "Data Set Characteristics:\n",
        "    :Number of Instances: 5620\n",
        "    :Number of Attributes: 64\n",
        "    :Attribute Information: 8x8 image of integer pixels in the range 0..16.\n",
        "    :Missing Attribute Values: None\n",
        "    :Creator: E. Alpaydin (alpaydin '@' boun.edu.tr)\n",
        "    :Date: July; 1998\n",
        "\n",
        "This is a copy of the test set of the UCI ML hand-written digits datasets\n",
        "http://archive.ics.uci.edu/ml/datasets/Optical+Recognition+of+Handwritten+Digits\n",
        "\n",
        "The data set contains images of hand-written digits: 10 classes where\n",
        "each class refers to a digit.\n",
        "\n",
        "Preprocessing programs made available by NIST were used to extract\n",
        "normalized bitmaps of handwritten digits from a preprinted form. From a\n",
        "total of 43 people, 30 contributed to the training set and different 13\n",
        "to the test set. 32x32 bitmaps are divided into nonoverlapping blocks of\n",
        "4x4 and the number of on pixels are counted in each block. This generates\n",
        "an input matrix of 8x8 where each element is an integer in the range\n",
        "0..16. This reduces dimensionality and gives invariance to small\n",
        "distortions.\n",
        "\n",
        "For info on NIST preprocessing routines, see M. D. Garris, J. L. Blue, G.\n",
        "T. Candela, D. L. Dimmick, J. Geist, P. J. Grother, S. A. Janet, and C.\n",
        "L. Wilson, NIST Form-Based Handprint Recognition System, NISTIR 5469,\n",
        "1994.\n",
        "\n",
        "References\n",
        "----------\n",
        "  - C. Kaynak (1995) Methods of Combining Multiple Classifiers and Their\n",
        "    Applications to Handwritten Digit Recognition, MSc Thesis, Institute of\n",
        "    Graduate Studies in Science and Engineering, Bogazici University.\n",
        "  - E. Alpaydin, C. Kaynak (1998) Cascading Classifiers, Kybernetika.\n",
        "  - Ken Tang and Ponnuthurai N. Suganthan and Xi Yao and A. Kai Qin.\n",
        "    Linear dimensionalityreduction using relevance weighted LDA. School of\n",
        "    Electrical and Electronic Engineering Nanyang Technological University.\n",
        "    2005.\n",
        "  - Claudio Gentile. A New Approximate Maximal Margin Classification\n",
        "    Algorithm. NIPS. 2000.\n",
        "\n"
       ]
      }
     ],
     "prompt_number": 32
    },
    {
     "cell_type": "markdown",
     "metadata": {
      "slideshow": {
       "slide_type": "fragment"
      }
     },
     "source": [
      "Lets visualise some of the data to get an idea"
     ]
    },
    {
     "cell_type": "code",
     "collapsed": false,
     "input": [
      "%pylab inline\n",
      "import pylab as pl\n",
      "pl.figure()\n",
      "pl.subplot(1,4,1)\n",
      "pl.imshow(digits.images[0],cmap=pl.gray(),interpolation='nearest')\n",
      "pl.subplot(1,4,2)\n",
      "pl.imshow(digits.images[1],cmap=pl.gray(),interpolation='nearest')\n",
      "pl.subplot(1,4,3)\n",
      "pl.imshow(digits.images[2],cmap=pl.gray(),interpolation='nearest')\n",
      "pl.subplot(1,4,4)\n",
      "pl.imshow(digits.images[3],cmap=pl.gray(),interpolation='nearest')\n",
      "pl.show()"
     ],
     "language": "python",
     "metadata": {
      "slideshow": {
       "slide_type": "fragment"
      }
     },
     "outputs": [
      {
       "output_type": "stream",
       "stream": "stdout",
       "text": [
        "Populating the interactive namespace from numpy and matplotlib\n"
       ]
      },
      {
       "output_type": "stream",
       "stream": "stderr",
       "text": [
        "WARNING: pylab import has clobbered these variables: ['clf']\n",
        "`%matplotlib` prevents importing * from pylab and numpy\n"
       ]
      },
      {
       "metadata": {},
       "output_type": "display_data",
       "png": "[encoded data removed]",
       "text": [
        "<matplotlib.figure.Figure at 0x1125de910>"
       ]
      }
     ],
     "prompt_number": 67
    },
    {
     "cell_type": "markdown",
     "metadata": {
      "slideshow": {
       "slide_type": "fragment"
      }
     },
     "source": [
      "Now, we train a supervised classifier on the digits data. It is a Support Vector Machine (which will be introduced later, but for now its just calling the functions)"
     ]
    },
    {
     "cell_type": "code",
     "collapsed": false,
     "input": [
      "from sklearn import svm\n",
      "#instantiate the class with some parameters\n",
      "clf = svm.SVC(gamma=0.001, C=100.)\n",
      "#now we train/fit the model using the data and the target\n",
      "clf.fit(digits.data[:-1], digits.target[:-1])  "
     ],
     "language": "python",
     "metadata": {
      "slideshow": {
       "slide_type": "fragment"
      }
     },
     "outputs": [
      {
       "metadata": {},
       "output_type": "pyout",
       "prompt_number": 49,
       "text": [
        "SVC(C=100.0, cache_size=200, class_weight=None, coef0=0.0, degree=3,\n",
        "  gamma=0.001, kernel='rbf', max_iter=-1, probability=False,\n",
        "  random_state=None, shrinking=True, tol=0.001, verbose=False)"
       ]
      }
     ],
     "prompt_number": 49
    },
    {
     "cell_type": "code",
     "collapsed": false,
     "input": [
      "#now predict the what number the last image is\n",
      "clf.predict(digits.data[-3:])"
     ],
     "language": "python",
     "metadata": {
      "slideshow": {
       "slide_type": "fragment"
      }
     },
     "outputs": [
      {
       "metadata": {},
       "output_type": "pyout",
       "prompt_number": 61,
       "text": [
        "array([8, 9, 8])"
       ]
      }
     ],
     "prompt_number": 61
    },
    {
     "cell_type": "code",
     "collapsed": false,
     "input": [
      "print digits.target[-3:]"
     ],
     "language": "python",
     "metadata": {
      "slideshow": {
       "slide_type": "fragment"
      }
     },
     "outputs": [
      {
       "output_type": "stream",
       "stream": "stdout",
       "text": [
        "[8 9 8]\n"
       ]
      }
     ],
     "prompt_number": 62
    },
    {
     "cell_type": "code",
     "collapsed": false,
     "input": [
      "#lets see if the classifier did it right?\n",
      "pl.figure()\n",
      "pl.subplot(1,3,1)\n",
      "pl.imshow(digits.images[-3],cmap=pl.gray(),interpolation='nearest')\n",
      "pl.subplot(1,3,2)\n",
      "pl.imshow(digits.images[-2],cmap=pl.gray(),interpolation='nearest')\n",
      "pl.subplot(1,3,3)\n",
      "pl.imshow(digits.images[-1],cmap=pl.gray(),interpolation='nearest')\n",
      "pl.show()"
     ],
     "language": "python",
     "metadata": {
      "slideshow": {
       "slide_type": "fragment"
      }
     },
     "outputs": [
      {
       "metadata": {},
       "output_type": "display_data",
       "png": "[encoded data removed]",
       "text": [
        "<matplotlib.figure.Figure at 0x11301e450>"
       ]
      }
     ],
     "prompt_number": 66
    }
   ],
   "metadata": {}
  }
 ]
}