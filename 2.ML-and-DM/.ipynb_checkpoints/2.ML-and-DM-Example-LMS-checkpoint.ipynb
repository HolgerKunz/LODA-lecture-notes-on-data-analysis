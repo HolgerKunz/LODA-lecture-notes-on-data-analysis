{
 "metadata": {
  "name": ""
 },
 "nbformat": 3,
 "nbformat_minor": 0,
 "worksheets": [
  {
   "cells": [
    {
     "cell_type": "markdown",
     "metadata": {
      "slideshow": {
       "slide_type": "slide"
      }
     },
     "source": [
      "# Least Mean Square Algorithm for the Boston housing prices data set\n",
      "\n",
      "by \n",
      "\n",
      "[__Michael Granitzer__ (michael.granitzer@uni-passau.de)]( http://www.mendeley.com/profiles/michael-granitzer/)\n",
      "\n",
      "\n",
      "__License__\n",
      "\n",
      "This work is licensded under a [Creative Commons Attribution 3.0 Unported License](http://creativecommons.org/licenses/by/3.0/)\n",
      "\n",
      "\n"
     ]
    },
    {
     "cell_type": "markdown",
     "metadata": {
      "slideshow": {
       "slide_type": "slide"
      }
     },
     "source": [
      "## Introduction and Aims of the Tutorial\n",
      "\n",
      "This example demonstrates the implementation of a simple, gradient descent based Least Mean Square algorithm for fitting the [Boston Housing Prices Data Set](http://archive.ics.uci.edu/ml/datasets/Housing). \n",
      "\n",
      "We will use Numpy,Mathplotlib/Pylab and scikit-learn (mainly for loading the data set and some small cross-validation) to implement the LMS Algorithm and evaluate it.  \n",
      "\n",
      "A large bunch of Machine Learning theory could be developed around the LMS Algorithm. However this tutorial aims more on the practical side. In particular you should learn the following points:\n",
      "\n",
      "* Given a set of data points, how can we learn a predictor for extrapolating unkown data points?\n",
      "* What are the properties of an iterative, stoachstic algorithm like the LMS for doing so?\n",
      "* What is the workflow for doing data anaylsis?\n",
      "* How to estimate the goodness of fit of a found predictor?\n",
      "* How to find suitable parameters for a problem?\n",
      "\n",
      "I hope you will enjoy this tutorial\n"
     ]
    },
    {
     "cell_type": "markdown",
     "metadata": {
      "slideshow": {
       "slide_type": "slide"
      }
     },
     "source": [
      "## Setting up IPython Notebook\n",
      "The code below simply sets up ipython notebook and displays graphs inline (e.g. as HTML)"
     ]
    },
    {
     "cell_type": "code",
     "collapsed": false,
     "input": [
      "%pylab inline"
     ],
     "language": "python",
     "metadata": {},
     "outputs": [
      {
       "output_type": "stream",
       "stream": "stdout",
       "text": [
        "Populating the interactive namespace from numpy and matplotlib\n"
       ]
      }
     ],
     "prompt_number": 18
    },
    {
     "cell_type": "markdown",
     "metadata": {
      "slideshow": {
       "slide_type": "slide"
      }
     },
     "source": [
      "## Importing Stuff, data set preparation\n",
      "Next, we import sklearn (must be installed on your system when you run this notebook) and load the data set from sklearn.datasets"
     ]
    },
    {
     "cell_type": "code",
     "collapsed": false,
     "input": [
      "import numpy as np\n",
      "import sklearn.datasets as datasets\n",
      "ds = datasets.load_boston()"
     ],
     "language": "python",
     "metadata": {},
     "outputs": [],
     "prompt_number": 11
    },
    {
     "cell_type": "code",
     "collapsed": false,
     "input": [
      "#that is the data \n",
      "ds.data"
     ],
     "language": "python",
     "metadata": {},
     "outputs": [
      {
       "metadata": {},
       "output_type": "pyout",
       "prompt_number": 12,
       "text": [
        "array([[  6.32000000e-03,   1.80000000e+01,   2.31000000e+00, ...,\n",
        "          1.53000000e+01,   3.96900000e+02,   4.98000000e+00],\n",
        "       [  2.73100000e-02,   0.00000000e+00,   7.07000000e+00, ...,\n",
        "          1.78000000e+01,   3.96900000e+02,   9.14000000e+00],\n",
        "       [  2.72900000e-02,   0.00000000e+00,   7.07000000e+00, ...,\n",
        "          1.78000000e+01,   3.92830000e+02,   4.03000000e+00],\n",
        "       ..., \n",
        "       [  6.07600000e-02,   0.00000000e+00,   1.19300000e+01, ...,\n",
        "          2.10000000e+01,   3.96900000e+02,   5.64000000e+00],\n",
        "       [  1.09590000e-01,   0.00000000e+00,   1.19300000e+01, ...,\n",
        "          2.10000000e+01,   3.93450000e+02,   6.48000000e+00],\n",
        "       [  4.74100000e-02,   0.00000000e+00,   1.19300000e+01, ...,\n",
        "          2.10000000e+01,   3.96900000e+02,   7.88000000e+00]])"
       ]
      }
     ],
     "prompt_number": 12
    },
    {
     "cell_type": "code",
     "collapsed": false,
     "input": [
      "#it has 13 attributes or features and 506 data points\n",
      "ds.data.shape"
     ],
     "language": "python",
     "metadata": {},
     "outputs": [
      {
       "metadata": {},
       "output_type": "pyout",
       "prompt_number": 13,
       "text": [
        "(506, 13)"
       ]
      }
     ],
     "prompt_number": 13
    },
    {
     "cell_type": "code",
     "collapsed": false,
     "input": [
      "#and here are the feautre names. note that the last feature name is the target\n",
      "ds.feature_names"
     ],
     "language": "python",
     "metadata": {},
     "outputs": [
      {
       "metadata": {},
       "output_type": "pyout",
       "prompt_number": 14,
       "text": [
        "array(['CRIM', 'ZN', 'INDUS', 'CHAS', 'NOX', 'RM', 'AGE', 'DIS', 'RAD',\n",
        "       'TAX', 'PTRATIO', 'B', 'LSTAT', 'MEDV'], \n",
        "      dtype='|S7')"
       ]
      }
     ],
     "prompt_number": 14
    },
    {
     "cell_type": "code",
     "collapsed": false,
     "input": [
      "#here are the target values for the 506 data points\n",
      "ds.target.shape"
     ],
     "language": "python",
     "metadata": {},
     "outputs": [
      {
       "metadata": {},
       "output_type": "pyout",
       "prompt_number": 15,
       "text": [
        "(506,)"
       ]
      }
     ],
     "prompt_number": 15
    },
    {
     "cell_type": "markdown",
     "metadata": {
      "slideshow": {
       "slide_type": "slide"
      }
     },
     "source": [
      "## The LMS Function\n",
      "Now lets code the LMS function as outlined in the [Data Mining and Machine Learning slides, pg ML:I-30](http://www.uni-weimar.de/medien/webis/teaching/lecturenotes/machine-learning/unit-en-ml-introduction.pdf) "
     ]
    },
    {
     "cell_type": "code",
     "collapsed": false,
     "input": [
      "\n",
      "def lms(data,eta=0.1, iterations=1000, bias=True):\n",
      "    \"\"\"\n",
      "    data: tupel containing the data matrix x and target values c(x)\n",
      "    eta: learning rate. default is 0.1\n",
      "    bias: True, if a bias term should be included\n",
      "    iterations: do some fixed amount of iterations. no need for more sophisticated stopping criterions\n",
      "    \"\"\"\n",
      "    target = data[1]\n",
      "    data = data[0]\n",
      "    dim = data.shape[1]         # get the number of attributes/features\n",
      "    num_points = data.shape[0]\n",
      "    if bias:                    # when considering the bias term we have to add w_0\n",
      "        dim+=1\n",
      "        data = np.concatenate(\n",
      "                [\n",
      "                 data, \n",
      "                 np.ones(num_points).reshape(num_points,1)\n",
      "                ]\n",
      "                ,axis=1)    # add bias term as attribute with value 1 for every data point\n",
      "    w = np.ones(dim)    # that is the weight vector as column vector    \n",
      "    for i in range(iterations):\n",
      "        next = np.random.randint(num_points)  #next example to work on\n",
      "        predict = np.dot(data[next,],w)       #predict the value of next based on the current hypothesis\n",
      "        error = target[next]-predict          # estimate the error\n",
      "        w = w + eta*error*data[next,]         # inner loop is done by numpy\n",
      "    \n",
      "    return w\n",
      "        \n"
     ],
     "language": "python",
     "metadata": {},
     "outputs": [],
     "prompt_number": 16
    },
    {
     "cell_type": "markdown",
     "metadata": {},
     "source": [
      "### Remarks on the Implemtation\n",
      "  * be careful with the shapes and operations on matrices. Numpy makes a number of implicit assumption and forgives a lot when sizes do not fit perfectly (see broadcasting of numpy arras)\n",
      "    * for example in the lms function replace `np.dot(data,w)` with `data*w` and you will do elementwise multiplication\n",
      "    * `data[next,]` returns a vector, not a matrix, so we need dot"
     ]
    },
    {
     "cell_type": "markdown",
     "metadata": {
      "slideshow": {
       "slide_type": "slide"
      }
     },
     "source": [
      "## Application of the LMS to Toy Data\n",
      "Now lets do a toy example to see whether lms works"
     ]
    },
    {
     "cell_type": "code",
     "collapsed": false,
     "input": [
      "#create data and plot it\n",
      "toy = np.arange(10).reshape((10,1))\n",
      "target = toy*0.2 + 0.5\n",
      "plot (toy,target,'g.')\n",
      "show()\n"
     ],
     "language": "python",
     "metadata": {},
     "outputs": [
      {
       "metadata": {},
       "output_type": "display_data",
       "png": "[encoded data removed]",
       "text": [
        "<matplotlib.figure.Figure at 0x10b5f53d0>"
       ]
      }
     ],
     "prompt_number": 19
    },
    {
     "cell_type": "code",
     "collapsed": false,
     "input": [
      "#run lms with parameters that work (see practical tips)\n",
      "data_zipped = (toy,target)\n",
      "print lms(data_zipped,iterations=10000,eta=0.001)"
     ],
     "language": "python",
     "metadata": {},
     "outputs": [
      {
       "output_type": "stream",
       "stream": "stdout",
       "text": [
        "[ 0.19652489  0.5228501 ]\n"
       ]
      }
     ],
     "prompt_number": 82
    },
    {
     "cell_type": "markdown",
     "metadata": {
      "slideshow": {
       "slide_type": "subslide"
      }
     },
     "source": [
      "### Remarks on Parameter Settings\n",
      "   * In the run above we get close, but do not find the correct solution. Increasing the number of iterations leads to the correct solution if eta is small enough. \n",
      "   * chosing eta larger needs less iteraionts. However, a too large eta yields too large updates and the lms algorithm might diverges. So eta must be sufficiently small"
     ]
    },
    {
     "cell_type": "code",
     "collapsed": false,
     "input": [
      "#lms with increased iteraions. eta is small enough so we find a solution\n",
      "data_zipped = (toy,target)\n",
      "print lms(data_zipped,iterations=50000,eta=0.01)"
     ],
     "language": "python",
     "metadata": {},
     "outputs": [
      {
       "output_type": "stream",
       "stream": "stdout",
       "text": [
        "[ 0.2  0.5]\n"
       ]
      }
     ],
     "prompt_number": 21
    },
    {
     "cell_type": "code",
     "collapsed": false,
     "input": [
      "#lms with increased eta. we find the correct solutions\n",
      "data_zipped = (toy,target)\n",
      "print lms(data_zipped,iterations=10000,eta=0.051)"
     ],
     "language": "python",
     "metadata": {},
     "outputs": [
      {
       "output_type": "stream",
       "stream": "stdout",
       "text": [
        "[ 0.2  0.5]\n"
       ]
      }
     ],
     "prompt_number": 22
    },
    {
     "cell_type": "code",
     "collapsed": false,
     "input": [
      "#eta is to large. lms diverges\n",
      "data_zipped = (toy,target)\n",
      "print lms(data_zipped,iterations=10000,eta=0.08)"
     ],
     "language": "python",
     "metadata": {},
     "outputs": [
      {
       "output_type": "stream",
       "stream": "stdout",
       "text": [
        "[ nan  nan]\n"
       ]
      }
     ],
     "prompt_number": 23
    },
    {
     "cell_type": "code",
     "collapsed": false,
     "input": [
      "w = lms(data_zipped,iterations=1000,eta=0.001)\n",
      "plot(toy,target,'g.')\n",
      "plot(toy,toy*w[0]+w[1],'r')\n",
      "show()"
     ],
     "language": "python",
     "metadata": {},
     "outputs": [
      {
       "metadata": {},
       "output_type": "display_data",
       "png": "[encoded data removed]",
       "text": [
        "<matplotlib.figure.Figure at 0x10ad52390>"
       ]
      }
     ],
     "prompt_number": 24
    },
    {
     "cell_type": "markdown",
     "metadata": {
      "slideshow": {
       "slide_type": "slide"
      }
     },
     "source": [
      "## Boston Housing and LMS\n",
      "\n",
      "  * Now apply the lms on the Boston Housing Data\n",
      "  * Estimate the \"goodness of fit\" through the sum squared error between prediction and original\n",
      "  "
     ]
    },
    {
     "cell_type": "markdown",
     "metadata": {
      "slideshow": {
       "slide_type": "subslide"
      }
     },
     "source": [
      "### Determining House Prices\n",
      "\n",
      "Consider that you get a good Job in Boston and that you want to buy a house there. Not for all regions the median value of houses is known, so you want to find a method that allows you to judge the value of a house and to see whether estate agent tries to fool you (or not).\n",
      "\n",
      "The Boston Housing data contains such attributes in order to estimate the value of a region in the Boston suburps.  Variables are\n",
      "\n",
      "1. CRIM: per capita crime rate by town \n",
      "2. ZN: proportion of residential land zoned for lots over 25,000 sq.ft. \n",
      "3. INDUS: proportion of non-retail business acres per town \n",
      "4. CHAS: Charles River dummy variable (= 1 if tract bounds river; 0 otherwise) \n",
      "5. NOX: nitric oxides concentration (parts per 10 million) \n",
      "6. RM: average number of rooms per dwelling \n",
      "7. AGE: proportion of owner-occupied units built prior to 1940 \n",
      "8. DIS: weighted distances to five Boston employment centres \n",
      "9. RAD: index of accessibility to radial highways \n",
      "9. TAX: full-value property-tax rate per \\$10,000 \n",
      "9. PTRATIO: pupil-teacher ratio by town \n",
      "9. B: $1000(Bk - 0.63)^2$ where Bk is the proportion of blacks by town \n",
      "9. LSTAT: % lower status of the population \n",
      "9. MEDV: Median value of owner-occupied homes in \\$1000's\n",
      "\n",
      "Attribute number 14. is the dependent variable or target attribute, i.e. the variable we want to predcit. Pracically we want to learn a function\n",
      "\n",
      "$ MEDV = f(CRIM, ZN, INDUS, CHAS, NOX, RM, AGE, DIS, RAD, TAX, PTRATIO, B, LSTAT) $\n",
      "\n",
      "or when we take $x$ as a vector of the attributes we simply write\n",
      "\n",
      "$MEDV = f(x)$"
     ]
    },
    {
     "cell_type": "code",
     "collapsed": false,
     "input": [
      "data_zipped = (ds.data,ds.target)\n",
      "w = lms(data_zipped,iterations=10000,eta=0.000001)\n",
      "print \"Weights:\", w\n",
      "print \"Some better output (using python magic)\"\n",
      "for (feature,weight) in zip(ds.feature_names[0:12].tolist()+[\"w0\"],w): print feature,\"\\t\",weight"
     ],
     "language": "python",
     "metadata": {},
     "outputs": [
      {
       "output_type": "stream",
       "stream": "stdout",
       "text": [
        "Weights: [ 0.45968883  0.19257375  0.85183005  1.00163792  0.99563711  1.00090968\n",
        " -0.03745738  0.94109651  0.93109982 -0.07672506  0.82634104  0.03564922\n",
        "  0.39848578  0.99355278]\n",
        "Some better output (using python magic)\n",
        "CRIM \t0.459688831924\n",
        "ZN \t0.192573745493\n",
        "INDUS \t0.851830048461\n",
        "CHAS \t1.00163792207\n",
        "NOX \t0.995637108009\n",
        "RM \t1.00090968009\n",
        "AGE \t-0.0374573834446\n",
        "DIS \t0.941096511821\n",
        "RAD \t0.931099821486\n",
        "TAX \t-0.0767250554371\n",
        "PTRATIO \t0.826341042326\n",
        "B \t0.0356492159762\n",
        "w0 \t0.398485778857\n"
       ]
      }
     ],
     "prompt_number": 139
    },
    {
     "cell_type": "markdown",
     "metadata": {},
     "source": [
      "Again, we have to tune $\\eta$ in order to avoid divergence. This strongly depends on the scale of the attributes, i.e. large attributes yield large updates. So lets take a look on the scale of the attributes:"
     ]
    },
    {
     "cell_type": "code",
     "collapsed": false,
     "input": [
      "print ds.feature_names\n",
      "print np.min(ds.data,axis=0)\n",
      "print np.max(ds.data,axis=0)"
     ],
     "language": "python",
     "metadata": {},
     "outputs": [
      {
       "output_type": "stream",
       "stream": "stdout",
       "text": [
        "['CRIM' 'ZN' 'INDUS' 'CHAS' 'NOX' 'RM' 'AGE' 'DIS' 'RAD' 'TAX' 'PTRATIO'\n",
        " 'B' 'LSTAT' 'MEDV']\n",
        "[  6.32000000e-03   0.00000000e+00   4.60000000e-01   0.00000000e+00\n",
        "   3.85000000e-01   3.56100000e+00   2.90000000e+00   1.12960000e+00\n",
        "   1.00000000e+00   1.87000000e+02   1.26000000e+01   3.20000000e-01\n",
        "   1.73000000e+00]\n",
        "[  88.9762  100.       27.74      1.        0.871     8.78    100.\n",
        "   12.1265   24.      711.       22.      396.9      37.97  ]\n"
       ]
      }
     ],
     "prompt_number": 113
    },
    {
     "cell_type": "markdown",
     "metadata": {
      "slideshow": {
       "slide_type": "subslide"
      }
     },
     "source": [
      "### Normalizing Attributes\n",
      "In order to enhance parameter settings (in particular $\\eta$) and to improve convergence we can rescale (aka centering) the data set by dividing each attribute through its range ($=max-min$) and subtracting the minimum $min$:\n",
      "\n",
      "$$\n",
      "  X = \\frac{X-min(X)}{(max(X)-min(X)}\n",
      "$$\n",
      "\n",
      "with $max(X)$ and $min(X)$ are column vectors containing the minimum and maximum values of an attribute and / being the element wise division. Such scaling/centering should be part of every preprocessing, as discussed in the Lecture [On the Data](http://www.uni-weimar.de/medien/webis/teaching/lecturenotes/machine-learning/unit-en-data.pdf)\n",
      "\n",
      "Hence, the attributes are scaled within the range [0:1]"
     ]
    },
    {
     "cell_type": "code",
     "collapsed": false,
     "input": [
      "X = ds.data\n",
      "Y = ds.target\n",
      "X_scaled = (X-np.min(X,axis=0))/(np.max(X,axis=0)-np.min(X,axis=0))\n",
      "print X_scaled"
     ],
     "language": "python",
     "metadata": {},
     "outputs": [
      {
       "output_type": "stream",
       "stream": "stdout",
       "text": [
        "[[  0.00000000e+00   1.80000000e-01   6.78152493e-02 ...,   2.87234043e-01\n",
        "    1.00000000e+00   8.96799117e-02]\n",
        " [  2.35922539e-04   0.00000000e+00   2.42302053e-01 ...,   5.53191489e-01\n",
        "    1.00000000e+00   2.04470199e-01]\n",
        " [  2.35697744e-04   0.00000000e+00   2.42302053e-01 ...,   5.53191489e-01\n",
        "    9.89737254e-01   6.34657837e-02]\n",
        " ..., \n",
        " [  6.11892474e-04   0.00000000e+00   4.20454545e-01 ...,   8.93617021e-01\n",
        "    1.00000000e+00   1.07891832e-01]\n",
        " [  1.16072990e-03   0.00000000e+00   4.20454545e-01 ...,   8.93617021e-01\n",
        "    9.91300620e-01   1.31070640e-01]\n",
        " [  4.61841693e-04   0.00000000e+00   4.20454545e-01 ...,   8.93617021e-01\n",
        "    1.00000000e+00   1.69701987e-01]]\n"
       ]
      }
     ],
     "prompt_number": 119
    },
    {
     "cell_type": "markdown",
     "metadata": {
      "slideshow": {
       "slide_type": "subslide"
      }
     },
     "source": [
      "### Plotting the Distributions\n",
      "[Boxplots](http://en.wikipedia.org/wiki/Box_plot) are a good way to show the distribution of attributes in data. Lets compare X and its scaled Version $X_{scale}$\n"
     ]
    },
    {
     "cell_type": "code",
     "collapsed": false,
     "input": [
      "fig = figure()\n",
      "ax1 = fig.add_subplot(2,1,1)\n",
      "ax1.boxplot(X,vert=False)\n",
      "ax2 = fig.add_subplot(2,1,2)\n",
      "ax2.boxplot(X_scaled,vert=False)\n",
      "ax2.set_title(\"Scaled Data\")\n",
      "ax1.set_title(\"Raw Data\")\n",
      "ax2.set_yticklabels(ds.feature_names[0:12])\n",
      "ax1.set_yticklabels(ds.feature_names[0:12])\n",
      "fig.show()"
     ],
     "language": "python",
     "metadata": {},
     "outputs": [
      {
       "metadata": {},
       "output_type": "display_data",
       "png": "[encoded data removed]",
       "text": [
        "<matplotlib.figure.Figure at 0x1161ee690>"
       ]
      }
     ],
     "prompt_number": 136
    },
    {
     "cell_type": "markdown",
     "metadata": {},
     "source": [
      "Watch the scales on the x-axis. The distribution of an attribute does not change (see for example TAX), but all attributes are now in the same range.\n",
      "\n",
      "Scaled data allows for robuster parameter settings and faster convergence:\n"
     ]
    },
    {
     "cell_type": "code",
     "collapsed": false,
     "input": [
      "data_zipped = (X_scaled,ds.target)\n",
      "w = lms(data_zipped,iterations=100000,eta=0.001)\n",
      "print \"Weights:\", w\n",
      "print \"Some better output (using python magic)\"\n",
      "for (feature,weight) in zip(ds.feature_names[0:12].tolist()+[\"w0\"],w): print feature,\"\\t\",weight"
     ],
     "language": "python",
     "metadata": {},
     "outputs": [
      {
       "output_type": "stream",
       "stream": "stdout",
       "text": [
        "Weights: [ -3.22344049   3.02774874  -0.34437635   3.23054689  -2.86254461\n",
        "  23.80718628   1.22841503  -6.55945279   4.06404158  -3.75687498\n",
        "  -7.42207473   5.84032218 -17.50343334  16.01883615]\n",
        "Some better output (using python magic)\n",
        "CRIM \t-3.22344048723\n",
        "ZN \t3.0277487374\n",
        "INDUS \t-0.344376346932\n",
        "CHAS \t3.23054688556\n",
        "NOX \t-2.86254460981\n",
        "RM \t23.807186279\n",
        "AGE \t1.2284150261\n",
        "DIS \t-6.55945278754\n",
        "RAD \t4.06404158168\n",
        "TAX \t-3.75687498205\n",
        "PTRATIO \t-7.42207473079\n",
        "B \t5.84032218008\n",
        "w0 \t-17.5034333375\n"
       ]
      }
     ],
     "prompt_number": 158
    },
    {
     "cell_type": "markdown",
     "metadata": {
      "slideshow": {
       "slide_type": "subslide"
      }
     },
     "source": [
      "### Parameter Stability and Goodness of Fit\n",
      "\n",
      "Playing with eta a little bit shows, that it yields to quite different solution. Moreover, the stochastic nature of the algorithm yields to different solution when run with the same parameters. For example"
     ]
    },
    {
     "cell_type": "code",
     "collapsed": false,
     "input": [
      "w = lms(data_zipped,iterations=100000,eta=0.001)\n",
      "print \"Some better output (using python magic)\"\n",
      "for (feature,weight) in zip(ds.feature_names[0:12].tolist()+[\"w0\"],w): print feature,\"\\t\",weight"
     ],
     "language": "python",
     "metadata": {},
     "outputs": [
      {
       "output_type": "stream",
       "stream": "stdout",
       "text": [
        "Some better output (using python magic)\n",
        "CRIM \t-3.38193895011\n",
        "ZN \t2.83536908117\n",
        "INDUS \t-0.291718558785\n",
        "CHAS \t2.83674622173\n",
        "NOX \t-2.85686795927\n",
        "RM \t23.9999130779\n",
        "AGE \t1.35112362716\n",
        "DIS \t-6.57830913261\n",
        "RAD \t3.88832290942\n",
        "TAX \t-4.04095316602\n",
        "PTRATIO \t-7.63375628726\n",
        "B \t5.74616907172\n",
        "w0 \t-17.3756248035\n"
       ]
      }
     ],
     "prompt_number": 159
    },
    {
     "cell_type": "markdown",
     "metadata": {},
     "source": [
      "This gets worser when the number of attributes gets higher (i.e. curse of dimensionality). The number of needed example for a good fit grows more than linearly (in some cases exponentially) with the number of examples.\n",
      "\n",
      "This raises two questions\n",
      "\n",
      " * How stable are parameters? \n",
      " \n",
      "   This depends on the algorithm at hand and will be discussed in other chapters.\n",
      "   \n",
      "   \n",
      " * What consitutes a good solution?\n",
      "    \n",
      "    There are several measures for the goodness of fit. We will explore the average Residual Sum of Squares. It is the average squared deviation of the predicted from the target value  ( also known as the more general concept of the Mean Squared error (MSE))\n",
      "    \n"
     ]
    },
    {
     "cell_type": "code",
     "collapsed": false,
     "input": [
      "#Technical Detail: do it without the bias term. otherwise we need to extend the data\n",
      "w = lms(data_zipped,iterations=100000,eta=0.1,bias=False) \n",
      "\n",
      "def calc_gof(X,w,target):\n",
      "    return np.mean((np.dot(X_scaled,w)-target)**2)\n",
      "gof = calc_gof(X_scaled,w,ds.target)\n",
      "print \"Goodness of Fit=%f, Standard-deviation=%f\"%(gof,sqrt(gof))"
     ],
     "language": "python",
     "metadata": {},
     "outputs": [
      {
       "output_type": "stream",
       "stream": "stdout",
       "text": [
        "Goodness of Fit=28.505892, Standard-deviation=5.339091\n"
       ]
      }
     ],
     "prompt_number": 173
    },
    {
     "cell_type": "markdown",
     "metadata": {},
     "source": [
      "Now we can measure the goodness of fit for several $\\eta$\n"
     ]
    },
    {
     "cell_type": "code",
     "collapsed": false,
     "input": [
      "etas = [0.5, 0.1,0.01,0.001,0.0001,0.00001]\n",
      "gofs = []\n",
      "for eta in etas:\n",
      "    w = lms(data_zipped,iterations=1000,eta=eta,bias=False)\n",
      "    gofs.append(calc_gof(X_scaled,w,ds.target))\n",
      "\n",
      "plot(etas,gofs) #plotting comparing different etas and their goodness of fit\n",
      "print gofs"
     ],
     "language": "python",
     "metadata": {},
     "outputs": [
      {
       "output_type": "stream",
       "stream": "stdout",
       "text": [
        "[888.46648191579573, 29.406202181038999, 46.10237923932614, 106.99523695600242, 286.87413882500346, 388.58292064455947]\n"
       ]
      },
      {
       "metadata": {},
       "output_type": "display_data",
       "png": "[encoded data removed]",
       "text": [
        "<matplotlib.figure.Figure at 0x116335890>"
       ]
      }
     ],
     "prompt_number": 177
    },
    {
     "cell_type": "markdown",
     "metadata": {},
     "source": [
      "And several iterations (with a fixed eta from before)"
     ]
    },
    {
     "cell_type": "code",
     "collapsed": false,
     "input": [
      "iterations = [10,100,1000,2000,5000,10000,15000,20000]\n",
      "gofs = []\n",
      "for iteration in iterations:\n",
      "    w = lms(data_zipped,iterations=iteration,eta=0.1,bias=False)\n",
      "    gofs.append(calc_gof(X_scaled,w,ds.target))\n",
      "print gofs\n",
      "plot(iterations,gofs) #plotting comparing different etas and their goodness of fit"
     ],
     "language": "python",
     "metadata": {},
     "outputs": [
      {
       "output_type": "stream",
       "stream": "stdout",
       "text": [
        "[129.41106590332254, 58.596903221986473, 35.008076116165462, 33.153195500978519, 50.22881813921996, 29.381583642801957, 31.066133040632593, 55.308536231937538]\n"
       ]
      },
      {
       "metadata": {},
       "output_type": "pyout",
       "prompt_number": 185,
       "text": [
        "[<matplotlib.lines.Line2D at 0x11644c0d0>]"
       ]
      },
      {
       "metadata": {},
       "output_type": "display_data",
       "png": "[encoded data removed]",
       "text": [
        "<matplotlib.figure.Figure at 0x116294c90>"
       ]
      }
     ],
     "prompt_number": 185
    },
    {
     "cell_type": "markdown",
     "metadata": {},
     "source": [
      "Note that the LMS algorithm is not detrministic. So the behaviour might change."
     ]
    },
    {
     "cell_type": "markdown",
     "metadata": {
      "slideshow": {
       "slide_type": "slide"
      }
     },
     "source": [
      "## Summary\n",
      "\n",
      "Finding good parameter is the usual job in data mining. So this tutorial should give an idea of the LMS and the application to fit data. The principals are the same for nearly every machine learning/data mining problem. Just the tools, and most improtantly, the data changes.\n",
      "\n",
      "A large bunch of the Machine Learning Theory can be developed around the LMS Algorithms and we will do so later on. For now the basic steps should be sufficient. In Summary we did the following points here\n",
      "\n",
      "  * We developed an algorithm that **iteratively** adjusts the parameters towards and optimal solution. The updates follow the gradient of the error surface in a stochastic manner, that's why such algorithms are called **Stochastic Gradient Descent (SGD)** algorithms. Theory comes later\n",
      "  * We saw that **parameter settings** play an important role, in our case especially $eta$. To small yields long runtimes, to large yields to oscillation around the correct solution and potentially to divergence.\n",
      "  * In small scale examles we are able to plot the data points. However, when the number of attributes grow we cannot do this anymore. We need another way of estimating **the goodness of fit** of our model to the data. in our example we used the mean of the squared difference between prediction and true target. This **Mean Squared Error** has a lot of theoretical advantages, which will be discussed later on."
     ]
    }
   ],
   "metadata": {}
  }
 ]
}