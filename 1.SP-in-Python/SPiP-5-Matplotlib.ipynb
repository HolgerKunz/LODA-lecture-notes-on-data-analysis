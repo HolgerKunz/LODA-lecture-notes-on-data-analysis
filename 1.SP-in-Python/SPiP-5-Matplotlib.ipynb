{
 "metadata": {
  "celltoolbar": "Slideshow",
  "name": "",
  "signature": "sha256:e4d26fa74fc4d765150ef503287f78eb9101e6d569dc6505459d6ff579a92e52"
 },
 "nbformat": 3,
 "nbformat_minor": 0,
 "worksheets": [
  {
   "cells": [
    {
     "cell_type": "markdown",
     "metadata": {
      "slideshow": {
       "slide_type": "slide"
      }
     },
     "source": [
      "# Scientific Programming in Python (SPiP) - 2D and 3D plotting with Matplotlib\n",
      "\n",
      "by [Michael Granitzer (michael.granitzer@uni-passau.de)](http://www.mendeley.com/profiles/michael-granitzer/) \n",
      "\n",
      "based on the following sources\n",
      "\n",
      "* [J.R. Johansson (robert@riken.jp)](http://dml.riken.jp/~rob/), \n",
      "  [Scientific Programming in Pyton](http://github.com/jrjohansson/scientific-python-lectures)\n",
      "\n",
      "__License__\n",
      "\n",
      "This work is licensed under a [Creative Commons Attribution 3.0 Unported License](http://creativecommons.org/licenses/by/3.0/)\n"
     ]
    },
    {
     "cell_type": "code",
     "collapsed": false,
     "input": [
      "# ipython magick command:\n",
      "# This line loads matplotlib package for ipython notebook \n",
      "# and configures matplotlib to show figures embedded in the notebook, \n",
      "# instead of poping up a new window. \n",
      "%pylab inline"
     ],
     "language": "python",
     "metadata": {
      "slideshow": {
       "slide_type": "subslide"
      }
     },
     "outputs": [
      {
       "output_type": "stream",
       "stream": "stdout",
       "text": [
        "Populating the interactive namespace from numpy and matplotlib\n"
       ]
      },
      {
       "output_type": "stream",
       "stream": "stderr",
       "text": [
        "WARNING: pylab import has clobbered these variables: ['axes', 'linalg', 'random', 'colors', 'bar', 'power', 'info', 'fft']\n",
        "`%matplotlib` prevents importing * from pylab and numpy\n"
       ]
      }
     ],
     "prompt_number": 71
    },
    {
     "cell_type": "markdown",
     "metadata": {
      "slideshow": {
       "slide_type": "slide"
      }
     },
     "source": [
      "## 1. Introduction\n",
      "\n",
      "Matplotlib is a 2D and 3D graphics library for generating scientific figures. \n",
      "\n",
      "Figures are controlled *programmatically*, i.e. you can script it, ensure reproducibility and re-use.\n",
      "\n",
      "**Advantages**\n",
      "\n",
      "* Easy to get started\n",
      "* Support for $\\LaTeX$ formatted labels and texts\n",
      "* Great control of every element in a figure, including figure size and DPI. \n",
      "* High-quality output in many formats, including PNG, PDF, SVG, EPS.\n",
      "* GUI for interactively exploring figures *and* support for headless generation of figure files (useful for batch jobs).\n",
      "\n",
      "\n",
      "More information at the Matplotlib web page: http://matplotlib.org/"
     ]
    },
    {
     "cell_type": "markdown",
     "metadata": {
      "slideshow": {
       "slide_type": "subslide"
      }
     },
     "source": [
      "## 1.1. Getting Started\n",
      "\n",
      "In IPython notebook via magic commands"
     ]
    },
    {
     "cell_type": "code",
     "collapsed": false,
     "input": [
      "# ipython magic command:\n",
      "# This line loads matplotlib package for ipython notebook \n",
      "# and configures matplotlib to show figures embedded in the notebook, \n",
      "# instead of poping up a new window. \n",
      "%pylab inline"
     ],
     "language": "python",
     "metadata": {
      "slideshow": {
       "slide_type": "fragment"
      }
     },
     "outputs": [
      {
       "output_type": "stream",
       "stream": "stdout",
       "text": [
        "Populating the interactive namespace from numpy and matplotlib\n"
       ]
      }
     ],
     "prompt_number": 72
    },
    {
     "cell_type": "markdown",
     "metadata": {
      "slideshow": {
       "slide_type": "fragment"
      }
     },
     "source": [
      "In Python modules via import of pylab (which also imports other modules like scipy)"
     ]
    },
    {
     "cell_type": "code",
     "collapsed": false,
     "input": [
      "from pylab import *"
     ],
     "language": "python",
     "metadata": {
      "slideshow": {
       "slide_type": "fragment"
      }
     },
     "outputs": [],
     "prompt_number": 73
    },
    {
     "cell_type": "markdown",
     "metadata": {
      "slideshow": {
       "slide_type": "fragment"
      }
     },
     "source": [
      "or only mathplotlib plot via:"
     ]
    },
    {
     "cell_type": "code",
     "collapsed": false,
     "input": [
      "import matplotlib.pyplot as plt"
     ],
     "language": "python",
     "metadata": {
      "slideshow": {
       "slide_type": "fragment"
      }
     },
     "outputs": [],
     "prompt_number": 74
    },
    {
     "cell_type": "markdown",
     "metadata": {
      "slideshow": {
       "slide_type": "slide"
      }
     },
     "source": [
      "## 2. The Plotting API\n",
      "\n",
      "**Contents**\n",
      "2.1 Using mathplotlib in global namespace\n",
      "2.2 Using mathplotlib via objects"
     ]
    },
    {
     "cell_type": "markdown",
     "metadata": {
      "slideshow": {
       "slide_type": "subslide"
      }
     },
     "source": [
      "### 2.1. Using mathplotlib in global namespace\n",
      "\n",
      "\n",
      "* The easiest way to get started with plotting using matplotlib is often to use the MATLAB-like API provided by matplotlib. \n",
      "\n",
      "* It is designed to compatible with MATLAB's plotting functions, so it is easy to get started with if you are familiar with MATLAB.\n",
      "\n",
      "* It maintains a global object against which all painting commands are done. The global object can be switched with the `figure()` function\n",
      "\n",
      "* To use this API from matplotlib, we need to include the symbols in the `pylab` module (imports all functions in global namespace): "
     ]
    },
    {
     "cell_type": "code",
     "collapsed": false,
     "input": [
      "from pylab import *"
     ],
     "language": "python",
     "metadata": {
      "slideshow": {
       "slide_type": "fragment"
      }
     },
     "outputs": [],
     "prompt_number": 75
    },
    {
     "cell_type": "markdown",
     "metadata": {
      "slideshow": {
       "slide_type": "subslide"
      }
     },
     "source": [
      "#### Example - plotting a simple figure"
     ]
    },
    {
     "cell_type": "code",
     "collapsed": false,
     "input": [
      "# the function to plot\n",
      "x = linspace(0, 5, 10) # create a numpy array going from 0 to 5 with step size c\n",
      "y = x ** 2"
     ],
     "language": "python",
     "metadata": {
      "slideshow": {
       "slide_type": "fragment"
      }
     },
     "outputs": [],
     "prompt_number": 76
    },
    {
     "cell_type": "code",
     "collapsed": false,
     "input": [
      "figure() #intantiates a new figure object (= canvas for drawing)\n",
      "plot(x, y, 'r') # plot points and connect them as red lines\n",
      "xlabel('x') # set the x label\n",
      "ylabel('y') # set the y label\n",
      "title('title') #set the title of the figure\n",
      "show() # now draw the figure"
     ],
     "language": "python",
     "metadata": {
      "slideshow": {
       "slide_type": "fragment"
      }
     },
     "outputs": [
      {
       "metadata": {},
       "output_type": "display_data",
       "png": "[encoded data removed]",
       "text": [
        "<matplotlib.figure.Figure at 0x1098e1110>"
       ]
      }
     ],
     "prompt_number": 77
    },
    {
     "cell_type": "markdown",
     "metadata": {
      "slideshow": {
       "slide_type": "subslide"
      }
     },
     "source": [
      "#### Example 2 - creating subplots\n",
      "\n",
      "* The plotting canvas can be split into subplots using the `subplot` command\n",
      "* `subplot(nrows, ncols, plot_number)``\n",
      "   * `nrows` - number of rows in the plot figure\n",
      "   * `ncols` - number of cols in the plot figure\n",
      "   * `plot_number`- the plot which should be activated \n",
      "      * *plot_number* starts at 1, increments across rows first an has a maximum of ``nrows * ncols``.\n",
      "* see `help(subplot)` for details"
     ]
    },
    {
     "cell_type": "code",
     "collapsed": false,
     "input": [
      "subplot(1,2,1) # 1 row, 2 columns. select first subplot\n",
      "plot(x, y, 'r--') #plot in red dashed lines\n",
      "subplot(1,2,2) # 1 row, 2 columns. select second subplot\n",
      "plot(y, x, 'g*-'); #plot in green line with marking points"
     ],
     "language": "python",
     "metadata": {
      "slideshow": {
       "slide_type": "subslide"
      }
     },
     "outputs": [
      {
       "metadata": {},
       "output_type": "pyout",
       "prompt_number": 78,
       "text": [
        "[<matplotlib.lines.Line2D at 0x10a76a510>]"
       ]
      },
      {
       "metadata": {},
       "output_type": "display_data",
       "png": "[encoded data removed]",
       "text": [
        "<matplotlib.figure.Figure at 0x10a167190>"
       ]
      }
     ],
     "prompt_number": 78
    },
    {
     "cell_type": "code",
     "collapsed": false,
     "input": [
      "subplot(2,1,1) # 1 row, 2 columns. select first subplot\n",
      "plot(x, y, 'r--') #plot in red dashed lines\n",
      "subplot(2,1,2) # 1 row, 2 columns. select second subplot\n",
      "plot(y, x, 'g*-'); #plot in green line with marking points"
     ],
     "language": "python",
     "metadata": {
      "slideshow": {
       "slide_type": "subslide"
      }
     },
     "outputs": [
      {
       "metadata": {},
       "output_type": "pyout",
       "prompt_number": 79,
       "text": [
        "[<matplotlib.lines.Line2D at 0x10a7373d0>]"
       ]
      },
      {
       "metadata": {},
       "output_type": "display_data",
       "png": "[encoded data removed]",
       "text": [
        "<matplotlib.figure.Figure at 0x10946c050>"
       ]
      }
     ],
     "prompt_number": 79
    },
    {
     "cell_type": "markdown",
     "metadata": {
      "slideshow": {
       "slide_type": "subslide"
      }
     },
     "source": [
      "#### Comments on MATLAB-style API\n",
      "\n",
      "**Pro**\n",
      "* Similar to MATLAB, so easy to get started by those who know the API\n",
      "* Minimum coding overhead\n",
      "* Nice in interactive explorations\n",
      "\n",
      "**Contra**\n",
      "* Keep track of the state of the figure in your head\n",
      "* Can become complex for larger figures\n",
      "* No ojbect oriented view\n"
     ]
    },
    {
     "cell_type": "markdown",
     "metadata": {
      "slideshow": {
       "slide_type": "slide"
      }
     },
     "source": [
      "### 2.2 Using mathplotlib via objects\n",
      "\n",
      "**Design Decision **\n",
      "\n",
      "* Every figure becomes an object\n",
      "* Invoke commands against the ojbect to alter state/draw items\n",
      "\n",
      "**Approach**\n",
      "* You start by creating a figure object (instance of `Figure` class)\n",
      "* A figure consists of `axes`, where new axes can be added via the `add_axes`method in the `Figure`class"
     ]
    },
    {
     "cell_type": "markdown",
     "metadata": {
      "slideshow": {
       "slide_type": "subslide"
      }
     },
     "source": [
      "#### 2.2.1 Basics"
     ]
    },
    {
     "cell_type": "code",
     "collapsed": false,
     "input": [
      "import matplotlib.pyplot as plt # import the plot object as factory for plots\n",
      "fig = plt.figure() #create new figure object \n",
      "\n",
      "axes = fig.add_axes([0.1, 0.1, 0.8, 0.8]) # left, bottom, width, height (range 0 to 1)\n",
      "\n",
      "axes.plot(x, y, 'r') # plot red line\n",
      "\n",
      "axes.set_xlabel('x') # set xlabel\n",
      "axes.set_ylabel('y') # set ylabel\n",
      "axes.set_title('title'); # set title"
     ],
     "language": "python",
     "metadata": {
      "slideshow": {
       "slide_type": "fragment"
      }
     },
     "outputs": [
      {
       "metadata": {},
       "output_type": "pyout",
       "prompt_number": 80,
       "text": [
        "<matplotlib.text.Text at 0x10a7be4d0>"
       ]
      },
      {
       "metadata": {},
       "output_type": "display_data",
       "png": "[encoded data removed]",
       "text": [
        "<matplotlib.figure.Figure at 0x10a7ad8d0>"
       ]
      }
     ],
     "prompt_number": 80
    },
    {
     "cell_type": "markdown",
     "metadata": {
      "slideshow": {
       "slide_type": "fragment"
      }
     },
     "source": [
      "Although a little bit more code is involved, the advantage is that we now have full control of where the plot axes are place, and we can easily add more than one axis to the figure."
     ]
    },
    {
     "cell_type": "code",
     "collapsed": false,
     "input": [
      "fig = plt.figure()\n",
      "\n",
      "axes1 = fig.add_axes([0.1, 0.1, 0.8, 0.8]) # main axes\n",
      "axes2 = fig.add_axes([0.2, 0.5, 0.4, 0.3]) # inset axes\n",
      "\n",
      "# main figure\n",
      "axes1.plot(x, y, 'r')\n",
      "axes1.set_xlabel('x')\n",
      "axes1.set_ylabel('y')\n",
      "axes1.set_title('title')\n",
      "\n",
      "# insert\n",
      "axes2.plot(y, x, 'g')\n",
      "axes2.set_xlabel('y')\n",
      "axes2.set_ylabel('x')\n",
      "axes2.set_title('insert title');"
     ],
     "language": "python",
     "metadata": {
      "slideshow": {
       "slide_type": "subslide"
      }
     },
     "outputs": [
      {
       "metadata": {},
       "output_type": "display_data",
       "png": "[encoded data removed]",
       "text": [
        "<matplotlib.figure.Figure at 0x10a7b9b50>"
       ]
      }
     ],
     "prompt_number": 81
    },
    {
     "cell_type": "markdown",
     "metadata": {
      "slideshow": {
       "slide_type": "subslide"
      }
     },
     "source": [
      "** Default Axes**\n",
      "\n",
      "If we don't care to be explicit about where our plot axes are placed in the figure canvas, then we can use one of the many axis layout managers in matplotlib. My favorite is `subplots`, which can be used like this:"
     ]
    },
    {
     "cell_type": "code",
     "collapsed": false,
     "input": [
      "fig, axes = plt.subplots()\n",
      "\n",
      "axes.plot(x, y, 'r')\n",
      "axes.set_xlabel('x')\n",
      "axes.set_ylabel('y')\n",
      "axes.set_title('title');"
     ],
     "language": "python",
     "metadata": {
      "slideshow": {
       "slide_type": "fragment"
      }
     },
     "outputs": [
      {
       "metadata": {},
       "output_type": "display_data",
       "png": "[encoded data removed]",
       "text": [
        "<matplotlib.figure.Figure at 0x10a7a4dd0>"
       ]
      }
     ],
     "prompt_number": 82
    },
    {
     "cell_type": "markdown",
     "metadata": {
      "slideshow": {
       "slide_type": "subslide"
      }
     },
     "source": [
      "**Creating Subplots **"
     ]
    },
    {
     "cell_type": "code",
     "collapsed": false,
     "input": [
      "fig, axes = plt.subplots(nrows=1, ncols=2)\n",
      "\n",
      "for ax in axes:\n",
      "    ax.plot(x, y, 'r')\n",
      "    ax.set_xlabel('x')\n",
      "    ax.set_ylabel('y')\n",
      "    ax.set_title('title');"
     ],
     "language": "python",
     "metadata": {
      "slideshow": {
       "slide_type": "fragment"
      }
     },
     "outputs": [
      {
       "metadata": {},
       "output_type": "display_data",
       "png": "[encoded data removed]",
       "text": [
        "<matplotlib.figure.Figure at 0x10a9800d0>"
       ]
      }
     ],
     "prompt_number": 83
    },
    {
     "cell_type": "markdown",
     "metadata": {
      "slideshow": {
       "slide_type": "subslide"
      }
     },
     "source": [
      "** Remove Overlapping **\n",
      "\n",
      "* Use the `fig.tight_layout` method, to automatically adjusts the positions of the axes on the figure canvas so that there is no overlapping content:"
     ]
    },
    {
     "cell_type": "code",
     "collapsed": false,
     "input": [
      "fig, axes = plt.subplots(nrows=1, ncols=2)\n",
      "\n",
      "for ax in axes:\n",
      "    ax.plot(x, y, 'r')\n",
      "    ax.set_xlabel('x')\n",
      "    ax.set_ylabel('y')\n",
      "    ax.set_title('title')\n",
      "    \n",
      "fig.tight_layout()"
     ],
     "language": "python",
     "metadata": {
      "slideshow": {
       "slide_type": "fragment"
      }
     },
     "outputs": [
      {
       "metadata": {},
       "output_type": "display_data",
       "png": "[encoded data removed]",
       "text": [
        "<matplotlib.figure.Figure at 0x10a09e810>"
       ]
      }
     ],
     "prompt_number": 84
    },
    {
     "cell_type": "markdown",
     "metadata": {
      "slideshow": {
       "slide_type": "subslide"
      }
     },
     "source": [
      "#### 2.2.2. Layout and Formatting"
     ]
    },
    {
     "cell_type": "markdown",
     "metadata": {
      "slideshow": {
       "slide_type": "fragment"
      }
     },
     "source": [
      "**Figure size, aspect ratio and DPI**\n",
      "\n",
      "* Figures can have different aspect ratios and dots-per-inch (DPI)\n",
      "* Set when creating `Figure` object using the `figsize` and `dpi` keyword arguments\n",
      "* `figsize` is a tuple with width and height of the figure in inches,\n",
      "* `dpi` is the dot-per-inch (pixel per inch). To create a figure with size 800 by 400 pixels we can do: "
     ]
    },
    {
     "cell_type": "code",
     "collapsed": false,
     "input": [
      "fig = plt.figure(figsize=(8,4), dpi=100)"
     ],
     "language": "python",
     "metadata": {
      "slideshow": {
       "slide_type": "fragment"
      }
     },
     "outputs": [
      {
       "metadata": {},
       "output_type": "display_data",
       "text": [
        "<matplotlib.figure.Figure at 0x10a7ab190>"
       ]
      }
     ],
     "prompt_number": 85
    },
    {
     "cell_type": "markdown",
     "metadata": {
      "slideshow": {
       "slide_type": "fragment"
      }
     },
     "source": [
      "The same arguments can also be passed to layout managers, such as the `subplots` function."
     ]
    },
    {
     "cell_type": "code",
     "collapsed": false,
     "input": [
      "fig, axes = plt.subplots(figsize=(12,3))\n",
      "\n",
      "axes.plot(x, y, 'r')\n",
      "axes.set_xlabel('x')\n",
      "axes.set_ylabel('y')\n",
      "axes.set_title('title');"
     ],
     "language": "python",
     "metadata": {
      "slideshow": {
       "slide_type": "subslide"
      }
     },
     "outputs": [
      {
       "metadata": {},
       "output_type": "display_data",
       "png": "[encoded data removed]",
       "text": [
        "<matplotlib.figure.Figure at 0x10aa65690>"
       ]
      }
     ],
     "prompt_number": 86
    },
    {
     "cell_type": "markdown",
     "metadata": {
      "slideshow": {
       "slide_type": "subslide"
      }
     },
     "source": [
      "** Saving figures **\n",
      "\n",
      "To save a figure a file we can use the `savefig` method in the `Figure` class. "
     ]
    },
    {
     "cell_type": "code",
     "collapsed": false,
     "input": [
      "fig.savefig(\"filename.png\")"
     ],
     "language": "python",
     "metadata": {
      "slideshow": {
       "slide_type": "fragment"
      }
     },
     "outputs": [],
     "prompt_number": 87
    },
    {
     "cell_type": "markdown",
     "metadata": {
      "slideshow": {
       "slide_type": "fragment"
      }
     },
     "source": [
      "Here we can also optionally specify the DPI, and chose between different output formats."
     ]
    },
    {
     "cell_type": "code",
     "collapsed": false,
     "input": [
      "fig.savefig(\"filename.png\", dpi=200)"
     ],
     "language": "python",
     "metadata": {
      "slideshow": {
       "slide_type": "fragment"
      }
     },
     "outputs": [],
     "prompt_number": 88
    },
    {
     "cell_type": "code",
     "collapsed": false,
     "input": [
      "fig.savefig(\"filename.svg\")"
     ],
     "language": "python",
     "metadata": {
      "slideshow": {
       "slide_type": "fragment"
      }
     },
     "outputs": [],
     "prompt_number": 89
    },
    {
     "cell_type": "heading",
     "level": 3,
     "metadata": {
      "slideshow": {
       "slide_type": "subslide"
      }
     },
     "source": [
      "What formats are available and which ones should be used for best quality?"
     ]
    },
    {
     "cell_type": "markdown",
     "metadata": {
      "slideshow": {
       "slide_type": "fragment"
      }
     },
     "source": [
      "Matplotlib can generate high-quality output in a number formats, including PNG, JPG, EPS, SVG, PDF. For scientific papers, use PDF whenever possible (compile LaTeX documents with `pdflatex`, which can include PDFs using the `includegraphics` command). "
     ]
    },
    {
     "cell_type": "markdown",
     "metadata": {
      "slideshow": {
       "slide_type": "subslide"
      }
     },
     "source": [
      "##### Legends, labels and titles\n",
      "\n",
      "Now that we covered the basics of how to create a figure canvas and adding axes instances to the canvas, let's look at how decorate a figure with titles, axis labels and legends:"
     ]
    },
    {
     "cell_type": "markdown",
     "metadata": {
      "slideshow": {
       "slide_type": "fragment"
      }
     },
     "source": [
      "**Figure titles**\n",
      "\n",
      "A title can be added to each axis instance in a figure. To set the title use the `set_title` method in the axes instance:"
     ]
    },
    {
     "cell_type": "code",
     "collapsed": false,
     "input": [
      "ax.set_title(\"title\")"
     ],
     "language": "python",
     "metadata": {
      "slideshow": {
       "slide_type": "fragment"
      }
     },
     "outputs": [
      {
       "metadata": {},
       "output_type": "pyout",
       "prompt_number": 90,
       "text": [
        "<matplotlib.text.Text at 0x10a747f10>"
       ]
      }
     ],
     "prompt_number": 90
    },
    {
     "cell_type": "markdown",
     "metadata": {
      "slideshow": {
       "slide_type": "fragment"
      }
     },
     "source": [
      "**Axis labels**\n",
      "\n",
      "Similarly, using the methods `set_xlabel` and `set_ylabel` we can set the labels of the X and Y axes:"
     ]
    },
    {
     "cell_type": "code",
     "collapsed": false,
     "input": [
      "ax.set_xlabel(\"x\")\n",
      "ax.set_ylabel(\"y\")"
     ],
     "language": "python",
     "metadata": {
      "slideshow": {
       "slide_type": "fragment"
      }
     },
     "outputs": [
      {
       "metadata": {},
       "output_type": "pyout",
       "prompt_number": 91,
       "text": [
        "<matplotlib.text.Text at 0x10a747710>"
       ]
      }
     ],
     "prompt_number": 91
    },
    {
     "cell_type": "markdown",
     "metadata": {
      "slideshow": {
       "slide_type": "subslide"
      }
     },
     "source": [
      "**Legends**\n",
      "\n",
      "Legends to curves in a figure can be added in two ways. First method is to use the `legend` method of the axis object and pass a list/tuple of legend texts for the curves that have previously been added:"
     ]
    },
    {
     "cell_type": "code",
     "collapsed": false,
     "input": [
      "ax.legend([\"curve1\", \"curve2\", \"curve3\"]);"
     ],
     "language": "python",
     "metadata": {
      "slideshow": {
       "slide_type": "fragment"
      }
     },
     "outputs": [],
     "prompt_number": 92
    },
    {
     "cell_type": "markdown",
     "metadata": {
      "slideshow": {
       "slide_type": "fragment"
      }
     },
     "source": [
      "The method described above follow the MATLAB API. It is somewhat prone to errors and unflexible if curves are added to or removed from the figure (resulting in wrong label being used for wrong curve).\n",
      "\n",
      "A better method is to use the `label=\"label text\"` keyword argument when plots a other objects are added to the figure, and then using the `legend` method without arguments to add the legend: "
     ]
    },
    {
     "cell_type": "code",
     "collapsed": false,
     "input": [
      "ax.plot(x, x**2, label=\"curve1\")\n",
      "ax.plot(x, x**3, label=\"curve2\")\n",
      "ax.legend();"
     ],
     "language": "python",
     "metadata": {
      "slideshow": {
       "slide_type": "subslide"
      }
     },
     "outputs": [],
     "prompt_number": 93
    },
    {
     "cell_type": "markdown",
     "metadata": {
      "slideshow": {
       "slide_type": "fragment"
      }
     },
     "source": [
      "The advantage with this method is that if curves are added or removed from the figure, the legend is automatically updated accordingly.\n",
      "\n",
      "The `legend` function takes and optional keywork argument `loc` that can be used to specify where in the figure the legend is to be drawn. The allowed values of `loc` are numerical codes for the various places the legend can be drawn. See http://matplotlib.org/users/legend_guide.html#legend-location for details. Some most common alternatives are:"
     ]
    },
    {
     "cell_type": "code",
     "collapsed": false,
     "input": [
      "ax.legend(loc=0) # let matplotlib decide the optimal location\n",
      "ax.legend(loc=1) # upper right corner\n",
      "ax.legend(loc=2) # upper left corner\n",
      "ax.legend(loc=3) # lower left corner\n",
      "ax.legend(loc=4) # lower right corner\n",
      "# .. many more options are available"
     ],
     "language": "python",
     "metadata": {
      "slideshow": {
       "slide_type": "fragment"
      }
     },
     "outputs": [
      {
       "metadata": {},
       "output_type": "pyout",
       "prompt_number": 94,
       "text": [
        "<matplotlib.legend.Legend at 0x10aae9c90>"
       ]
      }
     ],
     "prompt_number": 94
    },
    {
     "cell_type": "markdown",
     "metadata": {
      "slideshow": {
       "slide_type": "subslide"
      }
     },
     "source": [
      "##### Example - Using plots and legend\n",
      "The following figure show how to use the figure title, axis labels and legends described above:"
     ]
    },
    {
     "cell_type": "code",
     "collapsed": false,
     "input": [
      "fig, ax = plt.subplots()\n",
      "\n",
      "ax.plot(x, x**2, label=\"y = x**2\")\n",
      "ax.plot(x, x**3, label=\"y = x**3\")\n",
      "ax.set_xlabel('x')\n",
      "ax.set_ylabel('y')\n",
      "ax.set_title('title')\n",
      "ax.legend(loc=2); # upper left corner"
     ],
     "language": "python",
     "metadata": {
      "slideshow": {
       "slide_type": "fragment"
      }
     },
     "outputs": [
      {
       "metadata": {},
       "output_type": "pyout",
       "prompt_number": 95,
       "text": [
        "<matplotlib.legend.Legend at 0x10ab06950>"
       ]
      },
      {
       "metadata": {},
       "output_type": "display_data",
       "png": "[encoded data removed]",
       "text": [
        "<matplotlib.figure.Figure at 0x10a98af10>"
       ]
      }
     ],
     "prompt_number": 95
    },
    {
     "cell_type": "markdown",
     "metadata": {
      "slideshow": {
       "slide_type": "subslide"
      }
     },
     "source": [
      "##### Formatting text: LaTeX, fontsize, font family\n",
      "\n",
      "\n",
      "* Improve text to improve readability. \n",
      "* We can use LaTeX formatted text and adjust font properties (size, font familiy, bold etc.)\n",
      "\n",
      "**Latex Support **\n",
      "\n",
      "* use dollar signs encapsulate LaTeX in any text (legend, title, label, etc.). For example, `\"$y=x^3$\"`.\n",
      "* However, we need to escape `\\` for Latex commands\n",
      "* Solution: use raw text strings\n",
      "  * `r\"String\"`\n",
      "  * e.g. `r\"\\alpha\"` or `r'\\alpha'` instead of `\"\\alpha\"` or `'\\alpha'`."
     ]
    },
    {
     "cell_type": "markdown",
     "metadata": {
      "slideshow": {
       "slide_type": "subslide"
      }
     },
     "source": [
      "**Example - Formatting Layout**"
     ]
    },
    {
     "cell_type": "code",
     "collapsed": false,
     "input": [
      "fig, ax = plt.subplots()\n",
      "\n",
      "ax.plot(x, x**2, label=r\"$y = \\alpha^2$\") # use latex equations as raw strings\n",
      "ax.plot(x, x**3, label=r\"$y = \\alpha^3$\") # use latex equations as raw strings\n",
      "ax.set_xlabel(r'$\\alpha$', fontsize=18)\n",
      "ax.set_ylabel(r'$y$', fontsize=18)\n",
      "ax.set_title('title')\n",
      "ax.legend(loc=2); # upper left corner"
     ],
     "language": "python",
     "metadata": {
      "slideshow": {
       "slide_type": "fragment"
      }
     },
     "outputs": [
      {
       "metadata": {},
       "output_type": "pyout",
       "prompt_number": 96,
       "text": [
        "<matplotlib.legend.Legend at 0x10aa93f10>"
       ]
      },
      {
       "metadata": {},
       "output_type": "display_data",
       "png": "[encoded data removed]",
       "text": [
        "<matplotlib.figure.Figure at 0x10a9a7910>"
       ]
      }
     ],
     "prompt_number": 96
    },
    {
     "cell_type": "markdown",
     "metadata": {
      "slideshow": {
       "slide_type": "subslide"
      }
     },
     "source": [
      "**Updateing Font Size**\n",
      "We can also change the global font size and font family, which applies to all text elements in a figure (tick labels, axis labels and titles, legends, etc.):"
     ]
    },
    {
     "cell_type": "code",
     "collapsed": false,
     "input": [
      "# Update the matplotlib configuration parameters:\n",
      "matplotlib.rcParams.update({'font.size': 18, 'font.family': 'serif'})"
     ],
     "language": "python",
     "metadata": {
      "slideshow": {
       "slide_type": "fragment"
      }
     },
     "outputs": [],
     "prompt_number": 97
    },
    {
     "cell_type": "code",
     "collapsed": false,
     "input": [
      "fig, ax = plt.subplots()\n",
      "\n",
      "ax.plot(x, x**2, label=r\"$y = \\alpha^2$\")\n",
      "ax.plot(x, x**3, label=r\"$y = \\alpha^3$\")\n",
      "ax.set_xlabel(r'$\\alpha$')\n",
      "ax.set_ylabel(r'$y$')\n",
      "ax.set_title('title')\n",
      "ax.legend(loc=2); # upper left corner"
     ],
     "language": "python",
     "metadata": {
      "slideshow": {
       "slide_type": "fragment"
      }
     },
     "outputs": [
      {
       "metadata": {},
       "output_type": "pyout",
       "prompt_number": 138,
       "text": [
        "<matplotlib.legend.Legend at 0x10c419650>"
       ]
      },
      {
       "metadata": {},
       "output_type": "display_data",
       "png": "[encoded data removed]",
       "text": [
        "<matplotlib.figure.Figure at 0x10c2b0810>"
       ]
      }
     ],
     "prompt_number": 138
    },
    {
     "cell_type": "code",
     "collapsed": false,
     "input": [
      "# restore\n",
      "matplotlib.rcParams.update({'font.size': 12, 'font.family': 'sans'})"
     ],
     "language": "python",
     "metadata": {
      "slideshow": {
       "slide_type": "fragment"
      }
     },
     "outputs": [],
     "prompt_number": 99
    },
    {
     "cell_type": "markdown",
     "metadata": {
      "slideshow": {
       "slide_type": "slide"
      }
     },
     "source": [
      "##### Setting colors, linewidths, linetypes"
     ]
    },
    {
     "cell_type": "markdown",
     "metadata": {
      "slideshow": {
       "slide_type": "subslide"
      }
     },
     "source": [
      "**Colors**\n",
      "\n",
      "Colors of lines and other graphical elements can be defined in a number of way. \n",
      "\n",
      "For example, we can use the MATLAB-like syntax where `'b'` means blue, `'g'` means green, etc. The MATLAB API for selecting line styles are also supported: where for example 'b.-' mean a blue line with dots."
     ]
    },
    {
     "cell_type": "code",
     "collapsed": false,
     "input": [
      "# MATLAB style line color and style \n",
      "fig, ax = plt.subplots()\n",
      "ax.plot(x, x**2, 'b.-') # blue line with dots\n",
      "ax.plot(x, x**3, 'g--') # green dashed line"
     ],
     "language": "python",
     "metadata": {
      "slideshow": {
       "slide_type": "subslide"
      }
     },
     "outputs": [
      {
       "metadata": {},
       "output_type": "pyout",
       "prompt_number": 100,
       "text": [
        "[<matplotlib.lines.Line2D at 0x10b1daf90>]"
       ]
      },
      {
       "metadata": {},
       "output_type": "display_data",
       "png": "[encoded data removed]",
       "text": [
        "<matplotlib.figure.Figure at 0x10a747c90>"
       ]
      }
     ],
     "prompt_number": 100
    },
    {
     "cell_type": "markdown",
     "metadata": {
      "slideshow": {
       "slide_type": "subslide"
      }
     },
     "source": [
      "In matplotlib we can also define colors by their name or RGB hex codes, and optionally provide an alpha value, using the `color` and `alpha` keyword arguments:"
     ]
    },
    {
     "cell_type": "code",
     "collapsed": false,
     "input": [
      "fig, ax = plt.subplots()\n",
      "\n",
      "ax.plot(x, x+1, color=\"red\", alpha=0.5) # half-transparant red\n",
      "ax.plot(x, x+2, color=\"#1155dd\")        # RGB hex code for a bluish color\n",
      "ax.plot(x, x+3, color=\"#15cc55\")        # RGB hex code for a greenish color"
     ],
     "language": "python",
     "metadata": {
      "slideshow": {
       "slide_type": "fragment"
      }
     },
     "outputs": [
      {
       "metadata": {},
       "output_type": "pyout",
       "prompt_number": 101,
       "text": [
        "[<matplotlib.lines.Line2D at 0x10b2e9bd0>]"
       ]
      },
      {
       "metadata": {},
       "output_type": "display_data",
       "png": "[encoded data removed]",
       "text": [
        "<matplotlib.figure.Figure at 0x10b1cb0d0>"
       ]
      }
     ],
     "prompt_number": 101
    },
    {
     "cell_type": "markdown",
     "metadata": {
      "slideshow": {
       "slide_type": "subslide"
      }
     },
     "source": [
      "**Line and marker styles** \n",
      "\n",
      "To change the line width we can use the `linewidth` or `lw` keyword argument, and the line style can be selected using the `linestyle` or `ls` keyword arguments:"
     ]
    },
    {
     "cell_type": "code",
     "collapsed": false,
     "input": [
      "fig, ax = plt.subplots(figsize=(12,6))\n",
      "\n",
      "ax.plot(x, x+1, color=\"blue\", linewidth=0.25)\n",
      "ax.plot(x, x+2, color=\"blue\", linewidth=0.50)\n",
      "ax.plot(x, x+3, color=\"blue\", linewidth=1.00)\n",
      "ax.plot(x, x+4, color=\"blue\", linewidth=2.00)\n",
      "\n",
      "# possible linestype options \u2018-\u2018, \u2018\u2013\u2019, \u2018-.\u2019, \u2018:\u2019, \u2018steps\u2019\n",
      "ax.plot(x, x+5, color=\"red\", lw=2, linestyle='-')\n",
      "ax.plot(x, x+6, color=\"red\", lw=2, ls='-.')\n",
      "ax.plot(x, x+7, color=\"red\", lw=2, ls=':')\n",
      "\n",
      "# custom dash\n",
      "line, = ax.plot(x, x+8, color=\"black\", lw=1.50)\n",
      "line.set_dashes([5, 10, 15, 10]) # format: line length, space length, ...\n",
      "\n",
      "# possible marker symbols: marker = '+', 'o', '*', 's', ',', '.', '1', '2', '3', '4', ...\n",
      "ax.plot(x, x+ 9, color=\"green\", lw=2, ls='*', marker='+')\n",
      "ax.plot(x, x+10, color=\"green\", lw=2, ls='*', marker='o')\n",
      "ax.plot(x, x+11, color=\"green\", lw=2, ls='*', marker='s')\n",
      "ax.plot(x, x+12, color=\"green\", lw=2, ls='*', marker='1')\n",
      "\n",
      "# marker size and color\n",
      "ax.plot(x, x+13, color=\"purple\", lw=1, ls='-', marker='o', markersize=2)\n",
      "ax.plot(x, x+14, color=\"purple\", lw=1, ls='-', marker='o', markersize=4)\n",
      "ax.plot(x, x+15, color=\"purple\", lw=1, ls='-', marker='o', markersize=8, markerfacecolor=\"red\")\n",
      "ax.plot(x, x+16, color=\"purple\", lw=1, ls='-', marker='s', markersize=8, \n",
      "        markerfacecolor=\"yellow\", markeredgewidth=2, markeredgecolor=\"blue\");"
     ],
     "language": "python",
     "metadata": {
      "slideshow": {
       "slide_type": "fragment"
      }
     },
     "outputs": [
      {
       "metadata": {},
       "output_type": "display_data",
       "png": "[encoded data removed]",
       "text": [
        "<matplotlib.figure.Figure at 0x10b301650>"
       ]
      }
     ],
     "prompt_number": 102
    },
    {
     "cell_type": "markdown",
     "metadata": {
      "slideshow": {
       "slide_type": "slide"
      }
     },
     "source": [
      "##### Control over axis apperance\n",
      "The appearance of the axes is an important aspect of a figure that we often need to modify to make a publication quality graphics. We need to be able to control where the ticks and labels are placed, modify the font size and possibly the labels used on the axes. In this section we will look at controling those properties in a matplotlib figure."
     ]
    },
    {
     "cell_type": "markdown",
     "metadata": {
      "slideshow": {
       "slide_type": "subslide"
      }
     },
     "source": [
      "**Plot range **\n",
      "\n",
      "The first thing we might want to configure is the ranges of the axes. We can do it using the `set_ylim` and `set_xlim` methods in the axis object, or `axis('tight')` for automatrically getting \"tightly fitted\" axes ranges."
     ]
    },
    {
     "cell_type": "code",
     "collapsed": false,
     "input": [
      "fig, axes = plt.subplots(1, 3, figsize=(12, 4))\n",
      "\n",
      "axes[0].plot(x, x**2, x, x**3)\n",
      "axes[0].set_title(\"default axes ranges\")\n",
      "\n",
      "axes[1].plot(x, x**2, x, x**3)\n",
      "axes[1].axis('tight')\n",
      "axes[1].set_title(\"tight axes\")\n",
      "\n",
      "axes[2].plot(x, x**2, x, x**3)\n",
      "axes[2].set_ylim([0, 60])\n",
      "axes[2].set_xlim([2, 5])\n",
      "axes[2].set_title(\"custom axes range\");"
     ],
     "language": "python",
     "metadata": {
      "slideshow": {
       "slide_type": "fragment"
      }
     },
     "outputs": [
      {
       "metadata": {},
       "output_type": "display_data",
       "png": "[encoded data removed]",
       "text": [
        "<matplotlib.figure.Figure at 0x10b1eb990>"
       ]
      }
     ],
     "prompt_number": 103
    },
    {
     "cell_type": "markdown",
     "metadata": {
      "slideshow": {
       "slide_type": "subslide"
      }
     },
     "source": [
      "**Placement of ticks and custom tick labels**\n",
      "We can explicitly determine where we want the axis ticks using the `set_xticks` and `set_yticks`, which both takes a list of values for where on the axis the ticks are to be placed. We can also use the functions `set_xticklabels` and `set_yticklabels` to provide a list of custom text labels for each tick location:"
     ]
    },
    {
     "cell_type": "code",
     "collapsed": false,
     "input": [
      "fig, ax = plt.subplots(figsize=(10, 4))\n",
      "\n",
      "ax.plot(x, x**2, x, x**3, lw=2)\n",
      "\n",
      "ax.set_xticks([1, 2, 3, 4, 5])\n",
      "ax.set_xticklabels([r'$\\alpha$', r'$\\beta$', r'$\\gamma$', r'$\\delta$', r'$\\epsilon$'], fontsize=18)\n",
      "\n",
      "yticks = [0, 50, 100, 150]\n",
      "ax.set_yticks(yticks)\n",
      "ax.set_yticklabels([\"$%.1f$\" % y for y in yticks], fontsize=18); # use LaTeX formatted labels"
     ],
     "language": "python",
     "metadata": {
      "slideshow": {
       "slide_type": "fragment"
      }
     },
     "outputs": [
      {
       "metadata": {},
       "output_type": "pyout",
       "prompt_number": 104,
       "text": [
        "[<matplotlib.text.Text at 0x10a9ac290>,\n",
        " <matplotlib.text.Text at 0x10b2ebf90>,\n",
        " <matplotlib.text.Text at 0x10aa35ed0>,\n",
        " <matplotlib.text.Text at 0x10aa35950>]"
       ]
      },
      {
       "metadata": {},
       "output_type": "display_data",
       "png": "[encoded data removed]",
       "text": [
        "<matplotlib.figure.Figure at 0x10b1e3bd0>"
       ]
      }
     ],
     "prompt_number": 104
    },
    {
     "cell_type": "markdown",
     "metadata": {
      "slideshow": {
       "slide_type": "slide"
      }
     },
     "source": [
      "In matplotlib there is a number of more advanced methods for controlling major and minor tick placement, such as automatic placement according to different policies. See http://matplotlib.org/api/ticker_api.html for details."
     ]
    },
    {
     "cell_type": "markdown",
     "metadata": {
      "slideshow": {
       "slide_type": "subslide"
      }
     },
     "source": [
      "**Grid **\n",
      "\n",
      "Using the `grid` method in the axis object we can turn on and off grid lines. We can also customize the appearence of the gridlines, using the same keywork arguments as we previously used with the `plot` function."
     ]
    },
    {
     "cell_type": "code",
     "collapsed": false,
     "input": [
      "fig, axes = plt.subplots(1, 2, figsize=(10,3))\n",
      "\n",
      "# default grid appearance\n",
      "axes[0].plot(x, x**2, x, x**3, lw=2)\n",
      "axes[0].grid(True)\n",
      "\n",
      "# custom grid appearance\n",
      "axes[1].plot(x, x**2, x, x**3, lw=2)\n",
      "axes[1].grid(color='b', alpha=0.5, linestyle='dashed', linewidth=0.5)"
     ],
     "language": "python",
     "metadata": {
      "slideshow": {
       "slide_type": "fragment"
      }
     },
     "outputs": [
      {
       "metadata": {},
       "output_type": "display_data",
       "png": "[encoded data removed]",
       "text": [
        "<matplotlib.figure.Figure at 0x10aa2eb10>"
       ]
      }
     ],
     "prompt_number": 105
    },
    {
     "cell_type": "markdown",
     "metadata": {
      "slideshow": {
       "slide_type": "subslide"
      }
     },
     "source": [
      "**Axis spines **\n",
      "We can also change the properties of the axis spines:"
     ]
    },
    {
     "cell_type": "code",
     "collapsed": false,
     "input": [
      "fig, ax = plt.subplots(figsize=(6,2))\n",
      "\n",
      "ax.spines['bottom'].set_color('blue')\n",
      "ax.spines['top'].set_color('blue')\n",
      "\n",
      "ax.spines['left'].set_color('red')\n",
      "ax.spines['left'].set_linewidth(2)\n",
      "\n",
      "# turn off axis spine to the right\n",
      "ax.spines['right'].set_color(\"none\")\n",
      "ax.yaxis.tick_left() # only ticks on the left side"
     ],
     "language": "python",
     "metadata": {
      "slideshow": {
       "slide_type": "fragment"
      }
     },
     "outputs": [
      {
       "metadata": {},
       "output_type": "display_data",
       "png": "[encoded data removed]",
       "text": [
        "<matplotlib.figure.Figure at 0x10b39b8d0>"
       ]
      }
     ],
     "prompt_number": 106
    },
    {
     "cell_type": "markdown",
     "metadata": {
      "slideshow": {
       "slide_type": "subslide"
      }
     },
     "source": [
      "** Twin Axes **\n",
      "Sometimes it is useful to have dual x or y axes in a figure, for example when plotting curves with differnt units together. Matplotlib supports this with the `twinx` and `twiny` functions:"
     ]
    },
    {
     "cell_type": "code",
     "collapsed": false,
     "input": [
      "fig, ax1 = plt.subplots()\n",
      "\n",
      "ax1.plot(x, x**2, lw=2, color=\"blue\")\n",
      "ax1.set_ylabel(r\"area $(m^2)$\", fontsize=18, color=\"blue\")\n",
      "for label in ax1.get_yticklabels():\n",
      "    label.set_color(\"blue\")\n",
      "    \n",
      "ax2 = ax1.twinx()\n",
      "ax2.plot(x, x**3, lw=2, color=\"red\")\n",
      "ax2.set_ylabel(r\"volume $(m^3)$\", fontsize=18, color=\"red\")\n",
      "for label in ax2.get_yticklabels():\n",
      "    label.set_color(\"red\")"
     ],
     "language": "python",
     "metadata": {
      "slideshow": {
       "slide_type": "fragment"
      }
     },
     "outputs": [
      {
       "metadata": {},
       "output_type": "display_data",
       "png": "[encoded data removed]",
       "text": [
        "<matplotlib.figure.Figure at 0x10b561e90>"
       ]
      }
     ],
     "prompt_number": 107
    },
    {
     "cell_type": "heading",
     "level": 3,
     "metadata": {
      "slideshow": {
       "slide_type": "subslide"
      }
     },
     "source": [
      "Axes where x and y is zero"
     ]
    },
    {
     "cell_type": "code",
     "collapsed": false,
     "input": [
      "fig, ax = plt.subplots()\n",
      "\n",
      "ax.spines['right'].set_color('none')\n",
      "ax.spines['top'].set_color('none')\n",
      "\n",
      "ax.xaxis.set_ticks_position('bottom')\n",
      "ax.spines['bottom'].set_position(('data',0)) # set position of x spine to x=0\n",
      "\n",
      "ax.yaxis.set_ticks_position('left')\n",
      "ax.spines['left'].set_position(('data',0))   # set position of y spine to y=0\n",
      "\n",
      "xx = np.linspace(-0.75, 1., 100)\n",
      "ax.plot(xx, xx**3);"
     ],
     "language": "python",
     "metadata": {
      "slideshow": {
       "slide_type": "fragment"
      }
     },
     "outputs": [
      {
       "metadata": {},
       "output_type": "display_data",
       "png": "[encoded data removed]",
       "text": [
        "<matplotlib.figure.Figure at 0x10b5823d0>"
       ]
      }
     ],
     "prompt_number": 108
    },
    {
     "cell_type": "markdown",
     "metadata": {
      "slideshow": {
       "slide_type": "slide"
      }
     },
     "source": [
      "#### 2.2.3. Other 2D plot styles\n",
      "\n",
      "In addition to the function `plot`, there are a number of other functions for generating different kind of plots. See the matplotlib plot gallery for a complete list of avaiable plot types: http://matplotlib.org/gallery.html. Some of the more useful ones are show below:"
     ]
    },
    {
     "cell_type": "code",
     "collapsed": false,
     "input": [
      "n = array([0,1,2,3,4,5])"
     ],
     "language": "python",
     "metadata": {
      "slideshow": {
       "slide_type": "fragment"
      }
     },
     "outputs": [],
     "prompt_number": 109
    },
    {
     "cell_type": "code",
     "collapsed": false,
     "input": [
      "fig, axes = plt.subplots(1, 4, figsize=(12,3))\n",
      "\n",
      "axes[0].scatter(xx, xx + 0.25*randn(len(xx)))\n",
      "\n",
      "axes[1].step(n, n**2, lw=2)\n",
      "\n",
      "axes[2].bar(n, n**2, align=\"center\", width=0.5, alpha=0.5)\n",
      "\n",
      "axes[3].fill_between(x, x**2, x**3, color=\"green\", alpha=0.5);"
     ],
     "language": "python",
     "metadata": {
      "slideshow": {
       "slide_type": "fragment"
      }
     },
     "outputs": [
      {
       "metadata": {},
       "output_type": "display_data",
       "png": "[encoded data removed]",
       "text": [
        "<matplotlib.figure.Figure at 0x10b8135d0>"
       ]
      }
     ],
     "prompt_number": 110
    },
    {
     "cell_type": "markdown",
     "metadata": {
      "slideshow": {
       "slide_type": "subslide"
      }
     },
     "source": [
      "##### Bar Charts "
     ]
    },
    {
     "cell_type": "code",
     "collapsed": false,
     "input": [
      "# Example data\n",
      "people = ('Tom', 'Dick', 'Harry', 'Slim', 'Jim')\n",
      "y_pos = np.arange(len(people))\n",
      "performance = 3 + 10 * np.random.rand(len(people))\n",
      "error = np.random.rand(len(people))\n",
      "\n",
      "plt.barh(y_pos, performance, xerr=error, align='center', alpha=0.4)\n",
      "plt.yticks(y_pos, people)\n",
      "plt.xlabel('Performance')\n",
      "plt.title('How fast do you want to go today?')\n",
      "\n",
      "plt.show()"
     ],
     "language": "python",
     "metadata": {
      "slideshow": {
       "slide_type": "fragment"
      }
     },
     "outputs": [
      {
       "metadata": {},
       "output_type": "display_data",
       "png": "[encoded data removed]",
       "text": [
        "<matplotlib.figure.Figure at 0x10b93c0d0>"
       ]
      }
     ],
     "prompt_number": 111
    },
    {
     "cell_type": "markdown",
     "metadata": {},
     "source": [
      "** Bar Charts with Standard Deviation **"
     ]
    },
    {
     "cell_type": "code",
     "collapsed": false,
     "input": [
      "N = 5\n",
      "menMeans = (20, 35, 30, 35, 27)\n",
      "menStd =   (2, 3, 4, 1, 2)\n",
      "\n",
      "ind = np.arange(N)  # the x locations for the groups\n",
      "width = 0.35       # the width of the bars\n",
      "\n",
      "fig, ax = plt.subplots()\n",
      "rects1 = ax.bar(ind, menMeans, width, color='r', yerr=menStd)\n",
      "\n",
      "womenMeans = (25, 32, 34, 20, 25)\n",
      "womenStd =   (3, 5, 2, 3, 3)\n",
      "rects2 = ax.bar(ind+width, womenMeans, width, color='y', yerr=womenStd)\n",
      "\n",
      "# add some\n",
      "ax.set_ylabel('Scores')\n",
      "ax.set_title('Scores by group and gender')\n",
      "ax.set_xticks(ind+width)\n",
      "ax.set_xticklabels( ('G1', 'G2', 'G3', 'G4', 'G5') )\n",
      "\n",
      "ax.legend( (rects1[0], rects2[0]), ('Men', 'Women') )\n",
      "\n",
      "def autolabel(rects):\n",
      "    # attach some text labels\n",
      "    for rect in rects:\n",
      "        height = rect.get_height()\n",
      "        ax.text(rect.get_x()+rect.get_width()/2., 1.05*height, '%d'%int(height),\n",
      "                ha='center', va='bottom')\n",
      "\n",
      "autolabel(rects1)\n",
      "autolabel(rects2)\n",
      "\n",
      "plt.show()"
     ],
     "language": "python",
     "metadata": {
      "slideshow": {
       "slide_type": "fragment"
      }
     },
     "outputs": [
      {
       "metadata": {},
       "output_type": "display_data",
       "png": "[encoded data removed]",
       "text": [
        "<matplotlib.figure.Figure at 0x10b8eb350>"
       ]
      }
     ],
     "prompt_number": 112
    },
    {
     "cell_type": "markdown",
     "metadata": {
      "slideshow": {
       "slide_type": "subslide"
      }
     },
     "source": [
      "** Histogram** "
     ]
    },
    {
     "cell_type": "code",
     "collapsed": false,
     "input": [
      "\n",
      "\n",
      "# example data\n",
      "mu = 100 # mean of distribution\n",
      "sigma = 15 # standard deviation of distribution\n",
      "x = mu + sigma * np.random.randn(10000)\n",
      "\n",
      "num_bins = 50\n",
      "# the histogram of the data\n",
      "n, bins, patches = plt.hist(x, num_bins, normed=1, facecolor='green', alpha=0.5)\n",
      "# add a 'best fit' line\n",
      "y = mlab.normpdf(bins, mu, sigma)\n",
      "plt.plot(bins, y, 'r--')\n",
      "plt.xlabel('Smarts')\n",
      "plt.ylabel('Probability')\n",
      "plt.title(r'Histogram of IQ: $\\mu=100$, $\\sigma=15$')\n",
      "\n",
      "# Tweak spacing to prevent clipping of ylabel\n",
      "plt.subplots_adjust(left=0.15)\n",
      "plt.show()"
     ],
     "language": "python",
     "metadata": {
      "slideshow": {
       "slide_type": "fragment"
      }
     },
     "outputs": [
      {
       "metadata": {},
       "output_type": "display_data",
       "png": "[encoded data removed]",
       "text": [
        "<matplotlib.figure.Figure at 0x10b679850>"
       ]
      }
     ]
    },
    {
     "cell_type": "markdown",
     "metadata": {
      "slideshow": {
       "slide_type": "subslide"
      }
     },
     "source": [
      "##### Pie Charts\n"
     ]
    },
    {
     "cell_type": "code",
     "collapsed": false,
     "input": [
      "# The slices will be ordered and plotted counter-clockwise.\n",
      "labels = 'Frogs', 'Hogs', 'Dogs', 'Logs'\n",
      "sizes = [15, 30, 45, 10]\n",
      "colors = ['yellowgreen', 'gold', 'lightskyblue', 'lightcoral']\n",
      "explode = (0, 0.1, 0, 0) # only \"explode\" the 2nd slice (i.e. 'Hogs')\n",
      "\n",
      "plt.pie(sizes, explode=explode, labels=labels, colors=colors,\n",
      "        autopct='%1.1f%%', shadow=True, startangle=90)\n",
      "# Set aspect ratio to be equal so that pie is drawn as a circle.\n",
      "plt.axis('equal')\n",
      "plt.show()"
     ],
     "language": "python",
     "metadata": {
      "slideshow": {
       "slide_type": "fragment"
      }
     },
     "outputs": []
    },
    {
     "cell_type": "markdown",
     "metadata": {
      "slideshow": {
       "slide_type": "subslide"
      }
     },
     "source": [
      "##### Polar Plots\n",
      "\n",
      "Plot data in polar coordinates as line chart"
     ]
    },
    {
     "cell_type": "code",
     "collapsed": false,
     "input": [
      "# polar plot using add_axes and polar projection\n",
      "fig = plt.figure()\n",
      "ax = fig.add_axes([0.0, 0.0, .6, .6], polar=True)\n",
      "t = linspace(0, 2 * pi, 100)\n",
      "ax.plot(t, t, color='blue', lw=3);"
     ],
     "language": "python",
     "metadata": {
      "slideshow": {
       "slide_type": "fragment"
      }
     },
     "outputs": []
    },
    {
     "cell_type": "markdown",
     "metadata": {
      "slideshow": {
       "slide_type": "subslide"
      }
     },
     "source": [
      "** Polar Plot Bar Chart **"
     ]
    },
    {
     "cell_type": "code",
     "collapsed": false,
     "input": [
      "N = 20\n",
      "theta = np.linspace(0.0, 2 * np.pi, N, endpoint=False)\n",
      "radii = 10 * np.random.rand(N)\n",
      "width = np.pi / 4 * np.random.rand(N)\n",
      "\n",
      "ax = plt.subplot(111, polar=True)\n",
      "bars = ax.bar(theta, radii, width=width, bottom=0.0)\n",
      "\n",
      "# Use custom colors and opacity\n",
      "for r, bar in zip(radii, bars):\n",
      "    bar.set_facecolor(plt.cm.jet(r / 10.))\n",
      "    bar.set_alpha(0.5)\n",
      "\n",
      "plt.show()"
     ],
     "language": "python",
     "metadata": {
      "slideshow": {
       "slide_type": "fragment"
      }
     },
     "outputs": []
    },
    {
     "cell_type": "markdown",
     "metadata": {
      "slideshow": {
       "slide_type": "subslide"
      }
     },
     "source": [
      "##### Box Plots"
     ]
    },
    {
     "cell_type": "code",
     "collapsed": false,
     "input": [
      "# fake up some data\n",
      "spread= rand(50) * 100\n",
      "center = ones(25) * 50\n",
      "flier_high = rand(10) * 100 + 100\n",
      "flier_low = rand(10) * -100\n",
      "data =concatenate((spread, center, flier_high, flier_low), 0)\n",
      "\n",
      "fig, axes = plt.subplots(nrows=2,ncols=2,figsize=(8,4))\n",
      "fig.tight_layout()\n",
      "# basic plot\n",
      "axes[0,0].boxplot(data)\n",
      "# notched plot\n",
      "axes[0,1].boxplot(data,1)\n",
      "# change outlier point symbols\n",
      "axes[1,0].boxplot(data,0,'gD')\n",
      "# don't show outlier points\n",
      "axes[1,1].boxplot(data,0,'')\n",
      "\n"
     ],
     "language": "python",
     "metadata": {
      "slideshow": {
       "slide_type": "fragment"
      }
     },
     "outputs": []
    },
    {
     "cell_type": "markdown",
     "metadata": {
      "slideshow": {
       "slide_type": "subslide"
      }
     },
     "source": [
      "** Scatter Plot with Marign Distribution **\n",
      "\n"
     ]
    },
    {
     "cell_type": "code",
     "collapsed": false,
     "input": [
      "from matplotlib.ticker import NullFormatter\n",
      "\n",
      "# the random data\n",
      "x = np.random.randn(1000)\n",
      "y = np.random.randn(1000)\n",
      "\n",
      "nullfmt   = NullFormatter()         # no labels\n",
      "\n",
      "# definitions for the axes\n",
      "left, width = 0.1, 0.65\n",
      "bottom, height = 0.1, 0.65\n",
      "bottom_h = left_h = left+width+0.02\n",
      "\n",
      "rect_scatter = [left, bottom, width, height]\n",
      "rect_histx = [left, bottom_h, width, 0.2]\n",
      "rect_histy = [left_h, bottom, 0.2, height]\n",
      "\n",
      "# start with a rectangular Figure\n",
      "plt.figure(1, figsize=(8,8))\n",
      "\n",
      "axScatter = plt.axes(rect_scatter)\n",
      "axHistx = plt.axes(rect_histx)\n",
      "axHisty = plt.axes(rect_histy)\n",
      "\n",
      "# no labels\n",
      "axHistx.xaxis.set_major_formatter(nullfmt)\n",
      "axHisty.yaxis.set_major_formatter(nullfmt)\n",
      "\n",
      "# the scatter plot:\n",
      "axScatter.scatter(x, y)\n",
      "\n",
      "# now determine nice limits by hand:\n",
      "binwidth = 0.25\n",
      "xymax = np.max( [np.max(np.fabs(x)), np.max(np.fabs(y))] )\n",
      "lim = ( int(xymax/binwidth) + 1) * binwidth\n",
      "\n",
      "axScatter.set_xlim( (-lim, lim) )\n",
      "axScatter.set_ylim( (-lim, lim) )\n",
      "\n",
      "bins = np.arange(-lim, lim + binwidth, binwidth)\n",
      "axHistx.hist(x, bins=bins)\n",
      "axHisty.hist(y, bins=bins, orientation='horizontal')\n",
      "\n",
      "axHistx.set_xlim( axScatter.get_xlim() )\n",
      "axHisty.set_ylim( axScatter.get_ylim() )\n",
      "\n",
      "plt.show()"
     ],
     "language": "python",
     "metadata": {
      "slideshow": {
       "slide_type": "fragment"
      }
     },
     "outputs": []
    },
    {
     "cell_type": "markdown",
     "metadata": {
      "slideshow": {
       "slide_type": "subslide"
      }
     },
     "source": [
      "##### Text annotation\n",
      "\n",
      "Annotating text in matplotlib figures can be done using the `text` function. It supports LaTeX formatting just like axis label texts and titles:"
     ]
    },
    {
     "cell_type": "code",
     "collapsed": false,
     "input": [
      "fig, ax = plt.subplots()\n",
      "\n",
      "ax.plot(xx, xx**2, xx, xx**3)\n",
      "\n",
      "ax.text(0.15, 0.2, r\"$y=x^2$\", fontsize=20, color=\"blue\")\n",
      "ax.text(0.65, 0.1, r\"$y=x^3$\", fontsize=20, color=\"green\");"
     ],
     "language": "python",
     "metadata": {
      "slideshow": {
       "slide_type": "fragment"
      }
     },
     "outputs": []
    },
    {
     "cell_type": "heading",
     "level": 2,
     "metadata": {
      "slideshow": {
       "slide_type": "subslide"
      }
     },
     "source": [
      "Figures with multiple subplots and insets"
     ]
    },
    {
     "cell_type": "markdown",
     "metadata": {
      "slideshow": {
       "slide_type": "fragment"
      }
     },
     "source": [
      "Axes can be added to a matplotlib Figure canvas manually using `make_axes` or using sub-figure layout manager such as `subplots` or `subplot2grid` or `gridspec`:"
     ]
    },
    {
     "cell_type": "heading",
     "level": 3,
     "metadata": {
      "slideshow": {
       "slide_type": "fragment"
      }
     },
     "source": [
      "subplots"
     ]
    },
    {
     "cell_type": "code",
     "collapsed": false,
     "input": [
      "fig, ax = plt.subplots(2, 3)\n",
      "fig.tight_layout()"
     ],
     "language": "python",
     "metadata": {
      "slideshow": {
       "slide_type": "fragment"
      }
     },
     "outputs": []
    },
    {
     "cell_type": "markdown",
     "metadata": {
      "slideshow": {
       "slide_type": "subslide"
      }
     },
     "source": [
      "**subplot2grid**\n",
      "\n",
      "Create subplots of different size"
     ]
    },
    {
     "cell_type": "code",
     "collapsed": false,
     "input": [
      "fig = plt.figure()\n",
      "ax1 = plt.subplot2grid((3,3), (0,0), colspan=3)\n",
      "ax2 = plt.subplot2grid((3,3), (1,0), colspan=2)\n",
      "ax3 = plt.subplot2grid((3,3), (1,2), rowspan=2)\n",
      "ax4 = plt.subplot2grid((3,3), (2,0))\n",
      "ax5 = plt.subplot2grid((3,3), (2,1))\n",
      "fig.tight_layout()"
     ],
     "language": "python",
     "metadata": {
      "slideshow": {
       "slide_type": "fragment"
      }
     },
     "outputs": []
    },
    {
     "cell_type": "markdown",
     "metadata": {
      "slideshow": {
       "slide_type": "subslide"
      }
     },
     "source": [
      "**gridspec**\n",
      "\n",
      "Similar to `subplots2grid`, but with specifying a more regular layout"
     ]
    },
    {
     "cell_type": "code",
     "collapsed": false,
     "input": [
      "import matplotlib.gridspec as gridspec"
     ],
     "language": "python",
     "metadata": {
      "slideshow": {
       "slide_type": "fragment"
      }
     },
     "outputs": []
    },
    {
     "cell_type": "code",
     "collapsed": false,
     "input": [
      "fig = plt.figure()\n",
      "\n",
      "gs = gridspec.GridSpec(2, 3, height_ratios=[2,1], width_ratios=[1,2,1])\n",
      "for g in gs:\n",
      "    ax = fig.add_subplot(g)\n",
      "    \n",
      "fig.tight_layout()"
     ],
     "language": "python",
     "metadata": {
      "slideshow": {
       "slide_type": "fragment"
      }
     },
     "outputs": []
    },
    {
     "cell_type": "heading",
     "level": 3,
     "metadata": {
      "slideshow": {
       "slide_type": "subslide"
      }
     },
     "source": [
      "add_axes"
     ]
    },
    {
     "cell_type": "markdown",
     "metadata": {
      "slideshow": {
       "slide_type": "fragment"
      }
     },
     "source": [
      "Manually adding axes with `add_axes` is useful for adding insets to figures:"
     ]
    },
    {
     "cell_type": "code",
     "collapsed": false,
     "input": [
      "fig, ax = plt.subplots()\n",
      "\n",
      "ax.plot(xx, xx**2, xx, xx**3)\n",
      "fig.tight_layout()\n",
      "\n",
      "# inset\n",
      "inset_ax = fig.add_axes([0.2, 0.55, 0.35, 0.35]) # X, Y, width, height\n",
      "\n",
      "inset_ax.plot(xx, xx**2, xx, xx**3)\n",
      "inset_ax.set_title('zoom near origin')\n",
      "\n",
      "# set axis range\n",
      "inset_ax.set_xlim(-.2, .2)\n",
      "inset_ax.set_ylim(-.005, .01)\n",
      "\n",
      "# set axis tick locations\n",
      "inset_ax.set_yticks([0, 0.005, 0.01])\n",
      "inset_ax.set_xticks([-0.1,0,.1]);"
     ],
     "language": "python",
     "metadata": {
      "slideshow": {
       "slide_type": "fragment"
      }
     },
     "outputs": []
    },
    {
     "cell_type": "heading",
     "level": 2,
     "metadata": {
      "slideshow": {
       "slide_type": "slide"
      }
     },
     "source": [
      "Colormap and contour figures"
     ]
    },
    {
     "cell_type": "markdown",
     "metadata": {
      "slideshow": {
       "slide_type": "fragment"
      }
     },
     "source": [
      "Colormaps and contour figures are useful for plotting functions of two variables. In most of these functions we will use a colormap to encode one dimension of the data. There is a number of predefined colormaps, and it is relatively straightforward to define custom colormaps. For a list of pre-defined colormaps, see:\n",
      "http://www.scipy.org/Cookbook/Matplotlib/Show_colormaps"
     ]
    },
    {
     "cell_type": "code",
     "collapsed": false,
     "input": [
      "alpha = 0.7\n",
      "phi_ext = 2 * pi * 0.5\n",
      "\n",
      "def flux_qubit_potential(phi_m, phi_p):\n",
      "    return 2 + alpha - 2 * cos(phi_p)*cos(phi_m) - alpha * cos(phi_ext - 2*phi_p)"
     ],
     "language": "python",
     "metadata": {
      "slideshow": {
       "slide_type": "fragment"
      }
     },
     "outputs": []
    },
    {
     "cell_type": "code",
     "collapsed": false,
     "input": [
      "phi_m = linspace(0, 2*pi, 100)\n",
      "phi_p = linspace(0, 2*pi, 100)\n",
      "X,Y = meshgrid(phi_p, phi_m)\n",
      "Z = flux_qubit_potential(X, Y).T"
     ],
     "language": "python",
     "metadata": {
      "slideshow": {
       "slide_type": "fragment"
      }
     },
     "outputs": []
    },
    {
     "cell_type": "markdown",
     "metadata": {
      "slideshow": {
       "slide_type": "subslide"
      }
     },
     "source": [
      "**pcolor**\n",
      "\n",
      "Create a pseudocolor plot of a 2-D array. Can be very slow for large 2D arrays."
     ]
    },
    {
     "cell_type": "code",
     "collapsed": false,
     "input": [
      "fig, ax = plt.subplots()\n",
      "\n",
      "p = ax.pcolor(X/(2*pi), Y/(2*pi), Z, cmap=cm.RdBu, vmin=abs(Z).min(), vmax=abs(Z).max())\n",
      "cb = fig.colorbar(p, ax=ax)"
     ],
     "language": "python",
     "metadata": {
      "slideshow": {
       "slide_type": "fragment"
      }
     },
     "outputs": []
    },
    {
     "cell_type": "markdown",
     "metadata": {
      "slideshow": {
       "slide_type": "subslide"
      }
     },
     "source": [
      "**imshow**\n",
      "\n",
      "Display an image on the axes."
     ]
    },
    {
     "cell_type": "code",
     "collapsed": false,
     "input": [
      "fig, ax = plt.subplots()\n",
      "\n",
      "im = imshow(Z, cmap=cm.RdBu, vmin=abs(Z).min(), vmax=abs(Z).max(), extent=[0, 1, 0, 1])\n",
      "im.set_interpolation('bilinear')\n",
      "\n",
      "cb = fig.colorbar(im, ax=ax)"
     ],
     "language": "python",
     "metadata": {
      "slideshow": {
       "slide_type": "fragment"
      }
     },
     "outputs": []
    },
    {
     "cell_type": "markdown",
     "metadata": {
      "slideshow": {
       "slide_type": "fragment"
      }
     },
     "source": [
      "Note that images can be interpolated and that indexig might vary. For interpolation in smaller arrays use `interpolation=\"nearest\"`"
     ]
    },
    {
     "cell_type": "heading",
     "level": 3,
     "metadata": {
      "slideshow": {
       "slide_type": "subslide"
      }
     },
     "source": [
      "contour"
     ]
    },
    {
     "cell_type": "code",
     "collapsed": false,
     "input": [
      "fig, ax = plt.subplots()\n",
      "\n",
      "cnt = contour(Z, cmap=cm.RdBu, vmin=abs(Z).min(), vmax=abs(Z).max(), extent=[0, 1, 0, 1])"
     ],
     "language": "python",
     "metadata": {
      "slideshow": {
       "slide_type": "fragment"
      }
     },
     "outputs": []
    },
    {
     "cell_type": "heading",
     "level": 2,
     "metadata": {
      "slideshow": {
       "slide_type": "slide"
      }
     },
     "source": [
      "3D figures"
     ]
    },
    {
     "cell_type": "markdown",
     "metadata": {
      "slideshow": {
       "slide_type": "fragment"
      }
     },
     "source": [
      "To use 3D graphics in matplotlib, we first need to create an axes instance of the class `Axes3D`. 3D axes can be added to a matplotlib figure canvas in exactly the same way as 2D axes, but a conventient way to create a 3D axis instance is to use the `projection='3d'` keyword argument to the `add_axes` or `add_subplot` functions."
     ]
    },
    {
     "cell_type": "code",
     "collapsed": false,
     "input": [
      "from mpl_toolkits.mplot3d.axes3d import Axes3D"
     ],
     "language": "python",
     "metadata": {
      "slideshow": {
       "slide_type": "fragment"
      }
     },
     "outputs": []
    },
    {
     "cell_type": "heading",
     "level": 3,
     "metadata": {
      "slideshow": {
       "slide_type": "subslide"
      }
     },
     "source": [
      "Surface plots"
     ]
    },
    {
     "cell_type": "code",
     "collapsed": false,
     "input": [
      "fig = plt.figure(figsize=(14,6))\n",
      "\n",
      "# `ax` is a 3D-aware axis instance, because of the projection='3d' keyword argument to add_subplot\n",
      "ax = fig.add_subplot(1, 2, 1, projection='3d')\n",
      "\n",
      "p = ax.plot_surface(X, Y, Z, rstride=4, cstride=4, linewidth=0)\n",
      "\n",
      "# surface_plot with color grading and color bar\n",
      "ax = fig.add_subplot(1, 2, 2, projection='3d')\n",
      "p = ax.plot_surface(X, Y, Z, rstride=1, cstride=1, cmap=cm.coolwarm, linewidth=0, antialiased=False)\n",
      "cb = fig.colorbar(p, shrink=0.5)"
     ],
     "language": "python",
     "metadata": {
      "slideshow": {
       "slide_type": "subslide"
      }
     },
     "outputs": []
    },
    {
     "cell_type": "heading",
     "level": 3,
     "metadata": {
      "slideshow": {
       "slide_type": "subslide"
      }
     },
     "source": [
      "Wire-frame plot"
     ]
    },
    {
     "cell_type": "code",
     "collapsed": false,
     "input": [
      "fig = plt.figure(figsize=(8,6))\n",
      "\n",
      "ax = fig.add_subplot(1, 1, 1, projection='3d')\n",
      "\n",
      "p = ax.plot_wireframe(X, Y, Z, rstride=4, cstride=4)"
     ],
     "language": "python",
     "metadata": {
      "slideshow": {
       "slide_type": "fragment"
      }
     },
     "outputs": []
    },
    {
     "cell_type": "heading",
     "level": 3,
     "metadata": {
      "slideshow": {
       "slide_type": "subslide"
      }
     },
     "source": [
      "Coutour plots with projections"
     ]
    },
    {
     "cell_type": "code",
     "collapsed": false,
     "input": [
      "fig = plt.figure(figsize=(8,6))\n",
      "\n",
      "ax = fig.add_subplot(1,1,1, projection='3d')\n",
      "\n",
      "ax.plot_surface(X, Y, Z, rstride=4, cstride=4, alpha=0.25)\n",
      "cset = ax.contour(X, Y, Z, zdir='z', offset=-pi, cmap=cm.coolwarm)\n",
      "cset = ax.contour(X, Y, Z, zdir='x', offset=-pi, cmap=cm.coolwarm)\n",
      "cset = ax.contour(X, Y, Z, zdir='y', offset=3*pi, cmap=cm.coolwarm)\n",
      "\n",
      "ax.set_xlim3d(-pi, 2*pi);\n",
      "ax.set_ylim3d(0, 3*pi);\n",
      "ax.set_zlim3d(-pi, 2*pi);"
     ],
     "language": "python",
     "metadata": {
      "slideshow": {
       "slide_type": "fragment"
      }
     },
     "outputs": []
    },
    {
     "cell_type": "heading",
     "level": 3,
     "metadata": {
      "slideshow": {
       "slide_type": "subslide"
      }
     },
     "source": [
      "Change the view angle"
     ]
    },
    {
     "cell_type": "markdown",
     "metadata": {
      "slideshow": {
       "slide_type": "fragment"
      }
     },
     "source": [
      "We can change the perspective of a 3D plot using the `view_init` function, which takes two arguments: the elevation and the azimuth angles (unit degrees)"
     ]
    },
    {
     "cell_type": "code",
     "collapsed": false,
     "input": [
      "fig = plt.figure(figsize=(12,6))\n",
      "\n",
      "ax = fig.add_subplot(1,2,1, projection='3d')\n",
      "ax.plot_surface(X, Y, Z, rstride=4, cstride=4, alpha=0.25)\n",
      "ax.view_init(30, 45)\n",
      "\n",
      "ax = fig.add_subplot(1,2,2, projection='3d')\n",
      "ax.plot_surface(X, Y, Z, rstride=4, cstride=4, alpha=0.25)\n",
      "ax.view_init(70, 30)\n",
      "\n",
      "fig.tight_layout()"
     ],
     "language": "python",
     "metadata": {
      "slideshow": {
       "slide_type": "fragment"
      }
     },
     "outputs": []
    },
    {
     "cell_type": "heading",
     "level": 2,
     "metadata": {
      "slideshow": {
       "slide_type": "slide"
      }
     },
     "source": [
      "Animations"
     ]
    },
    {
     "cell_type": "markdown",
     "metadata": {
      "slideshow": {
       "slide_type": "subslide"
      }
     },
     "source": [
      "Matplotlib also includes a simple API for generating animations for sequences of figures. Using the `FuncAnimation` function we can generate a movie file from a sequences of figure. The function takes the following arguments: `fig` a figure canvas, `func` is a function that we provide which updates the figure, `init_func` is a function we provide to setup the figure, `frame` is the number of frames to generate, `blit` tells the animation function to only update parts of the frame that has changed (giving better smoother animations):\n",
      "\n",
      "    def init():\n",
      "        # setup figure\n",
      "\n",
      "    def update(frame_counter):\n",
      "        # update figure for new frame\n",
      "\n",
      "    anim = animation.FuncAnimation(fig, update, init_func=init, frames=200, blit=True)\n",
      "\n",
      "    anim.save('animation.mp4', fps=30) # fps = frames per second\n",
      "\n",
      "To use the animation features in matplotlib we first need to import the module `matplotlib.animation`:"
     ]
    },
    {
     "cell_type": "code",
     "collapsed": false,
     "input": [
      "from matplotlib import animation"
     ],
     "language": "python",
     "metadata": {
      "slideshow": {
       "slide_type": "fragment"
      }
     },
     "outputs": []
    },
    {
     "cell_type": "code",
     "collapsed": false,
     "input": [
      "# solve the ode problem of the double compound pendulum again\n",
      "\n",
      "from scipy.integrate import odeint\n",
      "\n",
      "g = 9.82; L = 0.5; m = 0.1\n",
      "\n",
      "def dx(x, t):\n",
      "    x1, x2, x3, x4 = x[0], x[1], x[2], x[3]\n",
      "    \n",
      "    dx1 = 6.0/(m*L**2) * (2 * x3 - 3 * cos(x1-x2) * x4)/(16 - 9 * cos(x1-x2)**2)\n",
      "    dx2 = 6.0/(m*L**2) * (8 * x4 - 3 * cos(x1-x2) * x3)/(16 - 9 * cos(x1-x2)**2)\n",
      "    dx3 = -0.5 * m * L**2 * ( dx1 * dx2 * sin(x1-x2) + 3 * (g/L) * sin(x1))\n",
      "    dx4 = -0.5 * m * L**2 * (-dx1 * dx2 * sin(x1-x2) + (g/L) * sin(x2))\n",
      "    return [dx1, dx2, dx3, dx4]\n",
      "\n",
      "x0 = [pi/2, pi/2, 0, 0]  # initial state\n",
      "t = linspace(0, 10, 250) # time coordinates\n",
      "x = odeint(dx, x0, t)    # solve the ODE problem"
     ],
     "language": "python",
     "metadata": {
      "slideshow": {
       "slide_type": "fragment"
      }
     },
     "outputs": []
    },
    {
     "cell_type": "markdown",
     "metadata": {
      "slideshow": {
       "slide_type": "subslide"
      }
     },
     "source": [
      "Generate an animation that shows the positions of the pendulums as a function of time:"
     ]
    },
    {
     "cell_type": "code",
     "collapsed": false,
     "input": [
      "fig, ax = plt.subplots(figsize=(5,5))\n",
      "\n",
      "ax.set_ylim([-1.5, 0.5])\n",
      "ax.set_xlim([1, -1])\n",
      "\n",
      "pendulum1, = ax.plot([], [], color=\"red\", lw=2)\n",
      "pendulum2, = ax.plot([], [], color=\"blue\", lw=2)\n",
      "\n",
      "def init():\n",
      "    pendulum1.set_data([], [])\n",
      "    pendulum2.set_data([], [])\n",
      "\n",
      "def update(n): \n",
      "    # n = frame counter\n",
      "    # calculate the positions of the pendulums\n",
      "    x1 = + L * sin(x[n, 0])\n",
      "    y1 = - L * cos(x[n, 0])\n",
      "    x2 = x1 + L * sin(x[n, 1])\n",
      "    y2 = y1 - L * cos(x[n, 1])\n",
      "    \n",
      "    # update the line data\n",
      "    pendulum1.set_data([0 ,x1], [0 ,y1])\n",
      "    pendulum2.set_data([x1,x2], [y1,y2])\n",
      "\n",
      "anim = animation.FuncAnimation(fig, update, init_func=init, frames=len(t), blit=True)\n",
      "\n",
      "anim.save('animation.mp4', fps=20, extra_args=['-vcodec', 'libx264'])\n",
      "\n",
      "plt.close(fig)"
     ],
     "language": "python",
     "metadata": {
      "slideshow": {
       "slide_type": "fragment"
      }
     },
     "outputs": []
    },
    {
     "cell_type": "markdown",
     "metadata": {
      "slideshow": {
       "slide_type": "fragment"
      }
     },
     "source": [
      "Note: To generate the movie file we need to have the program `ffmpeg` installed. Install it using:\n",
      "\n",
      "    $ sudo apt-get install ffmpeg\n",
      "\n",
      "or \n",
      "\n",
      "    $ sudo port install ffmpeg"
     ]
    },
    {
     "cell_type": "code",
     "collapsed": false,
     "input": [
      "from IPython.display import HTML\n",
      "video = open(\"animation.mp4\", \"rb\").read()\n",
      "video_encoded = video.encode(\"base64\")\n",
      "video_tag = '<video controls alt=\"test\" src=\"data:video/x-m4v;base64,{0}\">'.format(video_encoded)\n",
      "HTML(video_tag)"
     ],
     "language": "python",
     "metadata": {
      "slideshow": {
       "slide_type": "subslide"
      }
     },
     "outputs": []
    },
    {
     "cell_type": "heading",
     "level": 2,
     "metadata": {
      "slideshow": {
       "slide_type": "subslide"
      }
     },
     "source": [
      "Backends"
     ]
    },
    {
     "cell_type": "markdown",
     "metadata": {
      "slideshow": {
       "slide_type": "slide"
      }
     },
     "source": [
      "Matplotlib has a number of \"backends\", which are responsible for rendering graphs. The different backends are able to generate graphics with different formats or using different display technologies. There is a distinction between noninteractive backends (such as 'agg', 'svg', 'pdf', etc.) that are only used to generate images files (with for example the `savefig` function), and interactive backends (such as Qt4Agg, GTK, MaxOSX) that can display a GUI window for interactively exploring figures. \n",
      "\n",
      "A list of available backends are:"
     ]
    },
    {
     "cell_type": "code",
     "collapsed": false,
     "input": [
      "print matplotlib.rcsetup.all_backends"
     ],
     "language": "python",
     "metadata": {
      "slideshow": {
       "slide_type": "fragment"
      }
     },
     "outputs": []
    },
    {
     "cell_type": "markdown",
     "metadata": {
      "slideshow": {
       "slide_type": "fragment"
      }
     },
     "source": [
      "The standard backend is called `agg`, and is based on a library for raster graphics and is great for generating raster formats such as PNG.\n",
      "\n",
      "Normally we don't need to bother with changing the default backend, but sometimes it can be useful to switch to for example the PDF or GTKCairo (if you are using Linux) to produce high-quality vector graphics instead of raster based graphics. "
     ]
    },
    {
     "cell_type": "heading",
     "level": 3,
     "metadata": {},
     "source": [
      "Example: Generating SVG with the svg backend"
     ]
    },
    {
     "cell_type": "code",
     "collapsed": false,
     "input": [
      "#\n",
      "# RESTART THE NOTEBOOK: the matplotlib backend can only be selected before pylab is imported!\n",
      "# \n",
      "import matplotlib\n",
      "matplotlib.use('svg')\n",
      "import matplotlib.pylab as plt\n",
      "import numpy\n",
      "from IPython.display import Image, SVG"
     ],
     "language": "python",
     "metadata": {
      "slideshow": {
       "slide_type": "subslide"
      }
     },
     "outputs": []
    },
    {
     "cell_type": "code",
     "collapsed": false,
     "input": [
      "#\n",
      "# Now we are using the svg backend to produce a SVG vector graphics\n",
      "#\n",
      "fig, ax = plt.subplots()\n",
      "t = numpy.linspace(0, 10, 100)\n",
      "ax.plot(t, numpy.cos(t)*numpy.sin(t))\n",
      "plt.savefig(\"test.svg\")"
     ],
     "language": "python",
     "metadata": {
      "slideshow": {
       "slide_type": "fragment"
      }
     },
     "outputs": []
    },
    {
     "cell_type": "code",
     "collapsed": false,
     "input": [
      "#\n",
      "# Show the produced SVG file. \n",
      "#\n",
      "SVG(filename=\"test.svg\")"
     ],
     "language": "python",
     "metadata": {
      "slideshow": {
       "slide_type": "fragment"
      }
     },
     "outputs": []
    },
    {
     "cell_type": "heading",
     "level": 3,
     "metadata": {
      "slideshow": {
       "slide_type": "subslide"
      }
     },
     "source": [
      "The IPython notebook inline backend"
     ]
    },
    {
     "cell_type": "markdown",
     "metadata": {
      "slideshow": {
       "slide_type": "subslide"
      }
     },
     "source": [
      "When we use IPython notebook it is convenient to use a matplotlib backend that outputs the graphics embedded in the notebook file. To activate this backend we add:\n",
      "\n",
      "    %pylab inline\n",
      "\n",
      "somewhere in the beginning on the notebook.\n",
      "\n",
      "Since IPython version 1.0, it is also possible to activate inline matplotlib plotting using\n",
      "\n",
      "    %matplotlib inline\n",
      "\n",
      "The difference is that `%pylab inline` imports a number of packages into the global address space (scipy, numpy) while `%matplotlib inline` does not important anything, only sets up the inline plotting in the notebook. In new notebooks created for IPython 1.0 I would recommend using `%matplotlib inline`, since it is more tidy and you get better control of which packages are imported and how. Then scipy and numpy can be imported separately if necessary."
     ]
    },
    {
     "cell_type": "heading",
     "level": 3,
     "metadata": {
      "slideshow": {
       "slide_type": "subslide"
      }
     },
     "source": [
      "Example: QT interactive backend (this makes more sense in a python script file)"
     ]
    },
    {
     "cell_type": "code",
     "collapsed": true,
     "input": [
      "#\n",
      "# RESTART THE NOTEBOOK: the matplotlib backend can only be selected before pylab is imported!\n",
      "# \n",
      "import matplotlib\n",
      "matplotlib.use('MacOSX') # or for example Qt4Agg\n",
      "import matplotlib.pylab as plt\n",
      "import numpy"
     ],
     "language": "python",
     "metadata": {
      "slideshow": {
       "slide_type": "fragment"
      }
     },
     "outputs": []
    },
    {
     "cell_type": "code",
     "collapsed": false,
     "input": [
      "# Now we are using the Qt4Agg backend open an interactive plot window\n",
      "fig, ax = plt.subplots()\n",
      "t = numpy.linspace(0, 10, 100)\n",
      "ax.plot(t, numpy.cos(t)*numpy.sin(t))\n",
      "plt.show()"
     ],
     "language": "python",
     "metadata": {
      "slideshow": {
       "slide_type": "fragment"
      }
     },
     "outputs": []
    },
    {
     "cell_type": "markdown",
     "metadata": {
      "slideshow": {
       "slide_type": "fragment"
      }
     },
     "source": [
      "Note that when we use an interactive backend, we need to call `plt.show()` to make the figure appear on the screen."
     ]
    },
    {
     "cell_type": "heading",
     "level": 3,
     "metadata": {
      "slideshow": {
       "slide_type": "subslide"
      }
     },
     "source": [
      "Further reading"
     ]
    },
    {
     "cell_type": "markdown",
     "metadata": {
      "slideshow": {
       "slide_type": "fragment"
      }
     },
     "source": [
      "* http://www.matplotlib.org - The project web page for matplotlib.\n",
      "* https://github.com/matplotlib/matplotlib - The source code for matplotlib.\n",
      "* http://matplotlib.org/gallery.html - A large gallery that showcase what kind of plots matplotlib can create. Highly recommended! \n",
      "* http://www.loria.fr/~rougier/teaching/matplotlib - A good matplotlib tutorial.\n"
     ]
    },
    {
     "cell_type": "heading",
     "level": 2,
     "metadata": {},
     "source": [
      "Versions"
     ]
    },
    {
     "cell_type": "code",
     "collapsed": false,
     "input": [
      "%reload_ext version_information\n",
      "\n",
      "%version_information numpy, scipy, matplotlib"
     ],
     "language": "python",
     "metadata": {},
     "outputs": []
    },
    {
     "cell_type": "code",
     "collapsed": false,
     "input": [],
     "language": "python",
     "metadata": {},
     "outputs": []
    },
    {
     "cell_type": "code",
     "collapsed": false,
     "input": [],
     "language": "python",
     "metadata": {},
     "outputs": []
    },
    {
     "cell_type": "code",
     "collapsed": false,
     "input": [],
     "language": "python",
     "metadata": {},
     "outputs": []
    },
    {
     "cell_type": "code",
     "collapsed": false,
     "input": [],
     "language": "python",
     "metadata": {},
     "outputs": []
    },
    {
     "cell_type": "code",
     "collapsed": false,
     "input": [],
     "language": "python",
     "metadata": {},
     "outputs": []
    },
    {
     "cell_type": "code",
     "collapsed": false,
     "input": [],
     "language": "python",
     "metadata": {},
     "outputs": []
    },
    {
     "cell_type": "code",
     "collapsed": false,
     "input": [],
     "language": "python",
     "metadata": {},
     "outputs": []
    },
    {
     "cell_type": "code",
     "collapsed": false,
     "input": [],
     "language": "python",
     "metadata": {},
     "outputs": []
    },
    {
     "cell_type": "code",
     "collapsed": false,
     "input": [],
     "language": "python",
     "metadata": {},
     "outputs": []
    },
    {
     "cell_type": "code",
     "collapsed": false,
     "input": [],
     "language": "python",
     "metadata": {},
     "outputs": []
    },
    {
     "cell_type": "code",
     "collapsed": false,
     "input": [],
     "language": "python",
     "metadata": {},
     "outputs": []
    },
    {
     "cell_type": "code",
     "collapsed": false,
     "input": [],
     "language": "python",
     "metadata": {},
     "outputs": []
    },
    {
     "cell_type": "code",
     "collapsed": false,
     "input": [],
     "language": "python",
     "metadata": {},
     "outputs": []
    },
    {
     "cell_type": "code",
     "collapsed": false,
     "input": [],
     "language": "python",
     "metadata": {},
     "outputs": []
    },
    {
     "cell_type": "code",
     "collapsed": false,
     "input": [],
     "language": "python",
     "metadata": {},
     "outputs": []
    },
    {
     "cell_type": "code",
     "collapsed": false,
     "input": [],
     "language": "python",
     "metadata": {},
     "outputs": []
    },
    {
     "cell_type": "code",
     "collapsed": false,
     "input": [],
     "language": "python",
     "metadata": {},
     "outputs": []
    }
   ],
   "metadata": {}
  }
 ]
}