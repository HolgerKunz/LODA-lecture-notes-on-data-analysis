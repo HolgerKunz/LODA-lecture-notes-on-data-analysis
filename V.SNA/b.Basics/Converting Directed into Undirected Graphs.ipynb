{
 "cells": [
  {
   "cell_type": "markdown",
   "metadata": {},
   "source": [
    "# Social Network Analysis \n",
    "    \n",
    "## Graph Embeddings\n",
    "\n",
    "\n",
    "by \n",
    "\n",
    "[__Michael Granitzer__ (michael.granitzer@uni-passau.de)]( http://mgrani.github.io/)\n",
    "\n",
    "\n",
    "__License__\n",
    "\n",
    "This work is licensed under a [Creative Commons Attribution 3.0 Unported License](http://creativecommons.org/licenses/by/3.0/)"
   ]
  },
  {
   "cell_type": "markdown",
   "metadata": {},
   "source": [
    "This notebook shows a quick example of converting directed graphs to undirected graphs. \n",
    "\n",
    "As of November 2016, we only show Co-Citation (rest will be covered on demand)"
   ]
  },
  {
   "cell_type": "markdown",
   "metadata": {},
   "source": [
    "## Co-Citation\n",
    "\n",
    "Given an adjacency matrix $A$, the co-citation matrix is defined as\n",
    "$$\n",
    "C=A\\cdot A^t\n",
    "$$"
   ]
  },
  {
   "cell_type": "code",
   "execution_count": 21,
   "metadata": {
    "ExecuteTime": {
     "end_time": "2016-11-17T09:08:01.155705",
     "start_time": "2016-11-17T09:08:01.150408"
    },
    "collapsed": false
   },
   "outputs": [
    {
     "name": "stdout",
     "output_type": "stream",
     "text": [
      "Adjacency Matrix A of a five node directed graph\n",
      "[[0 0 0 0 0]\n",
      " [0 0 0 0 0]\n",
      " [0 0 0 0 0]\n",
      " [1 1 1 0 0]\n",
      " [1 1 1 0 0]]\n"
     ]
    }
   ],
   "source": [
    "import numpy as np\n",
    "import networkx as nx\n",
    "A = np.matrix([[0,0,0,0,0],[0,0,0,0,0],[0,0,0,0,0],[1,1,1,0,0],[1,1,1,0,0]])\n",
    "print(\"Adjacency Matrix A of a five node directed graph\")\n",
    "print(A)"
   ]
  },
  {
   "cell_type": "code",
   "execution_count": 22,
   "metadata": {
    "ExecuteTime": {
     "end_time": "2016-11-17T09:08:03.314304",
     "start_time": "2016-11-17T09:08:03.007089"
    },
    "collapsed": false
   },
   "outputs": [
    {
     "name": "stdout",
     "output_type": "stream",
     "text": [
      "Populating the interactive namespace from numpy and matplotlib\n",
      "The plotted graph. Thinker ends indicate the arrow.\n"
     ]
    },
    {
     "data": {
      "image/png": "[encoded data removed]",
      "text/plain": [
       "<matplotlib.figure.Figure at 0x1093d6ac8>"
      ]
     },
     "metadata": {},
     "output_type": "display_data"
    }
   ],
   "source": [
    "%pylab inline\n",
    "G = nx.DiGraph(A.T)\n",
    "pos = nx.spring_layout(G,iterations=500)\n",
    "nx.draw_networkx_nodes(G, pos, node_color = [\"black\", \"black\", \"black\", \"red\", \"red\"])\n",
    "nx.draw_networkx_edges(G, pos, edge_color='r', arrows=True)\n",
    "print(\"The plotted graph. Thinker ends indicate the arrow.\")"
   ]
  },
  {
   "cell_type": "code",
   "execution_count": 25,
   "metadata": {
    "ExecuteTime": {
     "end_time": "2016-11-17T09:11:22.757136",
     "start_time": "2016-11-17T09:11:22.749995"
    },
    "collapsed": false
   },
   "outputs": [
    {
     "name": "stdout",
     "output_type": "stream",
     "text": [
      "Co-Citation Matrix multiplication with its transposed, i.e. c(i,j)=sum_k(a(i,k) * a(j,k))\n",
      "[[0 0 0 0 0]\n",
      " [0 0 0 0 0]\n",
      " [0 0 0 0 0]\n",
      " [0 0 0 3 3]\n",
      " [0 0 0 3 3]]\n",
      "We do not want self loops and not a weighted graph. hence we remove the diagonal and set every value larger than zero to 1\n",
      "Final matrix\n",
      "[[0 0 0 0 0]\n",
      " [0 0 0 0 0]\n",
      " [0 0 0 0 0]\n",
      " [0 0 0 0 1]\n",
      " [0 0 0 1 0]]\n"
     ]
    }
   ],
   "source": [
    "print(\"Co-Citation Matrix multiplication with its transposed, i.e. c(i,j)=sum_k(a(i,k) * a(j,k))\")\n",
    "C=A*A.T\n",
    "print(C)\n",
    "print(\"We do not want self loops and not a weighted graph. hence we remove the diagonal and set every value larger than zero to 1\")\n",
    "C[C>0]=1\n",
    "np.fill_diagonal(C,0)\n",
    "print (\"Final matrix\")\n",
    "print (C)"
   ]
  }
 ],
 "metadata": {
  "kernelspec": {
   "display_name": "Python 3",
   "language": "python",
   "name": "python3"
  },
  "language_info": {
   "codemirror_mode": {
    "name": "ipython",
    "version": 3
   },
   "file_extension": ".py",
   "mimetype": "text/x-python",
   "name": "python",
   "nbconvert_exporter": "python",
   "pygments_lexer": "ipython3",
   "version": "3.5.1"
  },
  "latex_envs": {
   "bibliofile": "biblio.bib",
   "cite_by": "apalike",
   "current_citInitial": 1,
   "eqLabelWithNumbers": true,
   "eqNumInitial": 0
  },
  "toc": {
   "toc_cell": false,
   "toc_number_sections": false,
   "toc_threshold": 6,
   "toc_window_display": true
  }
 },
 "nbformat": 4,
 "nbformat_minor": 0
}
