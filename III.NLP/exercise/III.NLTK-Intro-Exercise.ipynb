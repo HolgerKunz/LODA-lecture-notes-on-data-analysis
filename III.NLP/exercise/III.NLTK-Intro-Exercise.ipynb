{
 "metadata": {
  "name": "",
  "signature": "sha256:7d83ac8e214b7177c0f8717cf2d69bc00a3ecbe5e3a1301b98f79c1ae631c0fb"
 },
 "nbformat": 3,
 "nbformat_minor": 0,
 "worksheets": [
  {
   "cells": [
    {
     "cell_type": "markdown",
     "metadata": {},
     "source": [
      "# Exercises - Natural Language Processing with NLTK\n",
      "\n",
      "by \n",
      "\n",
      "[__Michael Granitzer__ (michael.granitzer@uni-passau.de)]( http://www.mendeley.com/profiles/michael-granitzer/)\n",
      "\n",
      "<p>\n",
      "<p>\n",
      "<br>\n",
      "__Licences__\n",
      "<br />This work is licensed under a <a rel=\"license\" href=\"http://creativecommons.org/licenses/by-nc-sa/4.0/\">Creative Commons Attribution-NonCommercial-ShareAlike 4.0 International License</a>.\n",
      "<a rel=\"license\" href=\"http://creativecommons.org/licenses/by-nc-sa/4.0/\" align=\"left\"><img alt=\"Creative Commons License\" style=\"border-width:0\" src=\"https://i.creativecommons.org/l/by-nc-sa/4.0/88x31.png\" /></a>\n"
     ]
    },
    {
     "cell_type": "heading",
     "level": 1,
     "metadata": {
      "heading_collapsed": false
     },
     "source": [
      "Exercise A: Preprocessing the Reuters 21578 Text Corpus"
     ]
    },
    {
     "cell_type": "heading",
     "level": 2,
     "metadata": {
      "heading_collapsed": false
     },
     "source": [
      "Task"
     ]
    },
    {
     "cell_type": "markdown",
     "metadata": {},
     "source": [
      "The Reuters-21578 is a new corpora that has been extensively used in text mining. In this exercise, you should \n",
      "\n",
      "1. download the corpora from http://kdd.ics.uci.edu/databases/reuters21578/reuters21578.html\n",
      "2. Preprocess the titel (`TITLE` Element) and the text (`TEXT` Element) of every document \n",
      "3. Calculate  the 10 most frequent words in the title and 10 most frequent word in the text. In how many documents to this 10 frequent words occur?\n",
      "4. Perform a part of speech tagging on the `TITLE` and `TEXT` alement. What are the 10 most frequent Nouns and Verbs in Title and Text?\n",
      "5. Extract persons and locations from the Reuters documents using the available nltk tagger and compare their frequency distribution and their condidtional frequency distribution. Are there some dependencies and can you explain them?\n",
      "6. Try to find some noun and verb phrases and list them according to their frequency.\n"
     ]
    },
    {
     "cell_type": "heading",
     "level": 2,
     "metadata": {
      "heading_collapsed": false
     },
     "source": [
      "Solution"
     ]
    },
    {
     "cell_type": "code",
     "collapsed": false,
     "input": [],
     "language": "python",
     "metadata": {},
     "outputs": []
    }
   ],
   "metadata": {}
  }
 ]
}