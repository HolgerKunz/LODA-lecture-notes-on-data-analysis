{
 "metadata": {
  "name": "",
  "signature": "sha256:8f9fc2b00c94d40b752696316e0cb3640c1da27e0a559e77c299992bcdc723b1"
 },
 "nbformat": 3,
 "nbformat_minor": 0,
 "worksheets": [
  {
   "cells": [
    {
     "cell_type": "markdown",
     "metadata": {},
     "source": [
      "# Exercises - Natural Language Processing with NLTK\n",
      "\n",
      "by \n",
      "\n",
      "[__Michael Granitzer__ (michael.granitzer@uni-passau.de)]( http://www.mendeley.com/profiles/michael-granitzer/)\n",
      "\n",
      "<p>\n",
      "<p>\n",
      "<br>\n",
      "__Licences__\n",
      "<br />This work is licensed under a <a rel=\"license\" href=\"http://creativecommons.org/licenses/by-nc-sa/4.0/\">Creative Commons Attribution-NonCommercial-ShareAlike 4.0 International License</a>.\n",
      "<a rel=\"license\" href=\"http://creativecommons.org/licenses/by-nc-sa/4.0/\" align=\"left\"><img alt=\"Creative Commons License\" style=\"border-width:0\" src=\"https://i.creativecommons.org/l/by-nc-sa/4.0/88x31.png\" /></a>\n"
     ]
    },
    {
     "cell_type": "heading",
     "level": 1,
     "metadata": {
      "heading_collapsed": false
     },
     "source": [
      "Exercise A: Preprocessing the Reuters 21578 Text Corpus"
     ]
    },
    {
     "cell_type": "heading",
     "level": 2,
     "metadata": {
      "heading_collapsed": false
     },
     "source": [
      "Task"
     ]
    },
    {
     "cell_type": "markdown",
     "metadata": {},
     "source": [
      "The Reuters-21578 is a new corpora that has been extensively used in text mining. In this exercise, you should \n",
      "\n",
      "1. download the corpora from http://kdd.ics.uci.edu/databases/reuters21578/reuters21578.html\n",
      "2. Preprocess the titel (`TITLE` Element) and the text (`TEXT` Element) of every document \n",
      "3. Calculate  the 10 most frequent words in the title and 10 most frequent word in the text.\n",
      "4. Calculate the word with the 10 highest TFIDF scores in the text and in the titel fiels. How do they differ from the 10 most frequent in both fields?\n"
     ]
    },
    {
     "cell_type": "heading",
     "level": 2,
     "metadata": {
      "heading_collapsed": false
     },
     "source": [
      "Solution"
     ]
    },
    {
     "cell_type": "code",
     "collapsed": false,
     "input": [],
     "language": "python",
     "metadata": {},
     "outputs": []
    }
   ],
   "metadata": {}
  }
 ]
}