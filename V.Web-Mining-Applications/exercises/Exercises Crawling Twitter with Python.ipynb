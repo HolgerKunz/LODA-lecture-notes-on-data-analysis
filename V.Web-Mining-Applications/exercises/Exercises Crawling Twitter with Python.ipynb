{
 "metadata": {
  "celltoolbar": "Slideshow",
  "name": "",
  "signature": "sha256:301a6b61fe9cfac2956feed3fce63051f56538bd0c386dc8d70a3c5444075a0d"
 },
 "nbformat": 3,
 "nbformat_minor": 0,
 "worksheets": [
  {
   "cells": [
    {
     "cell_type": "markdown",
     "metadata": {
      "internals": {
       "slide_helper": "subslide_end",
       "slide_type": "subslide"
      },
      "slide_helper": "slide_end",
      "slideshow": {
       "slide_type": "slide"
      }
     },
     "source": [
      "# Exercises - Crawling Twitter in Python\n",
      "\n",
      "by \n",
      "\n",
      "[__Michael Granitzer__ (michael.granitzer@uni-passau.de)]( http://www.mendeley.com/profiles/michael-granitzer/)\n",
      "\n",
      "<p>\n",
      "<p>\n",
      "<br>\n",
      "__Licences__\n",
      "<br />This work is licensed under a <a rel=\"license\" href=\"http://creativecommons.org/licenses/by-nc-sa/4.0/\">Creative Commons Attribution-NonCommercial-ShareAlike 4.0 International License</a>.\n",
      "<a rel=\"license\" href=\"http://creativecommons.org/licenses/by-nc-sa/4.0/\" align=\"left\"><img alt=\"Creative Commons License\" style=\"border-width:0\" src=\"https://i.creativecommons.org/l/by-nc-sa/4.0/88x31.png\" /></a>\n"
     ]
    },
    {
     "cell_type": "heading",
     "level": 1,
     "metadata": {
      "heading_collapsed": false,
      "internals": {
       "slide_type": "subslide"
      },
      "slideshow": {
       "slide_type": "slide"
      }
     },
     "source": [
      "Exercise I - Authentication with Twitter"
     ]
    },
    {
     "cell_type": "heading",
     "level": 2,
     "metadata": {
      "heading_collapsed": false,
      "internals": {
       "frag_number": 2
      },
      "slideshow": {
       "slide_type": "fragment"
      }
     },
     "source": [
      "Task"
     ]
    },
    {
     "cell_type": "markdown",
     "metadata": {
      "internals": {
       "frag_helper": "fragment_end",
       "frag_number": 3,
       "slide_helper": "subslide_end"
      },
      "slide_helper": "subslide_end",
      "slideshow": {
       "slide_type": "fragment"
      }
     },
     "source": [
      "The first exercise is about to authenticating an Application against the Twitters API with OAuth 1.0a.\n",
      "\n",
      "[Twitter still uses OAuth 1.0a](https://dev.twitter.com/oauth) for authentication in two forms:\n",
      "\n",
      "1. **Application-user authentication:** where an application makes requests in a user context. This provides the full Twitter funcationality for a user, like for example posting tweets.\n",
      "2. **Application-only authentication** where an application makes requests *without* an user context. Hence, user-centred commands like posting tweets are not possible"
     ]
    },
    {
     "cell_type": "markdown",
     "metadata": {
      "internals": {
       "frag_helper": "fragment_end",
       "frag_number": 3,
       "slide_type": "subslide"
      },
      "slideshow": {
       "slide_type": "subslide"
      }
     },
     "source": [
      "Your task now is to **implement an Application-only authentication** with Twitter and the [`requests` library](http://docs.python-requests.org/en/latest/user/install/) (if the `requests` library is not installed, you need to install it. See the V.WMA-Crawling-Twitter Notebook).\n",
      "\n",
      "1. For a general overview read through the [Twitter oAuth FAQ](https://dev.twitter.com/oauth/overview/faq).\n",
      "2. If you do not have a Twitter Account, register one at Twitter.com (You can delete it after the lecture)\n",
      "3. Register a Twitter App under https://apps.twitter.com/ (You can delete it after the lecture)\n",
      "4. Read through the Twitter documentation on [*Application-only authentication*](https://dev.twitter.com/oauth/application-only) under https://dev.twitter.com/oauth/application-only. Read through section \"Issuing application-only requests\" in detail and follow the steps.\n",
      "4. Implement the authentication using that app\n",
      "5. Retrieve the [timeline](https://dev.twitter.com/rest/reference/get/statuses/user_timeline) of the user with screen name `twitterapi` and print the recent 10 Tweets.\n"
     ]
    },
    {
     "cell_type": "markdown",
     "metadata": {
      "internals": {
       "frag_helper": "fragment_end",
       "frag_number": 5,
       "slide_helper": "subslide_end"
      },
      "slide_helper": "slide_end",
      "slideshow": {
       "slide_type": "fragment"
      }
     },
     "source": [
      "\n",
      "<div class=\"alert alert-info\">\n",
      "Note: the Python module `base64` allows you to conduct Base64 encodings of parameters, as it is needed for the credentials.\n",
      "</div>"
     ]
    },
    {
     "cell_type": "heading",
     "level": 2,
     "metadata": {
      "heading_collapsed": false,
      "internals": {
       "frag_helper": "fragment_end",
       "frag_number": 5,
       "slide_helper": "subslide_end",
       "slide_type": "subslide"
      },
      "slide_helper": "subslide_end",
      "slideshow": {
       "slide_type": "slide"
      }
     },
     "source": [
      "Solution"
     ]
    },
    {
     "cell_type": "heading",
     "level": 2,
     "metadata": {
      "heading_collapsed": false,
      "internals": {
       "frag_helper": "fragment_end",
       "frag_number": 5,
       "slide_type": "subslide"
      },
      "slideshow": {
       "slide_type": "subslide"
      }
     },
     "source": [
      "Register an App and Getting ID + Secret"
     ]
    },
    {
     "cell_type": "markdown",
     "metadata": {
      "internals": {
       "frag_helper": "fragment_end",
       "frag_number": 8,
       "slide_helper": "subslide_end"
      },
      "slide_helper": "subslide_end",
      "slideshow": {
       "slide_type": "fragment"
      }
     },
     "source": [
      "<img src=\"files/images/twitter-app.png\" width=\"50%\"/>"
     ]
    },
    {
     "cell_type": "markdown",
     "metadata": {
      "internals": {
       "frag_helper": "fragment_end",
       "frag_number": 8,
       "slide_helper": "subslide_end",
       "slide_type": "subslide"
      },
      "slide_helper": "subslide_end",
      "slideshow": {
       "slide_type": "subslide"
      }
     },
     "source": [
      "<img src=\"files/images/twitter-app-ii.png\" width=\"50%\"/>"
     ]
    },
    {
     "cell_type": "markdown",
     "metadata": {
      "internals": {
       "frag_helper": "fragment_end",
       "frag_number": 8,
       "slide_helper": "subslide_end",
       "slide_type": "subslide"
      },
      "slide_helper": "subslide_end",
      "slideshow": {
       "slide_type": "subslide"
      }
     },
     "source": [
      "<img src=\"files/images/twitter-app-iii.png\" width=\"50%\"/>"
     ]
    },
    {
     "cell_type": "markdown",
     "metadata": {
      "internals": {
       "frag_helper": "fragment_end",
       "frag_number": 8,
       "slide_helper": "subslide_end",
       "slide_type": "subslide"
      },
      "slide_helper": "subslide_end",
      "slideshow": {
       "slide_type": "subslide"
      }
     },
     "source": [
      "<img src=\"files/images/twitter-app-iv.png\" width=\"50%\"/>"
     ]
    },
    {
     "cell_type": "heading",
     "level": 2,
     "metadata": {
      "heading_collapsed": false,
      "internals": {
       "frag_helper": "fragment_end",
       "frag_number": 8,
       "slide_type": "subslide"
      },
      "slideshow": {
       "slide_type": "subslide"
      }
     },
     "source": [
      "Getting the access token"
     ]
    },
    {
     "cell_type": "code",
     "collapsed": false,
     "input": [
      "import requests\n",
      "import base64\n",
      "clientid = \"IhrU9UwHys1IBnVXh2tLt5dDW\"\n",
      "clientsecret =\"H4MkL6GFHOJlZ0RwiCHUhqD2Au3NFmRm2Iq8TvKJRqoqCwJzEN5Zt9EFsfw\" #the secret has been scrambled. Use your own.\n",
      "\n",
      "def get_access_token(clientid, clientsecret):\n",
      "    base64EncodedCredentials = base64.b64encode(clientid+\":\"+clientsecret)\n",
      "    params = {\"grant_type\":\"client_credentials\"}\n",
      "    header = {\"Content-Type\":\"application/x-www-form-urlencoded;charset=UTF-8\",\n",
      "              \"Authorization\":\"Basic \" + base64EncodedCredentials}\n",
      "\n",
      "    r = requests.post(\"https://api.twitter.com/oauth2/token\", \n",
      "                      data = params,\n",
      "                      headers = header)\n",
      "\n",
      "    if r.status_code == requests.codes.ok:\n",
      "        print r.json()\n",
      "        print \"Successfull. I obtained the following token type: %s\" % r.json()[\"token_type\"]\n",
      "        return r.json()[\"access_token\"]\n",
      "    else:\n",
      "        print \"Error. Could not connect to twitter:\", r\n",
      "        raise IOError(\"Could not access Twitter. Maybe invalid credentials?\")\n",
      "token = get_access_token(clientid, clientsecret)\n",
      "print \"Access token: %s\"% token"
     ],
     "language": "python",
     "metadata": {
      "internals": {
       "frag_helper": "fragment_end",
       "frag_number": 13,
       "slide_helper": "subslide_end"
      },
      "slide_helper": "subslide_end",
      "slideshow": {
       "slide_type": "fragment"
      }
     },
     "outputs": [
      {
       "output_type": "stream",
       "stream": "stdout",
       "text": [
        "{u'token_type': u'bearer', u'access_token': u'AAAAAAAAAAAAAAAAAAAAABN9bAAAAAAAvducD2FaM4ASYDk8GM7HxYlYSUg%3DM8XHQ5xojyNJKdCgNyMPIwBCAPX60IYKBHeTrmSzixlvl999NP'}\n",
        "Successfull. I obtained the following token type: bearer\n",
        "Access token: AAAAAAAAAAAAAAAAAAAAABN9bAAAAAAAvducD2FaM4ASYDk8GM7HxYlYSUg%3DM8XHQ5xojyNJKdCgNyMPIwBCAPX60IYKBHeTrmSzixlvl999NP\n"
       ]
      }
     ],
     "prompt_number": 43
    },
    {
     "cell_type": "heading",
     "level": 2,
     "metadata": {
      "heading_collapsed": false,
      "internals": {
       "frag_helper": "fragment_end",
       "frag_number": 13,
       "slide_type": "subslide"
      },
      "slideshow": {
       "slide_type": "subslide"
      }
     },
     "source": [
      "Invoking a request"
     ]
    },
    {
     "cell_type": "code",
     "collapsed": false,
     "input": [
      "if token:\n",
      "    print token\n",
      "    params = {\"screen_name\" : \"twitterapi\",\n",
      "              \"count\" : \"20\"}             \n",
      "    header = {\"Authorization\" : \"Bearer {}\".format(token),\n",
      "              'Accept-Encoding': 'gzip',}\n",
      "    r = requests.get(\"https://api.twitter.com/1.1/statuses/user_timeline.json\",\n",
      "                 params = params,\n",
      "                 headers = header)\n",
      "    for tweet in r.json():\n",
      "        print tweet[\"created_at\"],\":\\t\",tweet[\"text\"]"
     ],
     "language": "python",
     "metadata": {
      "internals": {
       "frag_helper": "fragment_end",
       "frag_number": 15,
       "slide_helper": "subslide_end"
      },
      "slide_helper": "slide_end",
      "slideshow": {
       "slide_type": "fragment"
      }
     },
     "outputs": [
      {
       "output_type": "stream",
       "stream": "stdout",
       "text": [
        "AAAAAAAAAAAAAAAAAAAAABN9bAAAAAAAvducD2FaM4ASYDk8GM7HxYlYSUg%3DM8XHQ5xojyNJKdCgNyMPIwBCAPX60IYKBHeTrmSzixlvl999NP\n",
        "Wed Oct 22 20:53:38 +0000 2014"
       ]
      },
      {
       "output_type": "stream",
       "stream": "stdout",
       "text": [
        " :\tWe've published updated Developer Policy and Agreement documents today - announcement on our forums https://t.co/TS3nKGCrea\n",
        "Wed Oct 22 19:58:12 +0000 2014 :\tAnnouncing @fabric: The easiest way to make the best apps https://t.co/TmEGvIskQ1\n",
        "Wed Oct 15 10:54:09 +0000 2014 :\tRT @twittersecurity: We have disabled SSLv3 protocol support in response to the vulnerability published today. You may need to update your \u2026\n",
        "Thu Sep 25 23:53:36 +0000 2014 :\tThe OAuth / xAuth issue affecting REST endpoints has been resolved. Please visit our OAuth forums for support https://t.co/XiKCrlfCNX\n",
        "Thu Sep 25 21:43:05 +0000 2014 :\tWe are aware of the OAuth / xAuth issue affecting REST endpoints. We are addressing the issue and will update when resolved.\n",
        "Tue Sep 16 23:11:22 +0000 2014 :\tRT @TwitterDev: We're building great content for @Flight. Apply to attend &amp; learn what's behind the red lines. http://t.co/u0oD3is0CI http:\u2026\n",
        "Wed Sep 10 17:18:15 +0000 2014 :\tRT @crashlytics: Join Crashlytics and Twitter @Flight to learn how we can help you build the best mobile apps. http://t.co/rbvYUO6QkZ http:\u2026\n",
        "Wed Sep 10 17:18:02 +0000 2014 :\tRT @TwitterDev: Join us at Twitter @Flight and learn how we can help you build the best mobile apps. October 22nd, in SF. Visit http://t.co\u2026\n",
        "Wed Aug 06 21:47:55 +0000 2014 :\tRT @TwitterDev: Learn how to consume millions of tweets with @twitterapi at #TDC2014 in S\u00e3o Paulo #bigdata tomorrow at 2:10pm http://t.co/p\u2026\n",
        "Tue Jul 22 16:23:51 +0000 2014 :\tRT @TwitterDev: Join us in 1 hour for a G+ Hangout to learn how to get more from a Tweet using Twitter Cards\n",
        "https://t.co/pHnC9KFqm0\n",
        "https:\u2026\n",
        "Wed Jul 16 19:58:47 +0000 2014 :\tRT @TwitterDev: Now available, Answers by Crashlytics. Gain insight into your app\u2019s usage. Learn more and get started. https://t.co/t35pKS1\u2026\n",
        "Mon Jun 23 22:06:18 +0000 2014 :\tGoal! Detecting the most important World Cup moments https://t.co/D6SEk3EwYR\n",
        "Wed Jun 11 17:17:39 +0000 2014 :\tRT @crashlytics: Why do it once when you can do it twice? Crashlytics + Twitter Invite You to our I/O Party http://t.co/CaK42rjbfj http://t\u2026\n",
        "Wed Jun 11 16:31:44 +0000 2014 :\tRT @TweetDeck: A security issue that affected TweetDeck this morning has been fixed. Please log out of TweetDeck and log back in to fully a\u2026\n",
        "Thu May 29 17:43:23 +0000 2014 :\tNow available, Beta by Crashlytics.  Invite and manage testers for your apps. https://t.co/qcmMuq8XrZ\n",
        "Thu May 29 17:41:43 +0000 2014 :\tRT @crashlytics: It\u2019s Official. Introducing Beta by Crashlytics http://t.co/07StxbrdXl #androiddev #iosdev http://t.co/cexybiOUor\n",
        "Tue May 27 18:08:45 +0000 2014 :\tRT @TwitterDev: Come hangout with @TwitterDev on May 29th at 1PM PDT and ask your API and syndication questions! http://t.co/KMuvnNOCgw\n",
        "Thu May 22 20:38:58 +0000 2014 :\tOn May 28th PDT (UTC-7) we will launch support for composing tweets with multiple images via the REST API. Details: https://t.co/XB1rnLfFmo\n",
        "Wed May 21 18:29:30 +0000 2014 :\tRT @TwitterDev: Developer Spotlight: Botanicalls via @jbulava  https://t.co/EtJEF3XFOt\n",
        "Fri May 16 17:13:22 +0000 2014 :\tForthcoming tweak to streaming API error codes from June https://t.co/HbQsmbkLmQ\n"
       ]
      }
     ],
     "prompt_number": 44
    },
    {
     "cell_type": "heading",
     "level": 1,
     "metadata": {
      "heading_collapsed": false,
      "internals": {
       "frag_helper": "fragment_end",
       "frag_number": 15,
       "slide_helper": "subslide_end",
       "slide_type": "subslide"
      },
      "slide_helper": "subslide_end",
      "slideshow": {
       "slide_type": "slide"
      }
     },
     "source": [
      "Exercise II: Searching Twitter and Analyzing Tweets"
     ]
    },
    {
     "cell_type": "heading",
     "level": 2,
     "metadata": {
      "heading_collapsed": false,
      "internals": {
       "frag_helper": "fragment_end",
       "frag_number": 15,
       "slide_type": "subslide"
      },
      "slideshow": {
       "slide_type": "subslide"
      }
     },
     "source": [
      "Task"
     ]
    },
    {
     "cell_type": "markdown",
     "metadata": {
      "internals": {
       "frag_helper": "fragment_end",
       "frag_number": 18
      },
      "slideshow": {
       "slide_type": "fragment"
      }
     },
     "source": [
      "Create a class  called `TwitterAPI` that allows you to\n",
      "\n",
      "1. Authenticating you against the Twitter API (see previous exercise). This is best done as constructor of the class.\n",
      "2. Search for tweets\n",
      "3. Obtaining the timeline of a user\n",
      "4. Obtaining individual tweets\n",
      "5. Obtaining user information\n",
      "\n",
      "After creating the `TwitterAPI` class, use it to:\n",
      "\n",
      "1. Obtain all recent tweets relating to \"Passau\"\n",
      "2. Analyze the tweets regarding\n",
      "   1. The frequency of hash tags occuring in the tweets \n",
      "   2. The frequency of entities and users in the tweets\n",
      "   3. The burstiness of tweets, i.e. the distribution of the time differnce between two subsequent tweets\n",
      "   4. The frequency of the polarity of tweets as provided by twitter\n",
      "   5. The frequency of words in an entity\n",
      "   6. The lexical diversity given as $$lexicalDiversity =\\frac{\\# uniqueWords}{\\#words}$$\n",
      "3. Conduct the same analysis with currently trending topics\n"
     ]
    },
    {
     "cell_type": "markdown",
     "metadata": {
      "internals": {
       "frag_helper": "fragment_end",
       "frag_number": 19
      },
      "slideshow": {
       "slide_type": "fragment"
      }
     },
     "source": [
      "<div class=\"alert alert-info\">\n",
      "Note that there is a `Counter` class in the `collections` module that should help with counting occurrences.\n",
      "</div>\n"
     ]
    },
    {
     "cell_type": "markdown",
     "metadata": {
      "internals": {
       "frag_helper": "fragment_end",
       "frag_number": 20,
       "slide_helper": "subslide_end"
      },
      "slide_helper": "subslide_end",
      "slideshow": {
       "slide_type": "fragment"
      }
     },
     "source": [
      "<div class=\"alert alert-error\">\n",
      "Do not use the `twitter` module. Use the `requests` module.\n",
      "</div>"
     ]
    },
    {
     "cell_type": "heading",
     "level": 2,
     "metadata": {
      "heading_collapsed": false,
      "internals": {
       "frag_helper": "fragment_end",
       "frag_number": 20,
       "slide_type": "subslide"
      },
      "slideshow": {
       "slide_type": "subslide"
      }
     },
     "source": [
      "Solution"
     ]
    },
    {
     "cell_type": "code",
     "collapsed": false,
     "input": [
      "import requests\n",
      "import base64\n",
      "\n",
      "class TwitterAppOnlyAPI:\n",
      "    \"\"\"\n",
      "    This class implements simple functions for accessing the twitter api.\n",
      "    \"\"\"\n",
      "    \n",
      "    def __init__(self, client_id = \"IhrU9UwHys1IBnVXh2tLt5dDW\",\n",
      "                       client_secret = \"H4kL6FHOJlZ0wiCHUhqD2u3FmRm2q8vKJRqoqCwJzEN5t9Fsfw\"):\n",
      "        self.client_id = client_id\n",
      "        self.client_secret = client_secret\n",
      "        self.access_token = self.__get_access_token();\n",
      "\n",
      "    def __get_access_token(self):\n",
      "        \"\"\"\n",
      "        This function uses the client secrete and client id in order to get an access token\n",
      "        \"\"\"\n",
      "        base64EncodedCredentials = base64.b64encode(self.client_id + \":\" + self.client_secret)\n",
      "        params = {\"grant_type\":\"client_credentials\"}\n",
      "        header = {\"Content-Type\":\"application/x-www-form-urlencoded;charset=UTF-8\",\n",
      "                  \"Authorization\":\"Basic \" + base64EncodedCredentials}\n",
      "\n",
      "        r = requests.post(\"https://api.twitter.com/oauth2/token\", \n",
      "                          data = params,\n",
      "                          headers = header)\n",
      "\n",
      "        if r.status_code == requests.codes.ok:\n",
      "            return r.json()[\"access_token\"]\n",
      "        else:\n",
      "            raise IOError(\"Could not access Twitter. Maybe invalid credentials?\")\n",
      "\n",
      "    "
     ],
     "language": "python",
     "metadata": {
      "internals": {
       "frag_helper": "fragment_end",
       "frag_number": 22,
       "slide_helper": "subslide_end"
      },
      "slide_helper": "subslide_end",
      "slideshow": {
       "slide_type": "fragment"
      }
     },
     "outputs": [],
     "prompt_number": 7
    },
    {
     "cell_type": "code",
     "collapsed": false,
     "input": [
      "def parse_tweets(tweets):\n",
      "    return [(s[\"text\"],s[\"user\"][\"screen_name\"],s[\"created_at\"]) for s in tweets]\n",
      "\n",
      "#lets do some monkey patching resp. duck punching\n",
      "#since it is very unusual to do this for a java developer\n",
      "#For more on duck punching/metaprogramming \n",
      "#see http://www.ericdelabar.com/2008/05/metaprogramming-javascript.html\n",
      "def search(self, query, count = 20):\n",
      "    params = {\"q\" : query,\n",
      "              \"count\" : count}             \n",
      "    header = {\"Authorization\" : \"Bearer {}\".format(self.access_token),\n",
      "              'Accept-Encoding': 'gzip',}\n",
      "    r = requests.get(\"https://api.twitter.com/1.1/search/tweets.json\",\n",
      "                 params = params,\n",
      "                 headers = header)\n",
      "    return parse_tweets(r.json()[\"statuses\"])\n",
      "    \n",
      "TwitterAppOnlyAPI.search = search"
     ],
     "language": "python",
     "metadata": {
      "internals": {
       "frag_helper": "fragment_end",
       "frag_number": 22,
       "slide_type": "subslide"
      },
      "slideshow": {
       "slide_type": "subslide"
      }
     },
     "outputs": [],
     "prompt_number": 28
    },
    {
     "cell_type": "code",
     "collapsed": false,
     "input": [
      "api = TwitterAppOnlyAPI()"
     ],
     "language": "python",
     "metadata": {
      "internals": {
       "frag_helper": "fragment_end",
       "frag_number": 24
      },
      "slideshow": {
       "slide_type": "fragment"
      }
     },
     "outputs": [],
     "prompt_number": 29
    },
    {
     "cell_type": "code",
     "collapsed": false,
     "input": [
      "api.search(\"Passau\")"
     ],
     "language": "python",
     "metadata": {
      "internals": {
       "frag_helper": "fragment_end",
       "frag_number": 25,
       "slide_helper": "subslide_end"
      },
      "slide_helper": "subslide_end",
      "slideshow": {
       "slide_type": "fragment"
      }
     },
     "outputs": [
      {
       "metadata": {},
       "output_type": "pyout",
       "prompt_number": 30,
       "text": [
        "[(u'Ein Thema heute im Treffpunkt bei TRP1. Au\\xdferdem: Asylthema im Bistum Passau und der Herztag im Klinikum Passau. http://t.co/bUuW5vMW1y',\n",
        "  u'hdegen100',\n",
        "  u'Wed Nov 05 18:38:02 +0000 2014'),\n",
        " (u'Je vais arriver \\xe0 Passau, Passau \\xe0 0:51 (heure locale) #tomtomgps',\n",
        "  u'KORYNA1973',\n",
        "  u'Wed Nov 05 18:26:49 +0000 2014'),\n",
        " (u'@mksgraz wei\\xdf noch vor jahren bin ich ums k\\xfcnstlermaterial nach passau gefahren. unterschiede waren irrsinnig!',\n",
        "  u'RR120_80',\n",
        "  u'Wed Nov 05 18:17:13 +0000 2014'),\n",
        " (u'gehen\\u3092\\u3061\\u3087\\u3063\\u3068\\u304b\\u3063\\u3053\\u3088\\u304f\\u8a00\\u3063\\u305f\\u306e\\u304csich begehen\\u3067\\u300c\\u8d74\\u304f\\u300d\\u3063\\u3066\\u611f\\u3058\\u304b\\u306a',\n",
        "  u'passau_t_bot',\n",
        "  u'Wed Nov 05 18:09:39 +0000 2014'),\n",
        " (u'Kugelbad. What Else? #instagram #flickr #iPhone #Passau http://t.co/5BIpfVvzAh',\n",
        "  u'nicniggliaigner',\n",
        "  u'Wed Nov 05 17:28:49 +0000 2014'),\n",
        " (u'Einzelgespr\\xe4che mit Unternehmen im Rahmen der Campus meets Company: Die gr\\xf6\\xdfte studentische Karrieremesse der ... http://t.co/2Ve7l90jR8',\n",
        "  u'UniPassau',\n",
        "  u'Wed Nov 05 17:13:18 +0000 2014'),\n",
        " (u'Offener Vortrag: Naturwunder im H\\xf6rsaal: Der AStA/SprecherInnenrat bringt in Kooperation mit Greenpeace die Mu... http://t.co/Ty3JWG3Gcx',\n",
        "  u'UniPassau',\n",
        "  u'Wed Nov 05 17:13:18 +0000 2014'),\n",
        " (u'A ist B.\\u3092 A stellt B dar.\\u306b\\u3059\\u308b\\u3068\\u304b\\u3063\\u3053\\u3044\\u3044',\n",
        "  u'passau_t_bot',\n",
        "  u'Wed Nov 05 17:09:03 +0000 2014'),\n",
        " (u'RT @manueljosef: #Mediengrenzen \\xfcberwinden: Die @SummerSchoolPA und ihr #Crossmedia-Projekt #Grenzgaenger: http://t.co/FlZdmVsYht CC @Lousy\\u2026',\n",
        "  u'LousyPennies',\n",
        "  u'Wed Nov 05 17:07:00 +0000 2014'),\n",
        " (u'Just another pic =&gt; #Passau #Donau http://t.co/1BHka7H4Yy',\n",
        "  u'stromgeruch',\n",
        "  u'Wed Nov 05 17:05:30 +0000 2014'),\n",
        " (u'http://t.co/mT3Ov8heCg - Fremdgehen Passau',\n",
        "  u'baden_wuerttemb',\n",
        "  u'Wed Nov 05 17:01:40 +0000 2014'),\n",
        " (u'RT @BILD_Muenchen: Prozess vorm #Verwaltungsgerichtshof wegen Kinder-#Pornos: #Lehrer fliegt aus Dienst. Klage! http://t.co/2S0I4W6MI0 http\\u2026',\n",
        "  u'BILD_Nuernberg',\n",
        "  u'Wed Nov 05 17:00:58 +0000 2014'),\n",
        " (u'Veranstaltung  STORYCITY - Passau: 05.11.2014 http://t.co/irACxGqR85',\n",
        "  u'Bayernradar',\n",
        "  u'Wed Nov 05 16:58:59 +0000 2014'),\n",
        " (u'Veranstaltung  voXXclub - Rock mi Tour 2014 - Passau: 05.11.2014 http://t.co/X4979GZRCA',\n",
        "  u'Bayernradar',\n",
        "  u'Wed Nov 05 16:58:53 +0000 2014'),\n",
        " (u'Aktuelle #Spritpreise in #Passau am 05.11.2014 um 17:48 Uhr:\\nhttp://t.co/O17jsgVze6\\n#E10 #Tankstelle',\n",
        "  u'spritpreise',\n",
        "  u'Wed Nov 05 16:48:01 +0000 2014'),\n",
        " (u'Aktuelle #Spritpreise in #Passau am 05.11.2014 um 17:46 Uhr:\\nhttp://t.co/O17jsgVze6\\n#tanken #AVIA',\n",
        "  u'spritpreise',\n",
        "  u'Wed Nov 05 16:46:35 +0000 2014'),\n",
        " (u'Aktuelle #Spritpreise in #Passau am 05.11.2014 um 17:46 Uhr:\\nhttp://t.co/O17jsgVze6\\n#tanken #Esso',\n",
        "  u'spritpreise',\n",
        "  u'Wed Nov 05 16:46:03 +0000 2014'),\n",
        " (u'RT @MuK_Passau: Die @SummerSchoolPA sprengt mit #Grenzgaenger #Mediengrenzen: http://t.co/KcDJL6LZxL CC @MukAktiv @Campus_Crew @ProFil_Pass\\u2026',\n",
        "  u'MukAktiv',\n",
        "  u'Wed Nov 05 16:39:28 +0000 2014'),\n",
        " (u'RT @hsm_online: Wer kennt diese beiden Hunde?\\nGefunden in 94496 Ortenburg - 05.11.2014\\n\\nTierheim Passau Buch http://t.co/Osmq3pL81y',\n",
        "  u'Babsi58089',\n",
        "  u'Wed Nov 05 16:38:04 +0000 2014'),\n",
        " (u'RT @hsm_online: Gefunden in 94496 Ortenburg - 05.11.2014\\nTierheim Passau Buch\\n\\nhttps://t.co/ykNyNWeEyt http://t.co/V2ZGLyACax',\n",
        "  u'Babsi58089',\n",
        "  u'Wed Nov 05 16:37:19 +0000 2014')]"
       ]
      }
     ],
     "prompt_number": 30
    },
    {
     "cell_type": "code",
     "collapsed": false,
     "input": [
      "def homeline(self, screen_name, count = 20):\n",
      "    params = {\"screen_name\" : screen_name,\n",
      "              \"count\" : count}             \n",
      "    header = {\"Authorization\" : \"Bearer {}\".format(self.access_token),\n",
      "              'Accept-Encoding': 'gzip'}\n",
      "    r = requests.get(\"https://api.twitter.com/1.1/statuses/user_timeline.json\",\n",
      "                 params = params,\n",
      "                 headers = header)\n",
      "    return parse_tweets(r.json())\n",
      "\n",
      "TwitterAppOnlyAPI.homeline = homeline"
     ],
     "language": "python",
     "metadata": {
      "internals": {
       "frag_helper": "fragment_end",
       "frag_number": 25,
       "slide_type": "subslide"
      },
      "slideshow": {
       "slide_type": "subslide"
      }
     },
     "outputs": [],
     "prompt_number": 33
    },
    {
     "cell_type": "code",
     "collapsed": false,
     "input": [
      "#the method is availalbe to all instances of the class!\n",
      "api.homeline(\"mgrani\")"
     ],
     "language": "python",
     "metadata": {
      "internals": {
       "frag_helper": "fragment_end",
       "frag_number": 27
      },
      "slideshow": {
       "slide_type": "fragment"
      }
     },
     "outputs": [
      {
       "metadata": {},
       "output_type": "pyout",
       "prompt_number": 35,
       "text": [
        "[(u'@RecoRobot Do you have resources on financial crisis in the 18th century?',\n",
        "  u'mgrani',\n",
        "  u'Tue Sep 16 08:02:38 +0000 2014'),\n",
        " (u'RT @EEXCESS: First prototype of EEXCESS visual search interface in Econbiz: http://t.co/LaHuPb0mme Play with it and give feedback! @mgrani \\u2026',\n",
        "  u'mgrani',\n",
        "  u'Tue May 13 07:57:53 +0000 2014'),\n",
        " (u'RT @hel_gurney: \"This night is dedicated to everyone who believes in peace and freedom. You know you are. We are unstoppable.\" &lt;3 #eurovisi\\u2026',\n",
        "  u'mgrani',\n",
        "  u'Sat May 10 22:30:09 +0000 2014'),\n",
        " (u'RT @BadAlbumCovers: The last Austrian winner 1966\\nNo beard.\\n#Eurovision http://t.co/hGDYxm2o9Q',\n",
        "  u'mgrani',\n",
        "  u'Sat May 10 22:21:44 +0000 2014'),\n",
        " (u'RT @TwitCelebGossip: Austria is bloody amazing. #LoveTheBeard #Eurovision',\n",
        "  u'mgrani',\n",
        "  u'Sat May 10 22:19:26 +0000 2014'),\n",
        " (u'RT @EEXCESS: Video about @CodingDaVinci hackathon in Berlin http://t.co/4L2Uc8R0dM (german) @mgrani #openaccess #openculture',\n",
        "  u'mgrani',\n",
        "  u'Thu May 08 06:45:21 +0000 2014'),\n",
        " (u'RT @42Data: #Styria in #Austria is very popular for tourists, isn\\xb4t it? We got the numbers for you: http://t.co/RA9JaqxyLf #OpenData #42Data',\n",
        "  u'mgrani',\n",
        "  u'Wed May 07 14:17:39 +0000 2014'),\n",
        " (u'RT @EEXCESS: Michael @mgrani on EEXCESS and the long tail: #sci20conf video http://t.co/mjixPdlIQV. All slides/ videos here http://t.co/Tgs\\u2026',\n",
        "  u'mgrani',\n",
        "  u'Fri May 02 14:55:00 +0000 2014'),\n",
        " (u'RT @42Data: Socialising the Web of Data http://t.co/wzO1gSzhuD via @HuffPostUKTech @mgrani @CODEResearch',\n",
        "  u'mgrani',\n",
        "  u'Fri May 02 12:52:06 +0000 2014'),\n",
        " (u'URI identity crisis in the semantic web http://t.co/nGudfTqu0B',\n",
        "  u'mgrani',\n",
        "  u'Mon Apr 28 14:25:12 +0000 2014'),\n",
        " (u'New english #MsC Computer Science Programme in #Passau http://t.co/QjcXAZDWqh Looking forward to more international students!',\n",
        "  u'mgrani',\n",
        "  u'Wed Apr 23 10:47:15 +0000 2014'),\n",
        " (u'Call for Contributions: 1st i-KNOW ALOA Challenge on Getting Answers through Linked Open Data #CfP https://t.co/wYx410CqiB',\n",
        "  u'mgrani',\n",
        "  u'Wed Apr 16 11:10:26 +0000 2014'),\n",
        " (u'RT @42Data: Wondering what #opendata does for you? Check out this [ger] video hosted at #okfn: https://t.co/SPADzxpZot /w @j_kloiber @stefa\\u2026',\n",
        "  u'mgrani',\n",
        "  u'Thu Apr 10 13:46:11 +0000 2014'),\n",
        " (u'RT @jasonbaldridge: Very nice blog post on neural networks, manifolds and machine learning: http://t.co/aJQKMT8XSE via @stephenroller',\n",
        "  u'mgrani',\n",
        "  u'Thu Apr 10 06:46:25 +0000 2014'),\n",
        " (u'RT @EEXCESS: Christin Seifert (@UniPassau) on our first project review in Luxembourg: http://t.co/revFjDFaW0 @mgrani @b_habegger @_krisjack\\u2026',\n",
        "  u'mgrani',\n",
        "  u'Fri Apr 04 18:13:47 +0000 2014'),\n",
        " (u'RT @42Data: Who have been the Olympic Medallists in Alpine Skying in 2010? Find out: http://t.co/eVC0JS2wHg\\u2026 #IKNOW2014 #ALOA14 #OpenData #\\u2026',\n",
        "  u'mgrani',\n",
        "  u'Fri Apr 04 08:25:23 +0000 2014'),\n",
        " (u\"@badlogicgames don't care. You can do everything! You r the expert. Maybe starting meetings showing the video helps? *gg*\",\n",
        "  u'mgrani',\n",
        "  u'Fri Apr 04 04:21:24 +0000 2014'),\n",
        " (u'are you an expert in a meeting with non experts? watch: http://t.co/qRSYfIiaYQ #fun',\n",
        "  u'mgrani',\n",
        "  u'Thu Apr 03 19:09:30 +0000 2014'),\n",
        " (u'#IKNOW2014 ALOA Challenge: What new knowledge can you discover in Linked Open Data? http://t.co/EUu6ft2KRN',\n",
        "  u'mgrani',\n",
        "  u'Sat Mar 29 07:00:41 +0000 2014'),\n",
        " (u'List of accepted workshops  http://t.co/jpQsfSLOOG #iKNOW2014',\n",
        "  u'mgrani',\n",
        "  u'Sat Mar 29 06:56:11 +0000 2014')]"
       ]
      }
     ],
     "prompt_number": 35
    },
    {
     "cell_type": "code",
     "collapsed": false,
     "input": [
      "# to save memory we conduct our analysis via a generator function.\n",
      "# the functions can be used as iterator, i.e. when the iterator is advanced, the data item emited\n",
      "#     in the yield keyword is consumed\n",
      "def tokenize(selector, tweet_list, split = \" \"):\n",
      "    for i in tweet_list:\n",
      "        for w in selector(i).split(split):\n",
      "            yield w \n",
      "            \n",
      "from collections import Counter            \n",
      "\n",
      "def statistics (self, tweets):\n",
      "    c = Counter(tokenize (lambda x: x[0],\n",
      "                          tweets,\n",
      "                          split = \" \"))\n",
      "    return c\n",
      "    \n",
      "TwitterAppOnlyAPI.statistics= statistics"
     ],
     "language": "python",
     "metadata": {
      "internals": {
       "frag_helper": "fragment_end",
       "frag_number": 28
      },
      "slideshow": {
       "slide_type": "fragment"
      }
     },
     "outputs": [],
     "prompt_number": 72
    },
    {
     "cell_type": "code",
     "collapsed": false,
     "input": [
      "c = api.statistics(api.homeline(\"mgrani\"))\n",
      "print \"Most common terms:\", c.most_common(10)\n",
      "print \"lexical diversity is %f %%\"% (len(c)*100.0/sum(c.values()))"
     ],
     "language": "python",
     "metadata": {
      "internals": {
       "frag_helper": "fragment_end",
       "frag_number": 29,
       "slide_helper": "subslide_end"
      },
      "slide_helper": "slide_end",
      "slideshow": {
       "slide_type": "fragment"
      }
     },
     "outputs": [
      {
       "output_type": "stream",
       "stream": "stdout",
       "text": [
        "Most common terms: [(u'RT', 12), (u'in', 12), (u'the', 8), (u'@mgrani', 5), (u'on', 5), (u'for', 4), (u'@EEXCESS:', 4), (u'and', 4), (u'@42Data:', 4), (u'you', 4)]\n",
        "lexical diversity is 75.000000 %\n"
       ]
      }
     ],
     "prompt_number": 71
    },
    {
     "cell_type": "heading",
     "level": 1,
     "metadata": {
      "heading_collapsed": false,
      "internals": {
       "frag_helper": "fragment_end",
       "frag_number": 29,
       "slide_type": "subslide"
      },
      "slideshow": {
       "slide_type": "slide"
      }
     },
     "source": [
      "Exercise III: Use the `twitter` module for accessing Twitter"
     ]
    },
    {
     "cell_type": "heading",
     "level": 2,
     "metadata": {
      "heading_collapsed": false,
      "internals": {
       "frag_helper": "fragment_end",
       "frag_number": 31
      },
      "slideshow": {
       "slide_type": "fragment"
      }
     },
     "source": [
      "Task"
     ]
    },
    {
     "cell_type": "markdown",
     "metadata": {
      "internals": {
       "frag_helper": "fragment_end",
       "frag_number": 32,
       "slide_helper": "subslide_end"
      },
      "slide_helper": "subslide_end",
      "slideshow": {
       "slide_type": "fragment"
      }
     },
     "source": [
      "Conduct the analysis as in Exercise II but this time use the `twitter` module (or another third party library of your choice)"
     ]
    },
    {
     "cell_type": "heading",
     "level": 3,
     "metadata": {
      "heading_collapsed": false,
      "internals": {
       "frag_helper": "fragment_end",
       "frag_number": 32,
       "slide_type": "subslide"
      },
      "slideshow": {
       "slide_type": "subslide"
      }
     },
     "source": [
      "Solution"
     ]
    },
    {
     "cell_type": "markdown",
     "metadata": {
      "internals": {
       "frag_helper": "fragment_end",
       "frag_number": 34,
       "slide_helper": "subslide_end"
      },
      "slide_helper": "slide_end",
      "slideshow": {
       "slide_type": "fragment"
      }
     },
     "source": [
      "to come..."
     ]
    }
   ],
   "metadata": {}
  }
 ]
}