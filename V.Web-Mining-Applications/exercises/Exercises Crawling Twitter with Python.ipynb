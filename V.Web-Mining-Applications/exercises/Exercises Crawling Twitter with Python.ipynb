{
 "metadata": {
  "celltoolbar": "Slideshow",
  "name": "",
  "signature": "sha256:defad7f3e9f9ee63f3cf999ee2cb463695ce2ccfcced164e0552cfd606f7c676"
 },
 "nbformat": 3,
 "nbformat_minor": 0,
 "worksheets": [
  {
   "cells": [
    {
     "cell_type": "markdown",
     "metadata": {
      "internals": {
       "slide_helper": "subslide_end",
       "slide_type": "subslide"
      },
      "slide_helper": "slide_end",
      "slideshow": {
       "slide_type": "slide"
      }
     },
     "source": [
      "# Exercises - Crawling Twitter in Python\n",
      "\n",
      "by \n",
      "\n",
      "[__Michael Granitzer__ (michael.granitzer@uni-passau.de)]( http://www.mendeley.com/profiles/michael-granitzer/)\n",
      "\n",
      "<p>\n",
      "<p>\n",
      "<br>\n",
      "__Licences__\n",
      "<br />This work is licensed under a <a rel=\"license\" href=\"http://creativecommons.org/licenses/by-nc-sa/4.0/\">Creative Commons Attribution-NonCommercial-ShareAlike 4.0 International License</a>.\n",
      "<a rel=\"license\" href=\"http://creativecommons.org/licenses/by-nc-sa/4.0/\" align=\"left\"><img alt=\"Creative Commons License\" style=\"border-width:0\" src=\"https://i.creativecommons.org/l/by-nc-sa/4.0/88x31.png\" /></a>\n"
     ]
    },
    {
     "cell_type": "heading",
     "level": 1,
     "metadata": {
      "heading_collapsed": false,
      "internals": {
       "slide_type": "subslide"
      },
      "slideshow": {
       "slide_type": "slide"
      }
     },
     "source": [
      "Exercise I - Authentication with Twitter"
     ]
    },
    {
     "cell_type": "heading",
     "level": 2,
     "metadata": {
      "heading_collapsed": false,
      "internals": {
       "frag_number": 2
      },
      "slideshow": {
       "slide_type": "fragment"
      }
     },
     "source": [
      "Task"
     ]
    },
    {
     "cell_type": "markdown",
     "metadata": {
      "internals": {
       "frag_helper": "fragment_end",
       "frag_number": 3,
       "slide_helper": "subslide_end"
      },
      "slide_helper": "subslide_end",
      "slideshow": {
       "slide_type": "fragment"
      }
     },
     "source": [
      "The first exercise is about to authenticating an Application against the Twitters API with OAuth 1.0a.\n",
      "\n",
      "[Twitter still uses OAuth 1.0a](https://dev.twitter.com/oauth) for authentication in two forms:\n",
      "\n",
      "1. **Application-user authentication:** where an application makes requests in a user context. This provides the full Twitter funcationality for a user, like for example posting tweets.\n",
      "2. **Application-only authentication** where an application makes requests *without* an user context. Hence, user-centred commands like posting tweets are not possible"
     ]
    },
    {
     "cell_type": "markdown",
     "metadata": {
      "internals": {
       "frag_helper": "fragment_end",
       "frag_number": 3,
       "slide_type": "subslide"
      },
      "slideshow": {
       "slide_type": "subslide"
      }
     },
     "source": [
      "Your task now is to **implement an Application-only authentication** with Twitter and the [`requests` library](http://docs.python-requests.org/en/latest/user/install/) (if the `requests` library is not installed, you need to install it. See the V.WMA-Crawling-Twitter Notebook).\n",
      "\n",
      "1. For a general overview read through the [Twitter oAuth FAQ](https://dev.twitter.com/oauth/overview/faq).\n",
      "2. If you do not have a Twitter Account, register one at Twitter.com (You can delete it after the lecture)\n",
      "3. Register a Twitter App under https://apps.twitter.com/ (You can delete it after the lecture)\n",
      "4. Read through the Twitter documentation on [*Application-only authentication*](https://dev.twitter.com/oauth/application-only) under https://dev.twitter.com/oauth/application-only. Read through section \"Issuing application-only requests\" in detail and follow the steps.\n",
      "4. Implement the authentication using that app\n",
      "5. Retrieve the [timeline](https://dev.twitter.com/rest/reference/get/statuses/user_timeline) of the user with screen name `twitterapi` and print the recent 10 Tweets.\n"
     ]
    },
    {
     "cell_type": "markdown",
     "metadata": {
      "internals": {
       "frag_helper": "fragment_end",
       "frag_number": 5,
       "slide_helper": "subslide_end"
      },
      "slide_helper": "slide_end",
      "slideshow": {
       "slide_type": "fragment"
      }
     },
     "source": [
      "\n",
      "<div class=\"alert alert-info\">\n",
      "Note: the Python module `base64` allows you to conduct Base64 encodings of parameters, as it is needed for the credentials.\n",
      "</div>"
     ]
    },
    {
     "cell_type": "heading",
     "level": 2,
     "metadata": {
      "heading_collapsed": false,
      "internals": {
       "frag_helper": "fragment_end",
       "frag_number": 5,
       "slide_helper": "subslide_end",
       "slide_type": "subslide"
      },
      "slide_helper": "subslide_end",
      "slideshow": {
       "slide_type": "slide"
      }
     },
     "source": [
      "Solution"
     ]
    },
    {
     "cell_type": "heading",
     "level": 2,
     "metadata": {
      "heading_collapsed": false,
      "internals": {
       "frag_helper": "fragment_end",
       "frag_number": 5,
       "slide_type": "subslide"
      },
      "slideshow": {
       "slide_type": "subslide"
      }
     },
     "source": [
      "Register an App and Getting ID + Secret"
     ]
    },
    {
     "cell_type": "markdown",
     "metadata": {
      "internals": {
       "frag_helper": "fragment_end",
       "frag_number": 8,
       "slide_helper": "subslide_end"
      },
      "slide_helper": "subslide_end",
      "slideshow": {
       "slide_type": "fragment"
      }
     },
     "source": [
      "<img src=\"files/images/twitter-app.png\" width=\"50%\"/>"
     ]
    },
    {
     "cell_type": "markdown",
     "metadata": {
      "internals": {
       "frag_helper": "fragment_end",
       "frag_number": 8,
       "slide_helper": "subslide_end",
       "slide_type": "subslide"
      },
      "slide_helper": "subslide_end",
      "slideshow": {
       "slide_type": "subslide"
      }
     },
     "source": [
      "<img src=\"files/images/twitter-app-ii.png\" width=\"50%\"/>"
     ]
    },
    {
     "cell_type": "markdown",
     "metadata": {
      "internals": {
       "frag_helper": "fragment_end",
       "frag_number": 8,
       "slide_helper": "subslide_end",
       "slide_type": "subslide"
      },
      "slide_helper": "subslide_end",
      "slideshow": {
       "slide_type": "subslide"
      }
     },
     "source": [
      "<img src=\"files/images/twitter-app-iii.png\" width=\"50%\"/>"
     ]
    },
    {
     "cell_type": "markdown",
     "metadata": {
      "internals": {
       "frag_helper": "fragment_end",
       "frag_number": 8,
       "slide_helper": "subslide_end",
       "slide_type": "subslide"
      },
      "slide_helper": "subslide_end",
      "slideshow": {
       "slide_type": "subslide"
      }
     },
     "source": [
      "<img src=\"files/images/twitter-app-iv.png\" width=\"50%\"/>"
     ]
    },
    {
     "cell_type": "heading",
     "level": 2,
     "metadata": {
      "heading_collapsed": false,
      "internals": {
       "frag_helper": "fragment_end",
       "frag_number": 8,
       "slide_type": "subslide"
      },
      "slideshow": {
       "slide_type": "subslide"
      }
     },
     "source": [
      "Getting the access token"
     ]
    },
    {
     "cell_type": "code",
     "collapsed": false,
     "input": [
      "import requests\n",
      "import base64\n",
      "clientid = \"IhrU9UwHys1IBnVXh2tLt5dDW\"\n",
      "clientsecret =\"H4kL6FHOJlZ0wiCHUhqD2u3FmRm2q8vKJRqoqCwJzEN5t9Fsfw\" #the secret has been scrambled. Use your own.\n",
      "\n",
      "def get_access_token(clientid, clientsecret):\n",
      "    base64EncodedCredentials = base64.b64encode(clientid+\":\"+clientsecret)\n",
      "    params = {\"grant_type\":\"client_credentials\"}\n",
      "    header = {\"Content-Type\":\"application/x-www-form-urlencoded;charset=UTF-8\",\n",
      "              \"Authorization\":\"Basic \" + base64EncodedCredentials}\n",
      "\n",
      "    r = requests.post(\"https://api.twitter.com/oauth2/token\", \n",
      "                      data = params,\n",
      "                      headers = header)\n",
      "\n",
      "    if r.status_code == requests.codes.ok:\n",
      "        print r.json()\n",
      "        print \"Successfull. I obtained the following token type: %s\" % r.json()[\"token_type\"]\n",
      "        return r.json()[\"access_token\"]\n",
      "    else:\n",
      "        print \"Error. Could not connect to twitter:\", r\n",
      "        raise IOError(\"Could not access Twitter. Maybe invalid credentials?\")\n",
      "token = get_access_token(clientid, clientsecret)\n",
      "print \"Access token: %s\"% token"
     ],
     "language": "python",
     "metadata": {
      "internals": {
       "frag_helper": "fragment_end",
       "frag_number": 13,
       "slide_helper": "subslide_end"
      },
      "slide_helper": "subslide_end",
      "slideshow": {
       "slide_type": "fragment"
      }
     },
     "outputs": [
      {
       "output_type": "stream",
       "stream": "stdout",
       "text": [
        "The history saving thread hit an unexpected error (OperationalError('attempt to write a readonly database',)).History will not be written to the database.\n",
        "{u'token_type': u'bearer', u'access_token': u'AAAAAAAAAAAAAAAAAAAAABN9bAAAAAAAvducD2FaM4ASYDk8GM7HxYlYSUg%3DM8XHQ5xojyNJKdCgNyMPIwBCAPX60IYKBHeTrmSzixlvl999NP'}"
       ]
      },
      {
       "output_type": "stream",
       "stream": "stdout",
       "text": [
        "\n",
        "Successfull. I obtained the following token type: bearer\n",
        "Access token: AAAAAAAAAAAAAAAAAAAAABN9bAAAAAAAvducD2FaM4ASYDk8GM7HxYlYSUg%3DM8XHQ5xojyNJKdCgNyMPIwBCAPX60IYKBHeTrmSzixlvl999NP\n"
       ]
      }
     ],
     "prompt_number": 45
    },
    {
     "cell_type": "heading",
     "level": 2,
     "metadata": {
      "heading_collapsed": false,
      "internals": {
       "frag_helper": "fragment_end",
       "frag_number": 13,
       "slide_type": "subslide"
      },
      "slideshow": {
       "slide_type": "subslide"
      }
     },
     "source": [
      "Invoking a request"
     ]
    },
    {
     "cell_type": "code",
     "collapsed": false,
     "input": [
      "if token:\n",
      "    print token\n",
      "    params = {\"screen_name\" : \"twitterapi\",\n",
      "              \"count\" : \"20\"}             \n",
      "    header = {\"Authorization\" : \"Bearer {}\".format(token),\n",
      "              'Accept-Encoding': 'gzip',}\n",
      "    r = requests.get(\"https://api.twitter.com/1.1/statuses/user_timeline.json\",\n",
      "                 params = params,\n",
      "                 headers = header)\n",
      "    for tweet in r.json():\n",
      "        print tweet[\"created_at\"],\":\\t\",tweet[\"text\"]"
     ],
     "language": "python",
     "metadata": {
      "internals": {
       "frag_helper": "fragment_end",
       "frag_number": 15,
       "slide_helper": "subslide_end"
      },
      "slide_helper": "slide_end",
      "slideshow": {
       "slide_type": "fragment"
      }
     },
     "outputs": [
      {
       "output_type": "stream",
       "stream": "stdout",
       "text": [
        "AAAAAAAAAAAAAAAAAAAAABN9bAAAAAAAvducD2FaM4ASYDk8GM7HxYlYSUg%3DM8XHQ5xojyNJKdCgNyMPIwBCAPX60IYKBHeTrmSzixlvl999NP\n",
        "Wed Oct 22 20:53:38 +0000 2014"
       ]
      },
      {
       "output_type": "stream",
       "stream": "stdout",
       "text": [
        " :\tWe've published updated Developer Policy and Agreement documents today - announcement on our forums https://t.co/TS3nKGCrea\n",
        "Wed Oct 22 19:58:12 +0000 2014 :\tAnnouncing @fabric: The easiest way to make the best apps https://t.co/TmEGvIskQ1\n",
        "Wed Oct 15 10:54:09 +0000 2014 :\tRT @twittersecurity: We have disabled SSLv3 protocol support in response to the vulnerability published today. You may need to update your \u2026\n",
        "Thu Sep 25 23:53:36 +0000 2014 :\tThe OAuth / xAuth issue affecting REST endpoints has been resolved. Please visit our OAuth forums for support https://t.co/XiKCrlfCNX\n",
        "Thu Sep 25 21:43:05 +0000 2014 :\tWe are aware of the OAuth / xAuth issue affecting REST endpoints. We are addressing the issue and will update when resolved.\n",
        "Tue Sep 16 23:11:22 +0000 2014 :\tRT @TwitterDev: We're building great content for @Flight. Apply to attend &amp; learn what's behind the red lines. http://t.co/u0oD3is0CI http:\u2026\n",
        "Wed Sep 10 17:18:15 +0000 2014 :\tRT @crashlytics: Join Crashlytics and Twitter @Flight to learn how we can help you build the best mobile apps. http://t.co/rbvYUO6QkZ http:\u2026\n",
        "Wed Sep 10 17:18:02 +0000 2014 :\tRT @TwitterDev: Join us at Twitter @Flight and learn how we can help you build the best mobile apps. October 22nd, in SF. Visit http://t.co\u2026\n",
        "Wed Aug 06 21:47:55 +0000 2014 :\tRT @TwitterDev: Learn how to consume millions of tweets with @twitterapi at #TDC2014 in S\u00e3o Paulo #bigdata tomorrow at 2:10pm http://t.co/p\u2026\n",
        "Tue Jul 22 16:23:51 +0000 2014 :\tRT @TwitterDev: Join us in 1 hour for a G+ Hangout to learn how to get more from a Tweet using Twitter Cards\n",
        "https://t.co/pHnC9KFqm0\n",
        "https:\u2026\n",
        "Wed Jul 16 19:58:47 +0000 2014 :\tRT @TwitterDev: Now available, Answers by Crashlytics. Gain insight into your app\u2019s usage. Learn more and get started. https://t.co/t35pKS1\u2026\n",
        "Mon Jun 23 22:06:18 +0000 2014 :\tGoal! Detecting the most important World Cup moments https://t.co/D6SEk3EwYR\n",
        "Wed Jun 11 17:17:39 +0000 2014 :\tRT @crashlytics: Why do it once when you can do it twice? Crashlytics + Twitter Invite You to our I/O Party http://t.co/CaK42rjbfj http://t\u2026\n",
        "Wed Jun 11 16:31:44 +0000 2014 :\tRT @TweetDeck: A security issue that affected TweetDeck this morning has been fixed. Please log out of TweetDeck and log back in to fully a\u2026\n",
        "Thu May 29 17:43:23 +0000 2014 :\tNow available, Beta by Crashlytics.  Invite and manage testers for your apps. https://t.co/qcmMuq8XrZ\n",
        "Thu May 29 17:41:43 +0000 2014 :\tRT @crashlytics: It\u2019s Official. Introducing Beta by Crashlytics http://t.co/07StxbrdXl #androiddev #iosdev http://t.co/cexybiOUor\n",
        "Tue May 27 18:08:45 +0000 2014 :\tRT @TwitterDev: Come hangout with @TwitterDev on May 29th at 1PM PDT and ask your API and syndication questions! http://t.co/KMuvnNOCgw\n",
        "Thu May 22 20:38:58 +0000 2014 :\tOn May 28th PDT (UTC-7) we will launch support for composing tweets with multiple images via the REST API. Details: https://t.co/XB1rnLfFmo\n",
        "Wed May 21 18:29:30 +0000 2014 :\tRT @TwitterDev: Developer Spotlight: Botanicalls via @jbulava  https://t.co/EtJEF3XFOt\n",
        "Fri May 16 17:13:22 +0000 2014 :\tForthcoming tweak to streaming API error codes from June https://t.co/HbQsmbkLmQ\n"
       ]
      }
     ],
     "prompt_number": 44
    },
    {
     "cell_type": "heading",
     "level": 1,
     "metadata": {
      "heading_collapsed": false,
      "internals": {
       "frag_helper": "fragment_end",
       "frag_number": 15,
       "slide_helper": "subslide_end",
       "slide_type": "subslide"
      },
      "slide_helper": "subslide_end",
      "slideshow": {
       "slide_type": "slide"
      }
     },
     "source": [
      "Exercise II: Searching Twitter and Analyzing Tweets"
     ]
    },
    {
     "cell_type": "heading",
     "level": 2,
     "metadata": {
      "heading_collapsed": false,
      "internals": {
       "frag_helper": "fragment_end",
       "frag_number": 15,
       "slide_type": "subslide"
      },
      "slideshow": {
       "slide_type": "subslide"
      }
     },
     "source": [
      "Task"
     ]
    },
    {
     "cell_type": "markdown",
     "metadata": {
      "internals": {
       "frag_helper": "fragment_end",
       "frag_number": 18
      },
      "slideshow": {
       "slide_type": "fragment"
      }
     },
     "source": [
      "Create a class  called `TwitterAPI` that allows you to\n",
      "\n",
      "1. Authenticating your ython program against the Twitter API (see previous exercise). This is best done as constructor of the class.\n",
      "2. Search for tweets\n",
      "3. Obtaining the timeline and homeline of a user\n",
      "4. Obtaining individual tweets\n",
      "5. Obtaining user information\n",
      "\n",
      "After creating the `TwitterAPI` class, use it to:\n",
      "\n",
      "1. Obtain all recent tweets relating to \"Passau\"\n",
      "2. Analyze the tweets regarding\n",
      "   1. The frequency of hash tags occuring in the tweets \n",
      "   2. The frequency of entities and users in the tweets\n",
      "   3. The burstiness of tweets, i.e. the distribution of the time differnce between two subsequent tweets\n",
      "   4. The frequency of the polarity of tweets as provided by twitter\n",
      "   5. The frequency of words in an entity\n",
      "   6. The lexical diversity given as $$lexicalDiversity =\\frac{\\# uniqueWords}{\\#words}$$\n",
      "3. Conduct the same analysis with currently trending topics\n"
     ]
    },
    {
     "cell_type": "markdown",
     "metadata": {
      "internals": {
       "frag_helper": "fragment_end",
       "frag_number": 19
      },
      "slideshow": {
       "slide_type": "fragment"
      }
     },
     "source": [
      "<div class=\"alert alert-info\">\n",
      "Note that there is a `Counter` class in the `collections` module that should help with counting occurrences.\n",
      "</div>\n"
     ]
    },
    {
     "cell_type": "markdown",
     "metadata": {
      "internals": {
       "frag_helper": "fragment_end",
       "frag_number": 20,
       "slide_helper": "subslide_end"
      },
      "slide_helper": "subslide_end",
      "slideshow": {
       "slide_type": "fragment"
      }
     },
     "source": [
      "<div class=\"alert alert-error\">\n",
      "Do not use the `twitter` module. Use the `requests` module.\n",
      "</div>"
     ]
    },
    {
     "cell_type": "heading",
     "level": 2,
     "metadata": {
      "heading_collapsed": false,
      "internals": {
       "frag_helper": "fragment_end",
       "frag_number": 20,
       "slide_type": "subslide"
      },
      "slideshow": {
       "slide_type": "subslide"
      }
     },
     "source": [
      "Solution"
     ]
    },
    {
     "cell_type": "code",
     "collapsed": false,
     "input": [
      "import requests\n",
      "import base64\n",
      "\n",
      "class TwitterAppOnlyAPI:\n",
      "    \"\"\"\n",
      "    This class implements simple functions for accessing the twitter api.\n",
      "    \"\"\"\n",
      "    \n",
      "    def __init__(self, client_id = \"IhrU9UwHys1IBnVXh2tLt5dDW\",\n",
      "                       client_secret = \"H4MkL6GFHOJlZ0RwiCHUhqD2Au3NFmRm2Iq8TvKJRqoqCwJzEN5Zt9EFsfw\"):\n",
      "        self.client_id = client_id\n",
      "        self.client_secret = client_secret\n",
      "        self.access_token = self.get_access_token();\n",
      "\n",
      "    def get_access_token(self):\n",
      "        \"\"\"\n",
      "        This function uses the client secrete and client id in order to get an access token\n",
      "        \"\"\"\n",
      "        base64EncodedCredentials = base64.b64encode(self.client_id + \":\" + self.client_secret)\n",
      "        params = {\"grant_type\":\"client_credentials\"}\n",
      "        header = {\"Content-Type\":\"application/x-www-form-urlencoded;charset=UTF-8\",\n",
      "                  \"Authorization\":\"Basic \" + base64EncodedCredentials}\n",
      "\n",
      "        r = requests.post(\"https://api.twitter.com/oauth2/token\", \n",
      "                          data = params,\n",
      "                          headers = header)\n",
      "\n",
      "        if r.status_code == requests.codes.ok:\n",
      "            print r.json()\n",
      "            return r.json()[\"access_token\"]\n",
      "        else:\n",
      "            raise IOError(\"Could not access Twitter. Maybe invalid credentials?\")\n",
      "\n",
      "    "
     ],
     "language": "python",
     "metadata": {
      "internals": {
       "frag_helper": "fragment_end",
       "frag_number": 22,
       "slide_helper": "subslide_end"
      },
      "slide_helper": "slide_end",
      "slideshow": {
       "slide_type": "fragment"
      }
     },
     "outputs": [],
     "prompt_number": 47
    },
    {
     "cell_type": "heading",
     "level": 1,
     "metadata": {
      "heading_collapsed": false,
      "internals": {
       "frag_helper": "fragment_end",
       "frag_number": 22,
       "slide_type": "subslide"
      },
      "slideshow": {
       "slide_type": "slide"
      }
     },
     "source": [
      "Exercise III: Use the `twitter` module for accessing Twitter"
     ]
    },
    {
     "cell_type": "heading",
     "level": 2,
     "metadata": {
      "heading_collapsed": false,
      "internals": {
       "frag_helper": "fragment_end",
       "frag_number": 24
      },
      "slideshow": {
       "slide_type": "fragment"
      }
     },
     "source": [
      "Task"
     ]
    },
    {
     "cell_type": "markdown",
     "metadata": {
      "internals": {
       "frag_helper": "fragment_end",
       "frag_number": 25,
       "slide_helper": "subslide_end"
      },
      "slide_helper": "subslide_end",
      "slideshow": {
       "slide_type": "fragment"
      }
     },
     "source": [
      "Conduct the analysis as in Exercise II but this time use the `twitter` module (or another third party library of your choice)"
     ]
    },
    {
     "cell_type": "heading",
     "level": 3,
     "metadata": {
      "heading_collapsed": false,
      "internals": {
       "frag_helper": "fragment_end",
       "frag_number": 25,
       "slide_type": "subslide"
      },
      "slideshow": {
       "slide_type": "subslide"
      }
     },
     "source": [
      "Solution"
     ]
    },
    {
     "cell_type": "markdown",
     "metadata": {
      "internals": {
       "frag_helper": "fragment_end",
       "frag_number": 27,
       "slide_helper": "subslide_end"
      },
      "slide_helper": "slide_end",
      "slideshow": {
       "slide_type": "fragment"
      }
     },
     "source": [
      "to come..."
     ]
    }
   ],
   "metadata": {}
  }
 ]
}