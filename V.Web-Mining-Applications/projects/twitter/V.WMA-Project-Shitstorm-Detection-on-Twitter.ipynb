{
 "metadata": {
  "celltoolbar": "Slideshow",
  "name": "",
  "signature": "sha256:959e875d5a5a7b06e89097ff57fefb0974fbaccfd9e5450dd395d1f6dc4de4fb"
 },
 "nbformat": 3,
 "nbformat_minor": 0,
 "worksheets": [
  {
   "cells": [
    {
     "cell_type": "markdown",
     "metadata": {},
     "source": [
      "# Web Mining Project: Shitstorm Detection on Twitter\n",
      "\n",
      "by \n",
      "\n",
      "[__Michael Granitzer__ (michael.granitzer@uni-passau.de)]( http://www.mendeley.com/profiles/michael-granitzer/)\n",
      "\n",
      "<p>\n",
      "<p>\n",
      "<br>\n",
      "__Licences__\n",
      "<br />This work is licensed under a <a rel=\"license\" href=\"http://creativecommons.org/licenses/by-nc-sa/4.0/\">Creative Commons Attribution-NonCommercial-ShareAlike 4.0 International License</a>.\n",
      "<a rel=\"license\" href=\"http://creativecommons.org/licenses/by-nc-sa/4.0/\" align=\"left\"><img alt=\"Creative Commons License\" style=\"border-width:0\" src=\"https://i.creativecommons.org/l/by-nc-sa/4.0/88x31.png\" /></a>\n"
     ]
    },
    {
     "cell_type": "heading",
     "level": 1,
     "metadata": {
      "heading_collapsed": false,
      "slideshow": {
       "slide_type": "subslide"
      }
     },
     "source": [
      "Task"
     ]
    },
    {
     "cell_type": "markdown",
     "metadata": {},
     "source": [
      "Consider the following scenario: You are working in the research department of a web company. Your boss approaches you with a new product idea:\n",
      "\n",
      "\"I want to scan Twitter for shitstorms. I would envision a site which shows a tag cloud with hash tags. Hash tags are encoded red if there is a shitstorm ongoing and green if there is none ongoing. Clicking on a hash tag reveals a time line showing when the shitstorm started and how it progressed. We are finished with the web-design and that would really look cool. However, we do not have a clue whether it is feasible to detect shitstorms and what the required infrastructure is. Could you help us out?\"\n",
      "\n",
      "Before leaving she turns back and says: \"Oh, i forgot. You can team up with up to 3 people from the research department and you are given 120 hours time for each of you to work on this. I won't get more budget from our investors and there are tons of other things to do. So keep your time budget (or do it in your spare time).\" \n",
      "\n",
      "\n",
      "Please keep in mind that you do not have to realise the system your boss asked for. Quite contrary, you have to develop a prototype that allows you to analyse the feasibility of such a service and ideally you could tell your boss (and the development department) how to implement such a service and the costs associated with it. To put it short: **your boss wants to have well justified answers, not source code. **\n",
      "\n",
      "You have to deliver your answers (and code snippets) in an ipython notebook and present it to your boss or his deputy(= in that case it is me). "
     ]
    },
    {
     "cell_type": "heading",
     "level": 1,
     "metadata": {
      "heading_collapsed": false,
      "slideshow": {
       "slide_type": "subslide"
      }
     },
     "source": [
      "Implementation Details\n"
     ]
    },
    {
     "cell_type": "markdown",
     "metadata": {
      "slideshow": {
       "slide_type": "fragment"
      }
     },
     "source": [
      "The following is a propsed modularization of your approach\n",
      "\n",
      "1. **Test Data Gathering**: Consider recent shitstorms (e.g. #Furgeson) and gather data you can use for testing. You need to crawl the Twitter API therefore.\n",
      "2. **Preprocess** the data and extract apropriate features. Remember that feature engineering is important. Consider what features to use and what their scale is.\n",
      "3. **Analyse the data and train** a supervised classifier to make future prediction.\n",
      "4. **Analyse your system**. What is the quality of your estimator? How fast could you detect a shitstorm? What are the limits your system has?"
     ]
    },
    {
     "cell_type": "heading",
     "level": 1,
     "metadata": {
      "heading_collapsed": false,
      "slideshow": {
       "slide_type": "subslide"
      }
     },
     "source": [
      "How to get a good grade"
     ]
    },
    {
     "cell_type": "markdown",
     "metadata": {
      "slideshow": {
       "slide_type": "fragment"
      }
     },
     "source": [
      "The **minimum requirement is to implement the tasks** and get it working. However, Web Mining is not solely about getting the system working. It requires a lot of understanding on the underlying methods and a lot of data analysis as well as the evaluation of used attributes, parameters and methods. \n",
      "\n",
      "Also, it is not solely about a technical realisation, but about **understanding its abilities and limitations** as well as its abilities to detect interesting patterns (and not trivial patterns or patterns caused by noise). You need to precisly pinpoint the **properties of the system**, its strenghts and weaknesses.\n",
      "\n",
      "So obtaining a **good grade requires to answer a set of certain questions**:\n",
      "\n",
      "1. How accurate can you detect shitstorms? \n",
      "2. How scalable is your method?\n",
      "2. In which cases does your method fail and which cases are covered quite well?\n",
      "3. What are the best features to indicate shitstorms on Twitter? \n",
      "4. What is the impact of different machine learning/text mining methods (i.e. supervised/unsupervised/lexical resourcs) on your approach?\n",
      "4. Given enough time and resources, how could you improve your method?\n",
      "5. What other interesting questions did your work trigger?\n",
      "\n",
      "\n",
      "<p>\n",
      "<div class=\"alert alert-info\">\n",
      "As you can see from the questions above, a good grade depends more on the insight you gained from the project, rather than the implementation itself. \n",
      "</div>"
     ]
    },
    {
     "cell_type": "heading",
     "level": 3,
     "metadata": {
      "heading_collapsed": false,
      "slideshow": {
       "slide_type": "subslide"
      }
     },
     "source": [
      "Dont's, if you want to pass"
     ]
    },
    {
     "cell_type": "markdown",
     "metadata": {},
     "source": [
      "- Discussion yes, plagiarism no. \n",
      "- Contributions from everybody in the group (no one-carries-all approach). You need to clearly state each members contribution. \n",
      "- Cite properly. Use of external resources (e.g. Code Snippets) is allowed, but you have to cite them properly. "
     ]
    }
   ],
   "metadata": {}
  }
 ]
}